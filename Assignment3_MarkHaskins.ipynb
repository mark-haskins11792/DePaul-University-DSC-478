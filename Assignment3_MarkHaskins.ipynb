{
 "cells": [
  {
   "cell_type": "markdown",
   "id": "bfa92977",
   "metadata": {},
   "source": [
    "# Assignment 3"
   ]
  },
  {
   "cell_type": "markdown",
   "id": "50945544",
   "metadata": {},
   "source": [
    "## Mark Haskins"
   ]
  },
  {
   "cell_type": "markdown",
   "id": "d0b7ad4f",
   "metadata": {},
   "source": [
    "#### Importing libraries"
   ]
  },
  {
   "cell_type": "code",
   "execution_count": 823,
   "id": "ef72c436",
   "metadata": {},
   "outputs": [],
   "source": [
    "import pandas as pd\n",
    "import numpy as np\n",
    "from sklearn.model_selection import train_test_split\n",
    "from sklearn.linear_model import LinearRegression\n",
    "import pylab as pl\n",
    "from sklearn.model_selection import KFold\n",
    "%matplotlib inline\n",
    "from sklearn.metrics import mean_squared_error, mean_absolute_error\n",
    "from sklearn import feature_selection\n",
    "from sklearn.model_selection import cross_val_score\n",
    "import sklearn.metrics as metrics\n",
    "from sklearn.linear_model import Ridge\n",
    "from sklearn.linear_model import Lasso\n",
    "import matplotlib.pyplot as plt\n",
    "from sklearn.model_selection import KFold\n",
    "from sklearn.linear_model import SGDRegressor\n",
    "from sklearn.preprocessing import StandardScaler\n",
    "from sklearn.model_selection import GridSearchCV\n",
    "from sklearn.linear_model import ElasticNet\n",
    "from numpy import *\n",
    "from sklearn.metrics import completeness_score, homogeneity_score"
   ]
  },
  {
   "cell_type": "markdown",
   "id": "4ef1cfc7",
   "metadata": {},
   "source": [
    "### Problem 1a"
   ]
  },
  {
   "cell_type": "markdown",
   "id": "45f356e6",
   "metadata": {},
   "source": [
    "#### Load into Pandas dataframe. Remove state and community name"
   ]
  },
  {
   "cell_type": "code",
   "execution_count": 824,
   "id": "d1aa0f90",
   "metadata": {},
   "outputs": [
    {
     "data": {
      "text/html": [
       "<div>\n",
       "<style scoped>\n",
       "    .dataframe tbody tr th:only-of-type {\n",
       "        vertical-align: middle;\n",
       "    }\n",
       "\n",
       "    .dataframe tbody tr th {\n",
       "        vertical-align: top;\n",
       "    }\n",
       "\n",
       "    .dataframe thead th {\n",
       "        text-align: right;\n",
       "    }\n",
       "</style>\n",
       "<table border=\"1\" class=\"dataframe\">\n",
       "  <thead>\n",
       "    <tr style=\"text-align: right;\">\n",
       "      <th></th>\n",
       "      <th>population</th>\n",
       "      <th>householdsize</th>\n",
       "      <th>racepctblack</th>\n",
       "      <th>racePctWhite</th>\n",
       "      <th>racePctAsian</th>\n",
       "      <th>racePctHisp</th>\n",
       "      <th>agePct12t21</th>\n",
       "      <th>agePct12t29</th>\n",
       "      <th>agePct16t24</th>\n",
       "      <th>agePct65up</th>\n",
       "      <th>...</th>\n",
       "      <th>NumStreet</th>\n",
       "      <th>PctForeignBorn</th>\n",
       "      <th>PctBornSameState</th>\n",
       "      <th>PctSameHouse85</th>\n",
       "      <th>PctSameCity85</th>\n",
       "      <th>PctSameState85</th>\n",
       "      <th>LandArea</th>\n",
       "      <th>PopDens</th>\n",
       "      <th>PctUsePubTrans</th>\n",
       "      <th>ViolentCrimesPerPop</th>\n",
       "    </tr>\n",
       "  </thead>\n",
       "  <tbody>\n",
       "    <tr>\n",
       "      <th>0</th>\n",
       "      <td>0.19</td>\n",
       "      <td>0.33</td>\n",
       "      <td>0.02</td>\n",
       "      <td>0.90</td>\n",
       "      <td>0.12</td>\n",
       "      <td>0.17</td>\n",
       "      <td>0.34</td>\n",
       "      <td>0.47</td>\n",
       "      <td>0.29</td>\n",
       "      <td>0.32</td>\n",
       "      <td>...</td>\n",
       "      <td>0.0</td>\n",
       "      <td>0.12</td>\n",
       "      <td>0.42</td>\n",
       "      <td>0.50</td>\n",
       "      <td>0.51</td>\n",
       "      <td>0.64</td>\n",
       "      <td>0.12</td>\n",
       "      <td>0.26</td>\n",
       "      <td>0.20</td>\n",
       "      <td>0.20</td>\n",
       "    </tr>\n",
       "    <tr>\n",
       "      <th>1</th>\n",
       "      <td>0.00</td>\n",
       "      <td>0.16</td>\n",
       "      <td>0.12</td>\n",
       "      <td>0.74</td>\n",
       "      <td>0.45</td>\n",
       "      <td>0.07</td>\n",
       "      <td>0.26</td>\n",
       "      <td>0.59</td>\n",
       "      <td>0.35</td>\n",
       "      <td>0.27</td>\n",
       "      <td>...</td>\n",
       "      <td>0.0</td>\n",
       "      <td>0.21</td>\n",
       "      <td>0.50</td>\n",
       "      <td>0.34</td>\n",
       "      <td>0.60</td>\n",
       "      <td>0.52</td>\n",
       "      <td>0.02</td>\n",
       "      <td>0.12</td>\n",
       "      <td>0.45</td>\n",
       "      <td>0.67</td>\n",
       "    </tr>\n",
       "    <tr>\n",
       "      <th>2</th>\n",
       "      <td>0.00</td>\n",
       "      <td>0.42</td>\n",
       "      <td>0.49</td>\n",
       "      <td>0.56</td>\n",
       "      <td>0.17</td>\n",
       "      <td>0.04</td>\n",
       "      <td>0.39</td>\n",
       "      <td>0.47</td>\n",
       "      <td>0.28</td>\n",
       "      <td>0.32</td>\n",
       "      <td>...</td>\n",
       "      <td>0.0</td>\n",
       "      <td>0.14</td>\n",
       "      <td>0.49</td>\n",
       "      <td>0.54</td>\n",
       "      <td>0.67</td>\n",
       "      <td>0.56</td>\n",
       "      <td>0.01</td>\n",
       "      <td>0.21</td>\n",
       "      <td>0.02</td>\n",
       "      <td>0.43</td>\n",
       "    </tr>\n",
       "    <tr>\n",
       "      <th>3</th>\n",
       "      <td>0.04</td>\n",
       "      <td>0.77</td>\n",
       "      <td>1.00</td>\n",
       "      <td>0.08</td>\n",
       "      <td>0.12</td>\n",
       "      <td>0.10</td>\n",
       "      <td>0.51</td>\n",
       "      <td>0.50</td>\n",
       "      <td>0.34</td>\n",
       "      <td>0.21</td>\n",
       "      <td>...</td>\n",
       "      <td>0.0</td>\n",
       "      <td>0.19</td>\n",
       "      <td>0.30</td>\n",
       "      <td>0.73</td>\n",
       "      <td>0.64</td>\n",
       "      <td>0.65</td>\n",
       "      <td>0.02</td>\n",
       "      <td>0.39</td>\n",
       "      <td>0.28</td>\n",
       "      <td>0.12</td>\n",
       "    </tr>\n",
       "    <tr>\n",
       "      <th>4</th>\n",
       "      <td>0.01</td>\n",
       "      <td>0.55</td>\n",
       "      <td>0.02</td>\n",
       "      <td>0.95</td>\n",
       "      <td>0.09</td>\n",
       "      <td>0.05</td>\n",
       "      <td>0.38</td>\n",
       "      <td>0.38</td>\n",
       "      <td>0.23</td>\n",
       "      <td>0.36</td>\n",
       "      <td>...</td>\n",
       "      <td>0.0</td>\n",
       "      <td>0.11</td>\n",
       "      <td>0.72</td>\n",
       "      <td>0.64</td>\n",
       "      <td>0.61</td>\n",
       "      <td>0.53</td>\n",
       "      <td>0.04</td>\n",
       "      <td>0.09</td>\n",
       "      <td>0.02</td>\n",
       "      <td>0.03</td>\n",
       "    </tr>\n",
       "  </tbody>\n",
       "</table>\n",
       "<p>5 rows × 98 columns</p>\n",
       "</div>"
      ],
      "text/plain": [
       "   population  householdsize  racepctblack  racePctWhite  racePctAsian  \\\n",
       "0        0.19           0.33          0.02          0.90          0.12   \n",
       "1        0.00           0.16          0.12          0.74          0.45   \n",
       "2        0.00           0.42          0.49          0.56          0.17   \n",
       "3        0.04           0.77          1.00          0.08          0.12   \n",
       "4        0.01           0.55          0.02          0.95          0.09   \n",
       "\n",
       "   racePctHisp  agePct12t21  agePct12t29  agePct16t24  agePct65up  ...  \\\n",
       "0         0.17         0.34         0.47         0.29        0.32  ...   \n",
       "1         0.07         0.26         0.59         0.35        0.27  ...   \n",
       "2         0.04         0.39         0.47         0.28        0.32  ...   \n",
       "3         0.10         0.51         0.50         0.34        0.21  ...   \n",
       "4         0.05         0.38         0.38         0.23        0.36  ...   \n",
       "\n",
       "   NumStreet  PctForeignBorn  PctBornSameState  PctSameHouse85  PctSameCity85  \\\n",
       "0        0.0            0.12              0.42            0.50           0.51   \n",
       "1        0.0            0.21              0.50            0.34           0.60   \n",
       "2        0.0            0.14              0.49            0.54           0.67   \n",
       "3        0.0            0.19              0.30            0.73           0.64   \n",
       "4        0.0            0.11              0.72            0.64           0.61   \n",
       "\n",
       "   PctSameState85  LandArea  PopDens  PctUsePubTrans  ViolentCrimesPerPop  \n",
       "0            0.64      0.12     0.26            0.20                 0.20  \n",
       "1            0.52      0.02     0.12            0.45                 0.67  \n",
       "2            0.56      0.01     0.21            0.02                 0.43  \n",
       "3            0.65      0.02     0.39            0.28                 0.12  \n",
       "4            0.53      0.04     0.09            0.02                 0.03  \n",
       "\n",
       "[5 rows x 98 columns]"
      ]
     },
     "execution_count": 824,
     "metadata": {},
     "output_type": "execute_result"
    }
   ],
   "source": [
    "communities = pd.read_csv(\"communities.csv\")\n",
    "columns = ['state', 'communityname']\n",
    "communities.drop(columns, inplace=True, axis=1)\n",
    "communities.head(5)"
   ]
  },
  {
   "cell_type": "markdown",
   "id": "af01722b",
   "metadata": {},
   "source": [
    "#### Unable to find the missing values. Attempt to strore them as a list and print, but it returns 0 elements. "
   ]
  },
  {
   "cell_type": "code",
   "execution_count": 825,
   "id": "92853ef4",
   "metadata": {},
   "outputs": [
    {
     "name": "stdout",
     "output_type": "stream",
     "text": [
      "[]\n"
     ]
    }
   ],
   "source": [
    "a = communities.columns[communities.isnull().any()].tolist()\n",
    "a = [col for col in communities.columns if communities[col].isnull().any()]\n",
    "print(a)"
   ]
  },
  {
   "cell_type": "markdown",
   "id": "6fbbc0fc",
   "metadata": {},
   "source": [
    "#### After attempting linear regression further down, realise there is a '?' causing the error. Use lambda function to locate row and column and pass as index. Single '?' value in the OtherPerCap column. "
   ]
  },
  {
   "cell_type": "code",
   "execution_count": 826,
   "id": "61c3704b",
   "metadata": {},
   "outputs": [
    {
     "name": "stdout",
     "output_type": "stream",
     "text": [
      "Column Name:\n",
      "OtherPerCap\n",
      "Value:\n",
      "?\n"
     ]
    }
   ],
   "source": [
    "badvalue = '?'\n",
    "mask = communities.applymap(lambda x: badvalue in x.lower() if isinstance(x,str) else False).to_numpy()\n",
    "indx = np.argwhere(mask)\n",
    "r = indx[0][0]\n",
    "c = indx[0][1]\n",
    "colname = communities.columns[c]\n",
    "print('Column Name:')\n",
    "print(colname)\n",
    "print('Value:')\n",
    "print(communities.iloc[r,c])"
   ]
  },
  {
   "cell_type": "markdown",
   "id": "1cb62a91",
   "metadata": {},
   "source": [
    "#### Take Mean of this column and replace the question mark with it."
   ]
  },
  {
   "cell_type": "code",
   "execution_count": 827,
   "id": "95c3ce11",
   "metadata": {},
   "outputs": [],
   "source": [
    "a = pd.to_numeric(communities[colname], errors='coerce').mean()"
   ]
  },
  {
   "cell_type": "code",
   "execution_count": 828,
   "id": "37872ba5",
   "metadata": {},
   "outputs": [
    {
     "name": "stdout",
     "output_type": "stream",
     "text": [
      "Replaced Value:\n",
      "0.28474159558454626\n"
     ]
    }
   ],
   "source": [
    "communities.iloc[r,c]= a\n",
    "print('Replaced Value:')\n",
    "print(communities.iloc[r,c])"
   ]
  },
  {
   "cell_type": "markdown",
   "id": "4f5c6331",
   "metadata": {},
   "source": [
    "#### Basic Summary Statistics"
   ]
  },
  {
   "cell_type": "code",
   "execution_count": 829,
   "id": "80aa5595",
   "metadata": {},
   "outputs": [
    {
     "data": {
      "text/html": [
       "<div>\n",
       "<style scoped>\n",
       "    .dataframe tbody tr th:only-of-type {\n",
       "        vertical-align: middle;\n",
       "    }\n",
       "\n",
       "    .dataframe tbody tr th {\n",
       "        vertical-align: top;\n",
       "    }\n",
       "\n",
       "    .dataframe thead th {\n",
       "        text-align: right;\n",
       "    }\n",
       "</style>\n",
       "<table border=\"1\" class=\"dataframe\">\n",
       "  <thead>\n",
       "    <tr style=\"text-align: right;\">\n",
       "      <th></th>\n",
       "      <th>population</th>\n",
       "      <th>householdsize</th>\n",
       "      <th>racepctblack</th>\n",
       "      <th>racePctWhite</th>\n",
       "      <th>racePctAsian</th>\n",
       "      <th>racePctHisp</th>\n",
       "      <th>agePct12t21</th>\n",
       "      <th>agePct12t29</th>\n",
       "      <th>agePct16t24</th>\n",
       "      <th>agePct65up</th>\n",
       "      <th>...</th>\n",
       "      <th>NumStreet</th>\n",
       "      <th>PctForeignBorn</th>\n",
       "      <th>PctBornSameState</th>\n",
       "      <th>PctSameHouse85</th>\n",
       "      <th>PctSameCity85</th>\n",
       "      <th>PctSameState85</th>\n",
       "      <th>LandArea</th>\n",
       "      <th>PopDens</th>\n",
       "      <th>PctUsePubTrans</th>\n",
       "      <th>ViolentCrimesPerPop</th>\n",
       "    </tr>\n",
       "  </thead>\n",
       "  <tbody>\n",
       "    <tr>\n",
       "      <th>count</th>\n",
       "      <td>1994.00</td>\n",
       "      <td>1994.00</td>\n",
       "      <td>1994.00</td>\n",
       "      <td>1994.00</td>\n",
       "      <td>1994.00</td>\n",
       "      <td>1994.00</td>\n",
       "      <td>1994.00</td>\n",
       "      <td>1994.00</td>\n",
       "      <td>1994.00</td>\n",
       "      <td>1994.00</td>\n",
       "      <td>...</td>\n",
       "      <td>1994.00</td>\n",
       "      <td>1994.00</td>\n",
       "      <td>1994.00</td>\n",
       "      <td>1994.00</td>\n",
       "      <td>1994.00</td>\n",
       "      <td>1994.00</td>\n",
       "      <td>1994.00</td>\n",
       "      <td>1994.00</td>\n",
       "      <td>1994.00</td>\n",
       "      <td>1994.00</td>\n",
       "    </tr>\n",
       "    <tr>\n",
       "      <th>unique</th>\n",
       "      <td>NaN</td>\n",
       "      <td>NaN</td>\n",
       "      <td>NaN</td>\n",
       "      <td>NaN</td>\n",
       "      <td>NaN</td>\n",
       "      <td>NaN</td>\n",
       "      <td>NaN</td>\n",
       "      <td>NaN</td>\n",
       "      <td>NaN</td>\n",
       "      <td>NaN</td>\n",
       "      <td>...</td>\n",
       "      <td>NaN</td>\n",
       "      <td>NaN</td>\n",
       "      <td>NaN</td>\n",
       "      <td>NaN</td>\n",
       "      <td>NaN</td>\n",
       "      <td>NaN</td>\n",
       "      <td>NaN</td>\n",
       "      <td>NaN</td>\n",
       "      <td>NaN</td>\n",
       "      <td>NaN</td>\n",
       "    </tr>\n",
       "    <tr>\n",
       "      <th>top</th>\n",
       "      <td>NaN</td>\n",
       "      <td>NaN</td>\n",
       "      <td>NaN</td>\n",
       "      <td>NaN</td>\n",
       "      <td>NaN</td>\n",
       "      <td>NaN</td>\n",
       "      <td>NaN</td>\n",
       "      <td>NaN</td>\n",
       "      <td>NaN</td>\n",
       "      <td>NaN</td>\n",
       "      <td>...</td>\n",
       "      <td>NaN</td>\n",
       "      <td>NaN</td>\n",
       "      <td>NaN</td>\n",
       "      <td>NaN</td>\n",
       "      <td>NaN</td>\n",
       "      <td>NaN</td>\n",
       "      <td>NaN</td>\n",
       "      <td>NaN</td>\n",
       "      <td>NaN</td>\n",
       "      <td>NaN</td>\n",
       "    </tr>\n",
       "    <tr>\n",
       "      <th>freq</th>\n",
       "      <td>NaN</td>\n",
       "      <td>NaN</td>\n",
       "      <td>NaN</td>\n",
       "      <td>NaN</td>\n",
       "      <td>NaN</td>\n",
       "      <td>NaN</td>\n",
       "      <td>NaN</td>\n",
       "      <td>NaN</td>\n",
       "      <td>NaN</td>\n",
       "      <td>NaN</td>\n",
       "      <td>...</td>\n",
       "      <td>NaN</td>\n",
       "      <td>NaN</td>\n",
       "      <td>NaN</td>\n",
       "      <td>NaN</td>\n",
       "      <td>NaN</td>\n",
       "      <td>NaN</td>\n",
       "      <td>NaN</td>\n",
       "      <td>NaN</td>\n",
       "      <td>NaN</td>\n",
       "      <td>NaN</td>\n",
       "    </tr>\n",
       "    <tr>\n",
       "      <th>mean</th>\n",
       "      <td>0.06</td>\n",
       "      <td>0.46</td>\n",
       "      <td>0.18</td>\n",
       "      <td>0.75</td>\n",
       "      <td>0.15</td>\n",
       "      <td>0.14</td>\n",
       "      <td>0.42</td>\n",
       "      <td>0.49</td>\n",
       "      <td>0.34</td>\n",
       "      <td>0.42</td>\n",
       "      <td>...</td>\n",
       "      <td>0.02</td>\n",
       "      <td>0.22</td>\n",
       "      <td>0.61</td>\n",
       "      <td>0.54</td>\n",
       "      <td>0.63</td>\n",
       "      <td>0.65</td>\n",
       "      <td>0.07</td>\n",
       "      <td>0.23</td>\n",
       "      <td>0.16</td>\n",
       "      <td>0.24</td>\n",
       "    </tr>\n",
       "    <tr>\n",
       "      <th>std</th>\n",
       "      <td>0.13</td>\n",
       "      <td>0.16</td>\n",
       "      <td>0.25</td>\n",
       "      <td>0.24</td>\n",
       "      <td>0.21</td>\n",
       "      <td>0.23</td>\n",
       "      <td>0.16</td>\n",
       "      <td>0.14</td>\n",
       "      <td>0.17</td>\n",
       "      <td>0.18</td>\n",
       "      <td>...</td>\n",
       "      <td>0.10</td>\n",
       "      <td>0.23</td>\n",
       "      <td>0.20</td>\n",
       "      <td>0.18</td>\n",
       "      <td>0.20</td>\n",
       "      <td>0.20</td>\n",
       "      <td>0.11</td>\n",
       "      <td>0.20</td>\n",
       "      <td>0.23</td>\n",
       "      <td>0.23</td>\n",
       "    </tr>\n",
       "    <tr>\n",
       "      <th>min</th>\n",
       "      <td>0.00</td>\n",
       "      <td>0.00</td>\n",
       "      <td>0.00</td>\n",
       "      <td>0.00</td>\n",
       "      <td>0.00</td>\n",
       "      <td>0.00</td>\n",
       "      <td>0.00</td>\n",
       "      <td>0.00</td>\n",
       "      <td>0.00</td>\n",
       "      <td>0.00</td>\n",
       "      <td>...</td>\n",
       "      <td>0.00</td>\n",
       "      <td>0.00</td>\n",
       "      <td>0.00</td>\n",
       "      <td>0.00</td>\n",
       "      <td>0.00</td>\n",
       "      <td>0.00</td>\n",
       "      <td>0.00</td>\n",
       "      <td>0.00</td>\n",
       "      <td>0.00</td>\n",
       "      <td>0.00</td>\n",
       "    </tr>\n",
       "    <tr>\n",
       "      <th>25%</th>\n",
       "      <td>0.01</td>\n",
       "      <td>0.35</td>\n",
       "      <td>0.02</td>\n",
       "      <td>0.63</td>\n",
       "      <td>0.04</td>\n",
       "      <td>0.01</td>\n",
       "      <td>0.34</td>\n",
       "      <td>0.41</td>\n",
       "      <td>0.25</td>\n",
       "      <td>0.30</td>\n",
       "      <td>...</td>\n",
       "      <td>0.00</td>\n",
       "      <td>0.06</td>\n",
       "      <td>0.47</td>\n",
       "      <td>0.42</td>\n",
       "      <td>0.52</td>\n",
       "      <td>0.56</td>\n",
       "      <td>0.02</td>\n",
       "      <td>0.10</td>\n",
       "      <td>0.02</td>\n",
       "      <td>0.07</td>\n",
       "    </tr>\n",
       "    <tr>\n",
       "      <th>50%</th>\n",
       "      <td>0.02</td>\n",
       "      <td>0.44</td>\n",
       "      <td>0.06</td>\n",
       "      <td>0.85</td>\n",
       "      <td>0.07</td>\n",
       "      <td>0.04</td>\n",
       "      <td>0.40</td>\n",
       "      <td>0.48</td>\n",
       "      <td>0.29</td>\n",
       "      <td>0.42</td>\n",
       "      <td>...</td>\n",
       "      <td>0.00</td>\n",
       "      <td>0.13</td>\n",
       "      <td>0.63</td>\n",
       "      <td>0.54</td>\n",
       "      <td>0.67</td>\n",
       "      <td>0.70</td>\n",
       "      <td>0.04</td>\n",
       "      <td>0.17</td>\n",
       "      <td>0.07</td>\n",
       "      <td>0.15</td>\n",
       "    </tr>\n",
       "    <tr>\n",
       "      <th>75%</th>\n",
       "      <td>0.05</td>\n",
       "      <td>0.54</td>\n",
       "      <td>0.23</td>\n",
       "      <td>0.94</td>\n",
       "      <td>0.17</td>\n",
       "      <td>0.16</td>\n",
       "      <td>0.47</td>\n",
       "      <td>0.54</td>\n",
       "      <td>0.36</td>\n",
       "      <td>0.53</td>\n",
       "      <td>...</td>\n",
       "      <td>0.00</td>\n",
       "      <td>0.28</td>\n",
       "      <td>0.78</td>\n",
       "      <td>0.66</td>\n",
       "      <td>0.77</td>\n",
       "      <td>0.79</td>\n",
       "      <td>0.07</td>\n",
       "      <td>0.28</td>\n",
       "      <td>0.19</td>\n",
       "      <td>0.33</td>\n",
       "    </tr>\n",
       "    <tr>\n",
       "      <th>max</th>\n",
       "      <td>1.00</td>\n",
       "      <td>1.00</td>\n",
       "      <td>1.00</td>\n",
       "      <td>1.00</td>\n",
       "      <td>1.00</td>\n",
       "      <td>1.00</td>\n",
       "      <td>1.00</td>\n",
       "      <td>1.00</td>\n",
       "      <td>1.00</td>\n",
       "      <td>1.00</td>\n",
       "      <td>...</td>\n",
       "      <td>1.00</td>\n",
       "      <td>1.00</td>\n",
       "      <td>1.00</td>\n",
       "      <td>1.00</td>\n",
       "      <td>1.00</td>\n",
       "      <td>1.00</td>\n",
       "      <td>1.00</td>\n",
       "      <td>1.00</td>\n",
       "      <td>1.00</td>\n",
       "      <td>1.00</td>\n",
       "    </tr>\n",
       "  </tbody>\n",
       "</table>\n",
       "<p>11 rows × 98 columns</p>\n",
       "</div>"
      ],
      "text/plain": [
       "        population  householdsize  racepctblack  racePctWhite  racePctAsian  \\\n",
       "count      1994.00        1994.00       1994.00       1994.00       1994.00   \n",
       "unique         NaN            NaN           NaN           NaN           NaN   \n",
       "top            NaN            NaN           NaN           NaN           NaN   \n",
       "freq           NaN            NaN           NaN           NaN           NaN   \n",
       "mean          0.06           0.46          0.18          0.75          0.15   \n",
       "std           0.13           0.16          0.25          0.24          0.21   \n",
       "min           0.00           0.00          0.00          0.00          0.00   \n",
       "25%           0.01           0.35          0.02          0.63          0.04   \n",
       "50%           0.02           0.44          0.06          0.85          0.07   \n",
       "75%           0.05           0.54          0.23          0.94          0.17   \n",
       "max           1.00           1.00          1.00          1.00          1.00   \n",
       "\n",
       "        racePctHisp  agePct12t21  agePct12t29  agePct16t24  agePct65up  ...  \\\n",
       "count       1994.00      1994.00      1994.00      1994.00     1994.00  ...   \n",
       "unique          NaN          NaN          NaN          NaN         NaN  ...   \n",
       "top             NaN          NaN          NaN          NaN         NaN  ...   \n",
       "freq            NaN          NaN          NaN          NaN         NaN  ...   \n",
       "mean           0.14         0.42         0.49         0.34        0.42  ...   \n",
       "std            0.23         0.16         0.14         0.17        0.18  ...   \n",
       "min            0.00         0.00         0.00         0.00        0.00  ...   \n",
       "25%            0.01         0.34         0.41         0.25        0.30  ...   \n",
       "50%            0.04         0.40         0.48         0.29        0.42  ...   \n",
       "75%            0.16         0.47         0.54         0.36        0.53  ...   \n",
       "max            1.00         1.00         1.00         1.00        1.00  ...   \n",
       "\n",
       "        NumStreet  PctForeignBorn  PctBornSameState  PctSameHouse85  \\\n",
       "count     1994.00         1994.00           1994.00         1994.00   \n",
       "unique        NaN             NaN               NaN             NaN   \n",
       "top           NaN             NaN               NaN             NaN   \n",
       "freq          NaN             NaN               NaN             NaN   \n",
       "mean         0.02            0.22              0.61            0.54   \n",
       "std          0.10            0.23              0.20            0.18   \n",
       "min          0.00            0.00              0.00            0.00   \n",
       "25%          0.00            0.06              0.47            0.42   \n",
       "50%          0.00            0.13              0.63            0.54   \n",
       "75%          0.00            0.28              0.78            0.66   \n",
       "max          1.00            1.00              1.00            1.00   \n",
       "\n",
       "        PctSameCity85  PctSameState85  LandArea  PopDens  PctUsePubTrans  \\\n",
       "count         1994.00         1994.00   1994.00  1994.00         1994.00   \n",
       "unique            NaN             NaN       NaN      NaN             NaN   \n",
       "top               NaN             NaN       NaN      NaN             NaN   \n",
       "freq              NaN             NaN       NaN      NaN             NaN   \n",
       "mean             0.63            0.65      0.07     0.23            0.16   \n",
       "std              0.20            0.20      0.11     0.20            0.23   \n",
       "min              0.00            0.00      0.00     0.00            0.00   \n",
       "25%              0.52            0.56      0.02     0.10            0.02   \n",
       "50%              0.67            0.70      0.04     0.17            0.07   \n",
       "75%              0.77            0.79      0.07     0.28            0.19   \n",
       "max              1.00            1.00      1.00     1.00            1.00   \n",
       "\n",
       "        ViolentCrimesPerPop  \n",
       "count               1994.00  \n",
       "unique                  NaN  \n",
       "top                     NaN  \n",
       "freq                    NaN  \n",
       "mean                   0.24  \n",
       "std                    0.23  \n",
       "min                    0.00  \n",
       "25%                    0.07  \n",
       "50%                    0.15  \n",
       "75%                    0.33  \n",
       "max                    1.00  \n",
       "\n",
       "[11 rows x 98 columns]"
      ]
     },
     "execution_count": 829,
     "metadata": {},
     "output_type": "execute_result"
    }
   ],
   "source": [
    "communities.describe(include=\"all\")"
   ]
  },
  {
   "cell_type": "code",
   "execution_count": 830,
   "id": "bf45d8e2",
   "metadata": {},
   "outputs": [
    {
     "data": {
      "text/plain": [
       "(1994, 98)"
      ]
     },
     "execution_count": 830,
     "metadata": {},
     "output_type": "execute_result"
    }
   ],
   "source": [
    "communities.shape"
   ]
  },
  {
   "cell_type": "markdown",
   "id": "499bb1ed",
   "metadata": {},
   "source": [
    "#### Create target lables y for ViolentCrimesPerPop and then drop column from existing dataframe. Store remaining matrix as X"
   ]
  },
  {
   "cell_type": "code",
   "execution_count": 831,
   "id": "f3e8b65b",
   "metadata": {},
   "outputs": [
    {
     "data": {
      "text/plain": [
       "(2500, 9328)"
      ]
     },
     "execution_count": 831,
     "metadata": {},
     "output_type": "execute_result"
    }
   ],
   "source": [
    "y1 = communities['ViolentCrimesPerPop']\n",
    "X1 = communities.drop('ViolentCrimesPerPop',axis = 1)\n",
    "X.shape"
   ]
  },
  {
   "cell_type": "code",
   "execution_count": 832,
   "id": "122bf750",
   "metadata": {},
   "outputs": [
    {
     "name": "stdout",
     "output_type": "stream",
     "text": [
      "[0.2  0.67 0.43 ... 0.23 0.19 0.48]\n",
      "[[0.19 0.33 0.02 ... 0.12 0.26 0.2]\n",
      " [0.0 0.16 0.12 ... 0.02 0.12 0.45]\n",
      " [0.0 0.42 0.49 ... 0.01 0.21 0.02]\n",
      " ...\n",
      " [0.16 0.37 0.25 ... 0.08 0.32 0.18]\n",
      " [0.08 0.51 0.06 ... 0.03 0.38 0.33]\n",
      " [0.2 0.78 0.14 ... 0.11 0.3 0.05]]\n"
     ]
    }
   ],
   "source": [
    "y = np.array(y1)\n",
    "X = np.array(X1)\n",
    "print(y)\n",
    "print(X)"
   ]
  },
  {
   "cell_type": "markdown",
   "id": "cfba2150",
   "metadata": {},
   "source": [
    "#### Use scikit-learn's train_test_split function to create a 20%-80% randomized split of the data"
   ]
  },
  {
   "cell_type": "code",
   "execution_count": 833,
   "id": "1d6a8183",
   "metadata": {},
   "outputs": [],
   "source": [
    "X_train, X_test, y_train, y_test = train_test_split(X, y, test_size=0.2, random_state=33)"
   ]
  },
  {
   "cell_type": "markdown",
   "id": "2093daa8",
   "metadata": {},
   "source": [
    "### Problem 1b"
   ]
  },
  {
   "cell_type": "markdown",
   "id": "60617276",
   "metadata": {},
   "source": [
    "#### Perform standard multiple linear regression on data using the scikit-learn Linear Regression module"
   ]
  },
  {
   "cell_type": "code",
   "execution_count": 834,
   "id": "5d11942b",
   "metadata": {},
   "outputs": [
    {
     "data": {
      "text/plain": [
       "LinearRegression()"
      ]
     },
     "execution_count": 834,
     "metadata": {},
     "output_type": "execute_result"
    }
   ],
   "source": [
    "linreg = LinearRegression()\n",
    "linreg.fit(X_train,y_train)"
   ]
  },
  {
   "cell_type": "markdown",
   "id": "a4fdc07c",
   "metadata": {},
   "source": [
    "#### Compute RMSE of full training data"
   ]
  },
  {
   "cell_type": "code",
   "execution_count": 835,
   "id": "7b47c794",
   "metadata": {},
   "outputs": [
    {
     "name": "stdout",
     "output_type": "stream",
     "text": [
      "RMSE on Training Data:  0.1261959313342669\n"
     ]
    }
   ],
   "source": [
    "# Compute erros on training instances\n",
    "p_train = linreg.predict(X_train)\n",
    "# Constuct an array of errors\n",
    "err_train = abs(p_train - y_train)\n",
    "# Dot product of error vector with itself gives us the sum of squared errors\n",
    "sum_sq_err = np.dot(err_train,err_train)\n",
    "# Compute RMSE\n",
    "rmse_train = np.sqrt(sum_sq_err/len(p_train))\n",
    "print(\"RMSE on Training Data: \", rmse_train)"
   ]
  },
  {
   "cell_type": "markdown",
   "id": "af0af110",
   "metadata": {},
   "source": [
    "#### Plot of Correlation beteween predicted and actual values"
   ]
  },
  {
   "cell_type": "code",
   "execution_count": 836,
   "id": "0430ed17",
   "metadata": {},
   "outputs": [
    {
     "data": {
      "image/png": "[encoded data removed]",
      "text/plain": [
       "<Figure size 432x288 with 1 Axes>"
      ]
     },
     "metadata": {
      "needs_background": "light"
     },
     "output_type": "display_data"
    }
   ],
   "source": [
    "pl.plot(p_train, y_train,'ro', markersize=4)\n",
    "pl.plot([0,1.0],[0,1.0], 'g-')\n",
    "pl.xlabel('Predicted')\n",
    "pl.ylabel('Actual')\n",
    "pl.show()"
   ]
  },
  {
   "cell_type": "markdown",
   "id": "36cc846e",
   "metadata": {},
   "source": [
    "#### Display the obtained regression coefficients (weights) and plot them using matplotlib"
   ]
  },
  {
   "cell_type": "code",
   "execution_count": 837,
   "id": "65b78bfa",
   "metadata": {},
   "outputs": [],
   "source": [
    "def plot_coefficients(model, n_features, feature_names):\n",
    "    pl.figure(figsize=(20,50))\n",
    "    pl.barh(range(n_features), model.coef_, align='center')\n",
    "    pl.yticks(np.arange(n_features),  feature_names, fontsize='small')\n",
    "    pl.xlabel(\"Coefficient Value\")\n",
    "    pl.ylabel(\"Feature\")\n",
    "    pl.ylim(-1, n_features)"
   ]
  },
  {
   "cell_type": "code",
   "execution_count": 838,
   "id": "e9ec0b9b",
   "metadata": {},
   "outputs": [
    {
     "data": {
      "image/png": "[encoded data removed]",
      "text/plain": [
       "<Figure size 1440x3600 with 1 Axes>"
      ]
     },
     "metadata": {
      "needs_background": "light"
     },
     "output_type": "display_data"
    }
   ],
   "source": [
    "features = X1.columns.values.tolist()\n",
    "n_features = len(features)\n",
    "plot_coefficients(linreg, n_features, features)"
   ]
  },
  {
   "cell_type": "markdown",
   "id": "dcd19dc0",
   "metadata": {},
   "source": [
    "#### Function to perform 10-fold cross-validation using  KFold module from sklearn.model_selectionon. "
   ]
  },
  {
   "cell_type": "code",
   "execution_count": 839,
   "id": "25c28da4",
   "metadata": {},
   "outputs": [],
   "source": [
    "def cross_validate(model, X, y, n, verbose=False):\n",
    "    # model: regression model to be trained\n",
    "    # X: the training data matrix\n",
    "    # y: the training target variable array\n",
    "    # n: the number of fold for x-validation\n",
    "    # Returns mean RMSE across all folds    \n",
    "    kf = KFold(n_splits=n, random_state=22, shuffle=True) # specifying random_state ensures the same random\n",
    "                                            # partitions are used across different runs\n",
    "    xval_err = 0\n",
    "    f = 1\n",
    "    for train,test in kf.split(X):\n",
    "        model.fit(X[train],y[train]) # fit model to the training partition in this fold\n",
    "        p_test = model.predict(X[test]) # apply trained model to test partition in this fold\n",
    "        rmse_test = np.sqrt(mean_squared_error(p_test, y[test]))\n",
    "        if verbose:\n",
    "            print(\"Fold %2d RMSE: %.4f\" % (f, rmse_test))\n",
    "        xval_err += rmse_test\n",
    "        f += 1\n",
    "    return xval_err/n"
   ]
  },
  {
   "cell_type": "markdown",
   "id": "f0eb686c",
   "metadata": {},
   "source": [
    "#### Using above function to perform 10 fold cross-validation on training partition"
   ]
  },
  {
   "cell_type": "code",
   "execution_count": 840,
   "id": "60bc29ef",
   "metadata": {},
   "outputs": [
    {
     "name": "stdout",
     "output_type": "stream",
     "text": [
      "Fold  1 RMSE: 0.1300\n",
      "Fold  2 RMSE: 0.1123\n",
      "Fold  3 RMSE: 0.1299\n",
      "Fold  4 RMSE: 0.1287\n",
      "Fold  5 RMSE: 0.1332\n",
      "Fold  6 RMSE: 0.1220\n",
      "Fold  7 RMSE: 0.1681\n",
      "Fold  8 RMSE: 0.1388\n",
      "Fold  9 RMSE: 0.1326\n",
      "Fold 10 RMSE: 0.1517\n"
     ]
    }
   ],
   "source": [
    "rmse_10cv = cross_validate(linreg, X_train, y_train, 10, verbose=True)"
   ]
  },
  {
   "cell_type": "markdown",
   "id": "e222d531",
   "metadata": {},
   "source": [
    "#### Comparing the cross-validation RMSE to the training RMSE. The RMSE on the training date is low and the RMSE on the the 10-fold CV is also low with not a large gap between the two values. This is indicating that them model is not underfitting or overfitting. "
   ]
  },
  {
   "cell_type": "code",
   "execution_count": 841,
   "id": "13b093f6",
   "metadata": {},
   "outputs": [
    {
     "name": "stdout",
     "output_type": "stream",
     "text": [
      "RMSE on training: 0.1262\n",
      "RMSE on 10-fold CV: 0.1347\n"
     ]
    }
   ],
   "source": [
    "print('RMSE on training: %.4f' %rmse_train)\n",
    "print('RMSE on 10-fold CV: %.4f' %rmse_10cv)\n"
   ]
  },
  {
   "cell_type": "markdown",
   "id": "95daf4e2",
   "metadata": {},
   "source": [
    "### Problem 1c"
   ]
  },
  {
   "cell_type": "markdown",
   "id": "63fe0bb5",
   "metadata": {},
   "source": [
    "#### Function optimal_percent that takes as input the training data; target variable; the regression model, and n folds for cross validation and returns an optimal percentage to use for feature selection, along with the percentiles and results "
   ]
  },
  {
   "cell_type": "code",
   "execution_count": 842,
   "id": "99fd54d8",
   "metadata": {},
   "outputs": [],
   "source": [
    "def optimal_percent(model, X, y, n):        \n",
    "    percentiles = range(1, 100, 5)\n",
    "    results = []\n",
    "    for i in range(1, 100, 5):\n",
    "        fs = feature_selection.SelectPercentile(feature_selection.f_regression, percentile=i)\n",
    "        X_train_fs = fs.fit_transform(X , y)\n",
    "        scores = cross_val_score(model, X_train_fs, y, cv=n, scoring='neg_mean_absolute_error')\n",
    "        scores = abs(scores)\n",
    "        results = np.append(results, scores.mean())\n",
    "    optimal_percentile_ind = np.where(results == results.max())[0][0]\n",
    "    opt = percentiles[optimal_percentile_ind]\n",
    "    return opt, percentiles, results"
   ]
  },
  {
   "cell_type": "markdown",
   "id": "ab18c3c7",
   "metadata": {},
   "source": [
    "#### Testing function"
   ]
  },
  {
   "cell_type": "code",
   "execution_count": 843,
   "id": "26030708",
   "metadata": {},
   "outputs": [
    {
     "name": "stdout",
     "output_type": "stream",
     "text": [
      "Optimal Value: \n",
      "1\n"
     ]
    }
   ],
   "source": [
    "o,p,r = optimal_percent(linreg, X_train, y_train, 5)\n",
    "print('Optimal Value: ')\n",
    "print(o)"
   ]
  },
  {
   "cell_type": "markdown",
   "id": "013ec04d",
   "metadata": {},
   "source": [
    "#### Plot showing model's error values on cross-validation using only the selected features across the range of percentile values"
   ]
  },
  {
   "cell_type": "code",
   "execution_count": 844,
   "id": "6544a719",
   "metadata": {},
   "outputs": [
    {
     "data": {
      "image/png": "[encoded data removed]",
      "text/plain": [
       "<Figure size 432x288 with 1 Axes>"
      ]
     },
     "metadata": {
      "needs_background": "light"
     },
     "output_type": "display_data"
    }
   ],
   "source": [
    "pl.figure()\n",
    "pl.xlabel(\"Percentage of features selected\")\n",
    "pl.ylabel(\"Cross validation accuracy\")\n",
    "pl.plot(p,r)\n",
    "pl.show()"
   ]
  },
  {
   "cell_type": "markdown",
   "id": "922d62f0",
   "metadata": {},
   "source": [
    "#### Using above optimal percentile as to identify and display best feature "
   ]
  },
  {
   "cell_type": "code",
   "execution_count": 845,
   "id": "1d91f618",
   "metadata": {},
   "outputs": [
    {
     "name": "stdout",
     "output_type": "stream",
     "text": [
      "Best Feature: \n",
      "['PctKids2Par']\n"
     ]
    }
   ],
   "source": [
    "fs = feature_selection.SelectPercentile(feature_selection.f_regression, percentile=o)\n",
    "X_train_fs = fs.fit_transform(X_train, y_train)\n",
    "print('Best Feature: ')\n",
    "print(X1.columns[fs.get_support()].values)"
   ]
  },
  {
   "cell_type": "markdown",
   "id": "c959d0ea",
   "metadata": {},
   "source": [
    "#### Training your model on the full 80% training data with the optimal subset of features and then computing it's peformance on the set-aside 20% test partition using MAE"
   ]
  },
  {
   "cell_type": "code",
   "execution_count": 846,
   "id": "bf555e99",
   "metadata": {},
   "outputs": [],
   "source": [
    "def measure_performance(X, y, model, metric = metrics.mean_absolute_error):\n",
    "    y_pred = model.predict(X)\n",
    "    score = metric(y, y_pred)\n",
    "    return score"
   ]
  },
  {
   "cell_type": "code",
   "execution_count": 847,
   "id": "bb9d4427",
   "metadata": {},
   "outputs": [
    {
     "name": "stdout",
     "output_type": "stream",
     "text": [
      "Mean Absolute Error:  0.11858339269907872\n"
     ]
    }
   ],
   "source": [
    "linregO = LinearRegression()\n",
    "linregO.fit(X_train_fs, y_train)\n",
    "X_test_fs = fs.transform(X_test)\n",
    "mae = measure_performance(X_test_fs, y_test, linregO)\n",
    "print(\"Mean Absolute Error: \", mae)\n"
   ]
  },
  {
   "cell_type": "markdown",
   "id": "29db95a5",
   "metadata": {},
   "source": [
    "### Part 1d"
   ]
  },
  {
   "cell_type": "markdown",
   "id": "16caf044",
   "metadata": {},
   "source": [
    "#### Function calc_parameters identifies the optimal alpha hyperparamters. It takes input the training data and target variable; the parameter to vary and a list of its values; the model to be trained; and the number of K folds. It returns the training scores, test scores, and produces a plot."
   ]
  },
  {
   "cell_type": "code",
   "execution_count": 848,
   "id": "f5c9c549",
   "metadata": {},
   "outputs": [],
   "source": [
    "def calc_params(X, y, clf, param_values, param_name, K):\n",
    "    \n",
    "    # Convert input to Numpy arrays\n",
    "    X = np.array(X)\n",
    "    y = np.array(y)\n",
    "\n",
    "    # initialize training and testing score arrays with zeros\n",
    "    train_scores = np.zeros(len(param_values))\n",
    "    test_scores = np.zeros(len(param_values))\n",
    "    \n",
    "    # iterate over the different parameter values\n",
    "    for i, param_value in enumerate(param_values):\n",
    "        print(param_name, ' = ', param_value)\n",
    "        \n",
    "        # set classifier parameters\n",
    "        clf.set_params(**{param_name:param_value})\n",
    "        \n",
    "        # initialize the K scores obtained for each fold\n",
    "        k_train_scores = np.zeros(K)\n",
    "        k_test_scores = np.zeros(K)\n",
    "        \n",
    "        # create KFold cross validation\n",
    "        cv = KFold(n_splits=K, shuffle=True, random_state=0)\n",
    "        \n",
    "        # iterate over the K folds\n",
    "        j = 0\n",
    "        for train, test in cv.split(X):\n",
    "            # fit the classifier in the corresponding fold\n",
    "            # and obtain the corresponding accuracy scores on train and test sets\n",
    "            clf.fit(X[train], y[train])\n",
    "            k_train_scores[j] = np.sqrt(measure_performance(X[train], y[train], clf, metric=metrics.mean_squared_error))\n",
    "            k_test_scores[j] = np.sqrt(measure_performance(X[test], y[test], clf, metric=metrics.mean_squared_error))\n",
    "            j += 1\n",
    "            \n",
    "        # store the mean of the K fold scores\n",
    "        train_scores[i] = np.mean(k_train_scores)\n",
    "        test_scores[i] = np.mean(k_test_scores)\n",
    "       \n",
    "    # plot the training and testing scores in a log scale\n",
    "    plt.plot(param_values, train_scores, label='Train')#, alpha=0.4, lw=2, c='b')\n",
    "    plt.plot(param_values, test_scores, label='X-Val')#, alpha=0.4, lw=2, c='g')\n",
    "    plt.legend(loc=7)\n",
    "    plt.xlabel(param_name + \" values\")\n",
    "    plt.ylabel(\"Mean Cross Validation RMSE\")\n",
    "    plt.show()\n",
    "\n",
    "    # return the training and testing scores on each parameter value\n",
    "    return train_scores, test_scores"
   ]
  },
  {
   "cell_type": "markdown",
   "id": "5f15e528",
   "metadata": {},
   "source": [
    "#### Build a Ridge and Lasso Regression Model along with an array of alpha parameter values to use. "
   ]
  },
  {
   "cell_type": "code",
   "execution_count": 849,
   "id": "b33001f6",
   "metadata": {},
   "outputs": [],
   "source": [
    "lasso = Lasso()\n",
    "ridge = Ridge()\n",
    "al = np.linspace(.0001,.01,100)\n",
    "ar = np.linspace(.001,10,100)"
   ]
  },
  {
   "cell_type": "markdown",
   "id": "14cc8c2f",
   "metadata": {},
   "source": [
    "#### Call the calc_parameter function for Lasso"
   ]
  },
  {
   "cell_type": "code",
   "execution_count": 850,
   "id": "7a906119",
   "metadata": {},
   "outputs": [
    {
     "name": "stdout",
     "output_type": "stream",
     "text": [
      "alpha  =  0.0001\n",
      "alpha  =  0.0002\n",
      "alpha  =  0.00030000000000000003\n",
      "alpha  =  0.0004\n",
      "alpha  =  0.0005\n",
      "alpha  =  0.0006000000000000001\n",
      "alpha  =  0.0007000000000000001\n",
      "alpha  =  0.0008\n",
      "alpha  =  0.0009000000000000001\n",
      "alpha  =  0.001\n",
      "alpha  =  0.0011\n",
      "alpha  =  0.0012000000000000001\n",
      "alpha  =  0.0013000000000000002\n",
      "alpha  =  0.0014000000000000002\n",
      "alpha  =  0.0015\n",
      "alpha  =  0.0016\n",
      "alpha  =  0.0017000000000000001\n",
      "alpha  =  0.0018000000000000002\n",
      "alpha  =  0.0019000000000000002\n",
      "alpha  =  0.002\n",
      "alpha  =  0.0021\n",
      "alpha  =  0.0022\n",
      "alpha  =  0.0023\n",
      "alpha  =  0.0024\n",
      "alpha  =  0.0025\n",
      "alpha  =  0.0026\n",
      "alpha  =  0.0027\n",
      "alpha  =  0.0028\n",
      "alpha  =  0.0029\n",
      "alpha  =  0.003\n",
      "alpha  =  0.0031\n",
      "alpha  =  0.0032\n",
      "alpha  =  0.0033\n",
      "alpha  =  0.0034\n",
      "alpha  =  0.0035\n",
      "alpha  =  0.0036\n",
      "alpha  =  0.0037\n",
      "alpha  =  0.0038\n",
      "alpha  =  0.0039\n",
      "alpha  =  0.004\n",
      "alpha  =  0.0041\n",
      "alpha  =  0.004200000000000001\n",
      "alpha  =  0.004300000000000001\n",
      "alpha  =  0.0044\n",
      "alpha  =  0.0045000000000000005\n",
      "alpha  =  0.004600000000000001\n",
      "alpha  =  0.0047\n",
      "alpha  =  0.0048000000000000004\n",
      "alpha  =  0.004900000000000001\n",
      "alpha  =  0.005\n",
      "alpha  =  0.0051\n",
      "alpha  =  0.005200000000000001\n",
      "alpha  =  0.005300000000000001\n",
      "alpha  =  0.0054\n",
      "alpha  =  0.0055000000000000005\n",
      "alpha  =  0.005600000000000001\n",
      "alpha  =  0.0057\n",
      "alpha  =  0.0058000000000000005\n",
      "alpha  =  0.005900000000000001\n",
      "alpha  =  0.006\n",
      "alpha  =  0.0061\n",
      "alpha  =  0.006200000000000001\n",
      "alpha  =  0.006300000000000001\n",
      "alpha  =  0.0064\n",
      "alpha  =  0.006500000000000001\n",
      "alpha  =  0.006600000000000001\n",
      "alpha  =  0.0067\n",
      "alpha  =  0.0068000000000000005\n",
      "alpha  =  0.006900000000000001\n",
      "alpha  =  0.007000000000000001\n",
      "alpha  =  0.0071\n",
      "alpha  =  0.007200000000000001\n",
      "alpha  =  0.007300000000000001\n",
      "alpha  =  0.0074\n",
      "alpha  =  0.007500000000000001\n",
      "alpha  =  0.007600000000000001\n",
      "alpha  =  0.0077\n",
      "alpha  =  0.0078000000000000005\n",
      "alpha  =  0.0079\n",
      "alpha  =  0.008\n",
      "alpha  =  0.0081\n",
      "alpha  =  0.008199999999999999\n",
      "alpha  =  0.0083\n",
      "alpha  =  0.0084\n",
      "alpha  =  0.0085\n",
      "alpha  =  0.0086\n",
      "alpha  =  0.0087\n",
      "alpha  =  0.0088\n",
      "alpha  =  0.0089\n",
      "alpha  =  0.009\n",
      "alpha  =  0.0091\n",
      "alpha  =  0.0092\n",
      "alpha  =  0.0093\n",
      "alpha  =  0.0094\n",
      "alpha  =  0.0095\n",
      "alpha  =  0.0096\n",
      "alpha  =  0.0097\n",
      "alpha  =  0.0098\n",
      "alpha  =  0.009899999999999999\n",
      "alpha  =  0.01\n"
     ]
    },
    {
     "data": {
      "image/png": "[encoded data removed]",
      "text/plain": [
       "<Figure size 432x288 with 1 Axes>"
      ]
     },
     "metadata": {
      "needs_background": "light"
     },
     "output_type": "display_data"
    }
   ],
   "source": [
    "train_scores, test_scores = calc_params(X1, y1, lasso, al, 'alpha', 5)"
   ]
  },
  {
   "cell_type": "markdown",
   "id": "cb2e53b2",
   "metadata": {},
   "source": [
    "#### Call the calc_parameter function for Ridge"
   ]
  },
  {
   "cell_type": "code",
   "execution_count": 851,
   "id": "822042ec",
   "metadata": {},
   "outputs": [
    {
     "name": "stdout",
     "output_type": "stream",
     "text": [
      "alpha  =  0.001\n",
      "alpha  =  0.10200000000000001\n",
      "alpha  =  0.203\n",
      "alpha  =  0.30400000000000005\n",
      "alpha  =  0.405\n",
      "alpha  =  0.506\n",
      "alpha  =  0.6070000000000001\n",
      "alpha  =  0.7080000000000001\n",
      "alpha  =  0.809\n",
      "alpha  =  0.91\n",
      "alpha  =  1.011\n",
      "alpha  =  1.1119999999999999\n",
      "alpha  =  1.213\n",
      "alpha  =  1.314\n",
      "alpha  =  1.415\n",
      "alpha  =  1.516\n",
      "alpha  =  1.617\n",
      "alpha  =  1.718\n",
      "alpha  =  1.819\n",
      "alpha  =  1.92\n",
      "alpha  =  2.021\n",
      "alpha  =  2.122\n",
      "alpha  =  2.223\n",
      "alpha  =  2.324\n",
      "alpha  =  2.4250000000000003\n",
      "alpha  =  2.5260000000000002\n",
      "alpha  =  2.6270000000000002\n",
      "alpha  =  2.728\n",
      "alpha  =  2.829\n",
      "alpha  =  2.93\n",
      "alpha  =  3.031\n",
      "alpha  =  3.132\n",
      "alpha  =  3.233\n",
      "alpha  =  3.334\n",
      "alpha  =  3.435\n",
      "alpha  =  3.536\n",
      "alpha  =  3.637\n",
      "alpha  =  3.738\n",
      "alpha  =  3.839\n",
      "alpha  =  3.94\n",
      "alpha  =  4.041\n",
      "alpha  =  4.142\n",
      "alpha  =  4.243\n",
      "alpha  =  4.344\n",
      "alpha  =  4.445\n",
      "alpha  =  4.546\n",
      "alpha  =  4.647\n",
      "alpha  =  4.748\n",
      "alpha  =  4.849000000000001\n",
      "alpha  =  4.950000000000001\n",
      "alpha  =  5.051000000000001\n",
      "alpha  =  5.152000000000001\n",
      "alpha  =  5.253000000000001\n",
      "alpha  =  5.354000000000001\n",
      "alpha  =  5.455000000000001\n",
      "alpha  =  5.556000000000001\n",
      "alpha  =  5.657000000000001\n",
      "alpha  =  5.758000000000001\n",
      "alpha  =  5.859000000000001\n",
      "alpha  =  5.960000000000001\n",
      "alpha  =  6.061000000000001\n",
      "alpha  =  6.162000000000001\n",
      "alpha  =  6.263000000000001\n",
      "alpha  =  6.364000000000001\n",
      "alpha  =  6.465000000000001\n",
      "alpha  =  6.566000000000001\n",
      "alpha  =  6.667000000000001\n",
      "alpha  =  6.768000000000001\n",
      "alpha  =  6.869000000000001\n",
      "alpha  =  6.970000000000001\n",
      "alpha  =  7.071000000000001\n",
      "alpha  =  7.172000000000001\n",
      "alpha  =  7.273000000000001\n",
      "alpha  =  7.3740000000000006\n",
      "alpha  =  7.4750000000000005\n",
      "alpha  =  7.5760000000000005\n",
      "alpha  =  7.6770000000000005\n",
      "alpha  =  7.7780000000000005\n",
      "alpha  =  7.8790000000000004\n",
      "alpha  =  7.98\n",
      "alpha  =  8.081\n",
      "alpha  =  8.182\n",
      "alpha  =  8.283\n",
      "alpha  =  8.384\n",
      "alpha  =  8.485\n",
      "alpha  =  8.586\n",
      "alpha  =  8.687\n",
      "alpha  =  8.788\n",
      "alpha  =  8.889\n",
      "alpha  =  8.99\n",
      "alpha  =  9.091\n",
      "alpha  =  9.192\n",
      "alpha  =  9.293\n",
      "alpha  =  9.394\n",
      "alpha  =  9.495\n",
      "alpha  =  9.596\n",
      "alpha  =  9.697000000000001\n",
      "alpha  =  9.798\n",
      "alpha  =  9.899000000000001\n",
      "alpha  =  10.0\n"
     ]
    },
    {
     "data": {
      "image/png": "[encoded data removed]",
      "text/plain": [
       "<Figure size 432x288 with 1 Axes>"
      ]
     },
     "metadata": {
      "needs_background": "light"
     },
     "output_type": "display_data"
    }
   ],
   "source": [
    "train_scores, test_scores = calc_params(X1, y1, ridge, ar, 'alpha', 5)"
   ]
  },
  {
   "cell_type": "markdown",
   "id": "89ce65ab",
   "metadata": {},
   "source": [
    "#### After looking at the graph for Lasso, I see that there is possible underfitting or high bias as the training and test error rates seem to converge and get higher at higher levels of alpha. I select an alpha of 0.0001 to build the optimal model."
   ]
  },
  {
   "cell_type": "code",
   "execution_count": 852,
   "id": "c967c539",
   "metadata": {},
   "outputs": [
    {
     "name": "stdout",
     "output_type": "stream",
     "text": [
      "Lasso Mean Absolute Error:  0.09996323464912328\n"
     ]
    }
   ],
   "source": [
    "lassoO = Lasso(alpha=0.0001)\n",
    "lassoO.fit(X_train, y_train)\n",
    "lassoO_mae = measure_performance(X_test, y_test, lassoO)\n",
    "print(\"Lasso Mean Absolute Error: \", lassoO_mae)"
   ]
  },
  {
   "cell_type": "markdown",
   "id": "da637bcb",
   "metadata": {},
   "source": [
    "#### After looking at the graph for Ridge, I see that there is possible overfitting or high variance as the training and test error rates seem do not seem to converge but stay the same distance apart accross higher levels of alpha with both error rates only slightly positively increasing. I select an alpha of 0.5 to build the optimal model."
   ]
  },
  {
   "cell_type": "code",
   "execution_count": 853,
   "id": "82901899",
   "metadata": {},
   "outputs": [
    {
     "name": "stdout",
     "output_type": "stream",
     "text": [
      "Ridge Mean Absolute Error:  0.10047898138765145\n"
     ]
    }
   ],
   "source": [
    "ridgeO = Ridge(alpha=0.5)\n",
    "ridgeO.fit(X_train, y_train)\n",
    "ridgeO_mae = measure_performance(X_test, y_test, ridgeO)\n",
    "print(\"Ridge Mean Absolute Error: \", ridgeO_mae)"
   ]
  },
  {
   "cell_type": "markdown",
   "id": "b2f3f385",
   "metadata": {},
   "source": [
    "### Problem 1e"
   ]
  },
  {
   "cell_type": "markdown",
   "id": "517383f1",
   "metadata": {},
   "source": [
    "#### Perform the scaling using StandardScaler from sklearn.preprocessing. "
   ]
  },
  {
   "cell_type": "code",
   "execution_count": 854,
   "id": "6af837eb",
   "metadata": {},
   "outputs": [],
   "source": [
    "scaler = StandardScaler()\n",
    "scaler.fit(X_train)\n",
    "X_train_s = scaler.transform(X_train)\n",
    "X_test_s = scaler.transform(X_test)"
   ]
  },
  {
   "cell_type": "markdown",
   "id": "1bdf29f9",
   "metadata": {},
   "source": [
    "#### Perform Grid Search using combination of two penalty parameters ('l2', 'l1') and different values of alpha from 0.0001 to 10."
   ]
  },
  {
   "cell_type": "code",
   "execution_count": 855,
   "id": "5fc1aaf3",
   "metadata": {},
   "outputs": [
    {
     "name": "stdout",
     "output_type": "stream",
     "text": [
      "Fitting 5 folds for each of 200 candidates, totalling 1000 fits\n",
      "CPU times: total: 1min 30s\n",
      "Wall time: 24.5 s\n"
     ]
    },
    {
     "data": {
      "text/plain": [
       "({'alpha': 0.0001, 'penalty': 'l1'}, 0.6401865907119803)"
      ]
     },
     "execution_count": 855,
     "metadata": {},
     "output_type": "execute_result"
    }
   ],
   "source": [
    "sgdreg = SGDRegressor()\n",
    "parameters = {\n",
    "    'penalty': ['l1','l2'],\n",
    "    'alpha': np.linspace(0.0001, 10, 100),\n",
    "}\n",
    "gs = GridSearchCV(sgdreg, parameters, verbose=1, cv=5)\n",
    "%time _ = gs.fit(X_train, y_train)\n",
    "gs.best_params_, gs.best_score_"
   ]
  },
  {
   "cell_type": "markdown",
   "id": "941ceb3c",
   "metadata": {},
   "source": [
    "#### Train Model using best parameters and calculating RMSE scores. "
   ]
  },
  {
   "cell_type": "code",
   "execution_count": 856,
   "id": "1b3bc8f2",
   "metadata": {},
   "outputs": [],
   "source": [
    "sgdreg = SGDRegressor(penalty='l2', alpha=0.0001)\n",
    "sgdreg.fit(X_train_s,y_train)\n",
    "p_train = sgdreg.predict(X_train_s)\n",
    "rmse_train = np.sqrt(mean_squared_error(p_train, y_train))\n",
    "p_test = sgdreg.predict(X_test_s) # predictions on the test instances\n",
    "rmse_test = np.sqrt(mean_squared_error(p_test, y_test))"
   ]
  },
  {
   "cell_type": "code",
   "execution_count": 857,
   "id": "f6db5b96",
   "metadata": {},
   "outputs": [
    {
     "name": "stdout",
     "output_type": "stream",
     "text": [
      "\n",
      "\n",
      "Method: Stochastic Gradient Descent Regression\n",
      "RMSE on training: 0.1314\n",
      "RMSE on test data: 0.1466\n"
     ]
    }
   ],
   "source": [
    "method_name = 'Stochastic Gradient Descent Regression'\n",
    "print(\"\\n\")\n",
    "print('Method: %s' %method_name)\n",
    "print('RMSE on training: %.4f' %rmse_train)\n",
    "print('RMSE on test data: %.4f' %rmse_test)"
   ]
  },
  {
   "cell_type": "markdown",
   "id": "2ab7be98",
   "metadata": {},
   "source": [
    "Finally, perform model optimization (similar to part d, above) to find the best \"l1_ratio\" parameter using SGDRegressor with  the \"elasticnet\" penalty parameter. [Note: \"l1_ratio\" is The Elastic Net mixing parameter, with 0 <= l1_ratio <= 1;  l1_ratio=0 corresponds to L2 penalty, l1_ratio=1 to L1 penalty; defaults to 0.15.] Using the best mixing ratio, apply the Elastic Net model, trained on full training data, to the set-aside test data and compare to the training perfromance. Provide a brief summary of your findings from the above experiments."
   ]
  },
  {
   "cell_type": "markdown",
   "id": "29f90628",
   "metadata": {},
   "source": [
    "#### Perform model optimization to find the best l1_ratio parameter using SGDRregssor with the elastic net penalty parmaeter and alpha from above. "
   ]
  },
  {
   "cell_type": "code",
   "execution_count": 858,
   "id": "6a3a9842",
   "metadata": {},
   "outputs": [
    {
     "name": "stdout",
     "output_type": "stream",
     "text": [
      "l1_ratio  =  0.0\n",
      "l1_ratio  =  0.010101010101010102\n",
      "l1_ratio  =  0.020202020202020204\n",
      "l1_ratio  =  0.030303030303030304\n",
      "l1_ratio  =  0.04040404040404041\n",
      "l1_ratio  =  0.05050505050505051\n",
      "l1_ratio  =  0.06060606060606061\n",
      "l1_ratio  =  0.07070707070707072\n",
      "l1_ratio  =  0.08080808080808081\n",
      "l1_ratio  =  0.09090909090909091\n",
      "l1_ratio  =  0.10101010101010102\n",
      "l1_ratio  =  0.11111111111111112\n",
      "l1_ratio  =  0.12121212121212122\n",
      "l1_ratio  =  0.13131313131313133\n",
      "l1_ratio  =  0.14141414141414144\n",
      "l1_ratio  =  0.15151515151515152\n",
      "l1_ratio  =  0.16161616161616163\n",
      "l1_ratio  =  0.17171717171717174\n",
      "l1_ratio  =  0.18181818181818182\n",
      "l1_ratio  =  0.19191919191919193\n",
      "l1_ratio  =  0.20202020202020204\n",
      "l1_ratio  =  0.21212121212121213\n",
      "l1_ratio  =  0.22222222222222224\n",
      "l1_ratio  =  0.23232323232323235\n",
      "l1_ratio  =  0.24242424242424243\n",
      "l1_ratio  =  0.25252525252525254\n",
      "l1_ratio  =  0.26262626262626265\n",
      "l1_ratio  =  0.27272727272727276\n",
      "l1_ratio  =  0.2828282828282829\n",
      "l1_ratio  =  0.29292929292929293\n",
      "l1_ratio  =  0.30303030303030304\n",
      "l1_ratio  =  0.31313131313131315\n",
      "l1_ratio  =  0.32323232323232326\n",
      "l1_ratio  =  0.33333333333333337\n",
      "l1_ratio  =  0.3434343434343435\n",
      "l1_ratio  =  0.3535353535353536\n",
      "l1_ratio  =  0.36363636363636365\n",
      "l1_ratio  =  0.37373737373737376\n",
      "l1_ratio  =  0.38383838383838387\n",
      "l1_ratio  =  0.393939393939394\n",
      "l1_ratio  =  0.4040404040404041\n",
      "l1_ratio  =  0.4141414141414142\n",
      "l1_ratio  =  0.42424242424242425\n",
      "l1_ratio  =  0.43434343434343436\n",
      "l1_ratio  =  0.4444444444444445\n",
      "l1_ratio  =  0.4545454545454546\n",
      "l1_ratio  =  0.4646464646464647\n",
      "l1_ratio  =  0.4747474747474748\n",
      "l1_ratio  =  0.48484848484848486\n",
      "l1_ratio  =  0.494949494949495\n",
      "l1_ratio  =  0.5050505050505051\n",
      "l1_ratio  =  0.5151515151515152\n",
      "l1_ratio  =  0.5252525252525253\n",
      "l1_ratio  =  0.5353535353535354\n",
      "l1_ratio  =  0.5454545454545455\n",
      "l1_ratio  =  0.5555555555555556\n",
      "l1_ratio  =  0.5656565656565657\n",
      "l1_ratio  =  0.5757575757575758\n",
      "l1_ratio  =  0.5858585858585859\n",
      "l1_ratio  =  0.595959595959596\n",
      "l1_ratio  =  0.6060606060606061\n",
      "l1_ratio  =  0.6161616161616162\n",
      "l1_ratio  =  0.6262626262626263\n",
      "l1_ratio  =  0.6363636363636365\n",
      "l1_ratio  =  0.6464646464646465\n",
      "l1_ratio  =  0.6565656565656566\n",
      "l1_ratio  =  0.6666666666666667\n",
      "l1_ratio  =  0.6767676767676768\n",
      "l1_ratio  =  0.686868686868687\n",
      "l1_ratio  =  0.696969696969697\n",
      "l1_ratio  =  0.7070707070707072\n",
      "l1_ratio  =  0.7171717171717172\n",
      "l1_ratio  =  0.7272727272727273\n",
      "l1_ratio  =  0.7373737373737375\n",
      "l1_ratio  =  0.7474747474747475\n",
      "l1_ratio  =  0.7575757575757577\n",
      "l1_ratio  =  0.7676767676767677\n",
      "l1_ratio  =  0.7777777777777778\n",
      "l1_ratio  =  0.787878787878788\n",
      "l1_ratio  =  0.797979797979798\n",
      "l1_ratio  =  0.8080808080808082\n",
      "l1_ratio  =  0.8181818181818182\n",
      "l1_ratio  =  0.8282828282828284\n",
      "l1_ratio  =  0.8383838383838385\n",
      "l1_ratio  =  0.8484848484848485\n",
      "l1_ratio  =  0.8585858585858587\n",
      "l1_ratio  =  0.8686868686868687\n",
      "l1_ratio  =  0.8787878787878789\n",
      "l1_ratio  =  0.888888888888889\n",
      "l1_ratio  =  0.8989898989898991\n",
      "l1_ratio  =  0.9090909090909092\n",
      "l1_ratio  =  0.9191919191919192\n",
      "l1_ratio  =  0.9292929292929294\n",
      "l1_ratio  =  0.9393939393939394\n",
      "l1_ratio  =  0.9494949494949496\n",
      "l1_ratio  =  0.9595959595959597\n",
      "l1_ratio  =  0.9696969696969697\n",
      "l1_ratio  =  0.9797979797979799\n",
      "l1_ratio  =  0.98989898989899\n",
      "l1_ratio  =  1.0\n"
     ]
    },
    {
     "data": {
      "image/png": "[encoded data removed]",
      "text/plain": [
       "<Figure size 432x288 with 1 Axes>"
      ]
     },
     "metadata": {
      "needs_background": "light"
     },
     "output_type": "display_data"
    }
   ],
   "source": [
    "sgdregO = SGDRegressor(penalty='elasticnet', alpha=0.0001)\n",
    "l1r = np.linspace(0.0, 1.0, 100)\n",
    "train_scores, test_scores = calc_params(X_train_s, y_train, sgdregO, l1r, 'l1_ratio', 5)"
   ]
  },
  {
   "cell_type": "markdown",
   "id": "815b5c78",
   "metadata": {},
   "source": [
    "#### Using the best mix of alpha, elasticnet, and l1_ratio, apply the Elastic Net model, trained on full training data, to the set-aside test data and compare to the training perfromance. Model with the tuned parameters was more accurate. This is expeceted as the parameters were tuned and th full training data leveraged. "
   ]
  },
  {
   "cell_type": "code",
   "execution_count": 859,
   "id": "1c41669b",
   "metadata": {},
   "outputs": [
    {
     "name": "stdout",
     "output_type": "stream",
     "text": [
      "SGDRegressor ElasticNet Mean Absolute Error:  0.10268596685026896\n"
     ]
    }
   ],
   "source": [
    "sgdregB = SGDRegressor(penalty='elasticnet', alpha=0.0001, l1_ratio = .06)\n",
    "sgdregB.fit(X_train_s, y_train)\n",
    "sgdregB_mae = measure_performance(X_test_s, y_test, sgdregB)\n",
    "print(\"SGDRegressor ElasticNet Mean Absolute Error: \", sgdregB_mae)"
   ]
  },
  {
   "cell_type": "markdown",
   "id": "74fa7549",
   "metadata": {},
   "source": [
    "#### Briefy summary of findings: \n",
    "#### After looking at the graph for Ridge, I see that there is possible overfitting or high variance as the training and test error rates seem do not seem to converge but stay the same distance apart accross different levels of l1_ratio penalty with both error rates following a very up and down (wave) pattern. I chose the .06 penalty as that seemed to provide the lowest error with more or less the same overfitting gap. The SGDR model with elastic net did seem to perform better than the lasso but not as well as the ridge. "
   ]
  },
  {
   "cell_type": "markdown",
   "id": "1a06bea7",
   "metadata": {},
   "source": [
    "### Problem 2a"
   ]
  },
  {
   "cell_type": "markdown",
   "id": "79579b09",
   "metadata": {},
   "source": [
    "#### Create distance function using consine similarity"
   ]
  },
  {
   "cell_type": "code",
   "execution_count": 860,
   "id": "473d1775",
   "metadata": {},
   "outputs": [],
   "source": [
    "def distCosine(vecA, vecB):\n",
    "    dp = np.dot(vecA, vecB)\n",
    "    l2a = np.sqrt(np.sum(vecA**2))\n",
    "    l2b = np.sqrt(np.sum(vecB**2))\n",
    "    return 1 - dp / (l2a * l2b)"
   ]
  },
  {
   "cell_type": "markdown",
   "id": "d4c2d3b6",
   "metadata": {},
   "source": [
    "#### Testing and calling function for accuracy"
   ]
  },
  {
   "cell_type": "code",
   "execution_count": 861,
   "id": "e69a78da",
   "metadata": {},
   "outputs": [
    {
     "name": "stdout",
     "output_type": "stream",
     "text": [
      "0.002585096956942312\n"
     ]
    }
   ],
   "source": [
    "x = np.array([1, 2, 3])\n",
    "y =  np.array([3,5,7])\n",
    "\n",
    "ans = distCosine(x,y)\n",
    "print(ans)"
   ]
  },
  {
   "cell_type": "markdown",
   "id": "8a750df9",
   "metadata": {},
   "source": [
    "### Problem 2b"
   ]
  },
  {
   "cell_type": "markdown",
   "id": "e7267d38",
   "metadata": {},
   "source": [
    "#### Load the data set "
   ]
  },
  {
   "cell_type": "code",
   "execution_count": 862,
   "id": "c7289aa0",
   "metadata": {},
   "outputs": [
    {
     "data": {
      "text/html": [
       "<div>\n",
       "<style scoped>\n",
       "    .dataframe tbody tr th:only-of-type {\n",
       "        vertical-align: middle;\n",
       "    }\n",
       "\n",
       "    .dataframe tbody tr th {\n",
       "        vertical-align: top;\n",
       "    }\n",
       "\n",
       "    .dataframe thead th {\n",
       "        text-align: right;\n",
       "    }\n",
       "</style>\n",
       "<table border=\"1\" class=\"dataframe\">\n",
       "  <thead>\n",
       "    <tr style=\"text-align: right;\">\n",
       "      <th></th>\n",
       "      <th>0</th>\n",
       "      <th>1</th>\n",
       "      <th>2</th>\n",
       "      <th>3</th>\n",
       "      <th>4</th>\n",
       "      <th>5</th>\n",
       "      <th>6</th>\n",
       "      <th>7</th>\n",
       "      <th>8</th>\n",
       "      <th>9</th>\n",
       "      <th>...</th>\n",
       "      <th>2490</th>\n",
       "      <th>2491</th>\n",
       "      <th>2492</th>\n",
       "      <th>2493</th>\n",
       "      <th>2494</th>\n",
       "      <th>2495</th>\n",
       "      <th>2496</th>\n",
       "      <th>2497</th>\n",
       "      <th>2498</th>\n",
       "      <th>2499</th>\n",
       "    </tr>\n",
       "  </thead>\n",
       "  <tbody>\n",
       "    <tr>\n",
       "      <th>0</th>\n",
       "      <td>0</td>\n",
       "      <td>0</td>\n",
       "      <td>0</td>\n",
       "      <td>0</td>\n",
       "      <td>0</td>\n",
       "      <td>0</td>\n",
       "      <td>0</td>\n",
       "      <td>0</td>\n",
       "      <td>0</td>\n",
       "      <td>0</td>\n",
       "      <td>...</td>\n",
       "      <td>0</td>\n",
       "      <td>0</td>\n",
       "      <td>0</td>\n",
       "      <td>0</td>\n",
       "      <td>0</td>\n",
       "      <td>0</td>\n",
       "      <td>0</td>\n",
       "      <td>0</td>\n",
       "      <td>0</td>\n",
       "      <td>0</td>\n",
       "    </tr>\n",
       "    <tr>\n",
       "      <th>1</th>\n",
       "      <td>0</td>\n",
       "      <td>0</td>\n",
       "      <td>0</td>\n",
       "      <td>0</td>\n",
       "      <td>0</td>\n",
       "      <td>0</td>\n",
       "      <td>0</td>\n",
       "      <td>0</td>\n",
       "      <td>0</td>\n",
       "      <td>0</td>\n",
       "      <td>...</td>\n",
       "      <td>0</td>\n",
       "      <td>0</td>\n",
       "      <td>0</td>\n",
       "      <td>0</td>\n",
       "      <td>0</td>\n",
       "      <td>0</td>\n",
       "      <td>0</td>\n",
       "      <td>0</td>\n",
       "      <td>0</td>\n",
       "      <td>0</td>\n",
       "    </tr>\n",
       "    <tr>\n",
       "      <th>2</th>\n",
       "      <td>0</td>\n",
       "      <td>0</td>\n",
       "      <td>0</td>\n",
       "      <td>0</td>\n",
       "      <td>0</td>\n",
       "      <td>0</td>\n",
       "      <td>0</td>\n",
       "      <td>0</td>\n",
       "      <td>0</td>\n",
       "      <td>0</td>\n",
       "      <td>...</td>\n",
       "      <td>0</td>\n",
       "      <td>0</td>\n",
       "      <td>0</td>\n",
       "      <td>0</td>\n",
       "      <td>0</td>\n",
       "      <td>0</td>\n",
       "      <td>0</td>\n",
       "      <td>0</td>\n",
       "      <td>0</td>\n",
       "      <td>0</td>\n",
       "    </tr>\n",
       "    <tr>\n",
       "      <th>3</th>\n",
       "      <td>0</td>\n",
       "      <td>0</td>\n",
       "      <td>0</td>\n",
       "      <td>0</td>\n",
       "      <td>0</td>\n",
       "      <td>0</td>\n",
       "      <td>0</td>\n",
       "      <td>0</td>\n",
       "      <td>0</td>\n",
       "      <td>0</td>\n",
       "      <td>...</td>\n",
       "      <td>0</td>\n",
       "      <td>0</td>\n",
       "      <td>0</td>\n",
       "      <td>0</td>\n",
       "      <td>0</td>\n",
       "      <td>0</td>\n",
       "      <td>0</td>\n",
       "      <td>0</td>\n",
       "      <td>0</td>\n",
       "      <td>0</td>\n",
       "    </tr>\n",
       "    <tr>\n",
       "      <th>4</th>\n",
       "      <td>0</td>\n",
       "      <td>0</td>\n",
       "      <td>0</td>\n",
       "      <td>0</td>\n",
       "      <td>0</td>\n",
       "      <td>0</td>\n",
       "      <td>0</td>\n",
       "      <td>0</td>\n",
       "      <td>0</td>\n",
       "      <td>0</td>\n",
       "      <td>...</td>\n",
       "      <td>0</td>\n",
       "      <td>0</td>\n",
       "      <td>0</td>\n",
       "      <td>0</td>\n",
       "      <td>0</td>\n",
       "      <td>0</td>\n",
       "      <td>0</td>\n",
       "      <td>0</td>\n",
       "      <td>0</td>\n",
       "      <td>0</td>\n",
       "    </tr>\n",
       "    <tr>\n",
       "      <th>...</th>\n",
       "      <td>...</td>\n",
       "      <td>...</td>\n",
       "      <td>...</td>\n",
       "      <td>...</td>\n",
       "      <td>...</td>\n",
       "      <td>...</td>\n",
       "      <td>...</td>\n",
       "      <td>...</td>\n",
       "      <td>...</td>\n",
       "      <td>...</td>\n",
       "      <td>...</td>\n",
       "      <td>...</td>\n",
       "      <td>...</td>\n",
       "      <td>...</td>\n",
       "      <td>...</td>\n",
       "      <td>...</td>\n",
       "      <td>...</td>\n",
       "      <td>...</td>\n",
       "      <td>...</td>\n",
       "      <td>...</td>\n",
       "      <td>...</td>\n",
       "    </tr>\n",
       "    <tr>\n",
       "      <th>9323</th>\n",
       "      <td>0</td>\n",
       "      <td>0</td>\n",
       "      <td>0</td>\n",
       "      <td>0</td>\n",
       "      <td>0</td>\n",
       "      <td>0</td>\n",
       "      <td>0</td>\n",
       "      <td>0</td>\n",
       "      <td>0</td>\n",
       "      <td>0</td>\n",
       "      <td>...</td>\n",
       "      <td>0</td>\n",
       "      <td>0</td>\n",
       "      <td>0</td>\n",
       "      <td>0</td>\n",
       "      <td>0</td>\n",
       "      <td>0</td>\n",
       "      <td>0</td>\n",
       "      <td>0</td>\n",
       "      <td>0</td>\n",
       "      <td>0</td>\n",
       "    </tr>\n",
       "    <tr>\n",
       "      <th>9324</th>\n",
       "      <td>0</td>\n",
       "      <td>0</td>\n",
       "      <td>0</td>\n",
       "      <td>0</td>\n",
       "      <td>0</td>\n",
       "      <td>0</td>\n",
       "      <td>0</td>\n",
       "      <td>0</td>\n",
       "      <td>0</td>\n",
       "      <td>0</td>\n",
       "      <td>...</td>\n",
       "      <td>0</td>\n",
       "      <td>0</td>\n",
       "      <td>0</td>\n",
       "      <td>0</td>\n",
       "      <td>0</td>\n",
       "      <td>0</td>\n",
       "      <td>0</td>\n",
       "      <td>0</td>\n",
       "      <td>0</td>\n",
       "      <td>0</td>\n",
       "    </tr>\n",
       "    <tr>\n",
       "      <th>9325</th>\n",
       "      <td>0</td>\n",
       "      <td>0</td>\n",
       "      <td>0</td>\n",
       "      <td>0</td>\n",
       "      <td>0</td>\n",
       "      <td>0</td>\n",
       "      <td>0</td>\n",
       "      <td>0</td>\n",
       "      <td>0</td>\n",
       "      <td>0</td>\n",
       "      <td>...</td>\n",
       "      <td>0</td>\n",
       "      <td>0</td>\n",
       "      <td>0</td>\n",
       "      <td>0</td>\n",
       "      <td>0</td>\n",
       "      <td>0</td>\n",
       "      <td>0</td>\n",
       "      <td>0</td>\n",
       "      <td>0</td>\n",
       "      <td>0</td>\n",
       "    </tr>\n",
       "    <tr>\n",
       "      <th>9326</th>\n",
       "      <td>0</td>\n",
       "      <td>0</td>\n",
       "      <td>0</td>\n",
       "      <td>0</td>\n",
       "      <td>0</td>\n",
       "      <td>0</td>\n",
       "      <td>0</td>\n",
       "      <td>0</td>\n",
       "      <td>0</td>\n",
       "      <td>0</td>\n",
       "      <td>...</td>\n",
       "      <td>0</td>\n",
       "      <td>0</td>\n",
       "      <td>0</td>\n",
       "      <td>0</td>\n",
       "      <td>0</td>\n",
       "      <td>0</td>\n",
       "      <td>0</td>\n",
       "      <td>0</td>\n",
       "      <td>0</td>\n",
       "      <td>0</td>\n",
       "    </tr>\n",
       "    <tr>\n",
       "      <th>9327</th>\n",
       "      <td>0</td>\n",
       "      <td>0</td>\n",
       "      <td>0</td>\n",
       "      <td>0</td>\n",
       "      <td>0</td>\n",
       "      <td>0</td>\n",
       "      <td>0</td>\n",
       "      <td>0</td>\n",
       "      <td>0</td>\n",
       "      <td>0</td>\n",
       "      <td>...</td>\n",
       "      <td>0</td>\n",
       "      <td>0</td>\n",
       "      <td>0</td>\n",
       "      <td>0</td>\n",
       "      <td>0</td>\n",
       "      <td>0</td>\n",
       "      <td>0</td>\n",
       "      <td>0</td>\n",
       "      <td>0</td>\n",
       "      <td>0</td>\n",
       "    </tr>\n",
       "  </tbody>\n",
       "</table>\n",
       "<p>9328 rows × 2500 columns</p>\n",
       "</div>"
      ],
      "text/plain": [
       "      0     1     2     3     4     5     6     7     8     9     ...  2490  \\\n",
       "0        0     0     0     0     0     0     0     0     0     0  ...     0   \n",
       "1        0     0     0     0     0     0     0     0     0     0  ...     0   \n",
       "2        0     0     0     0     0     0     0     0     0     0  ...     0   \n",
       "3        0     0     0     0     0     0     0     0     0     0  ...     0   \n",
       "4        0     0     0     0     0     0     0     0     0     0  ...     0   \n",
       "...    ...   ...   ...   ...   ...   ...   ...   ...   ...   ...  ...   ...   \n",
       "9323     0     0     0     0     0     0     0     0     0     0  ...     0   \n",
       "9324     0     0     0     0     0     0     0     0     0     0  ...     0   \n",
       "9325     0     0     0     0     0     0     0     0     0     0  ...     0   \n",
       "9326     0     0     0     0     0     0     0     0     0     0  ...     0   \n",
       "9327     0     0     0     0     0     0     0     0     0     0  ...     0   \n",
       "\n",
       "      2491  2492  2493  2494  2495  2496  2497  2498  2499  \n",
       "0        0     0     0     0     0     0     0     0     0  \n",
       "1        0     0     0     0     0     0     0     0     0  \n",
       "2        0     0     0     0     0     0     0     0     0  \n",
       "3        0     0     0     0     0     0     0     0     0  \n",
       "4        0     0     0     0     0     0     0     0     0  \n",
       "...    ...   ...   ...   ...   ...   ...   ...   ...   ...  \n",
       "9323     0     0     0     0     0     0     0     0     0  \n",
       "9324     0     0     0     0     0     0     0     0     0  \n",
       "9325     0     0     0     0     0     0     0     0     0  \n",
       "9326     0     0     0     0     0     0     0     0     0  \n",
       "9327     0     0     0     0     0     0     0     0     0  \n",
       "\n",
       "[9328 rows x 2500 columns]"
      ]
     },
     "execution_count": 862,
     "metadata": {},
     "output_type": "execute_result"
    }
   ],
   "source": [
    "#data is term (row) by document (column)\n",
    "TD = pd.read_csv(\"matrix.txt\", header=None)\n",
    "TD"
   ]
  },
  {
   "cell_type": "code",
   "execution_count": 863,
   "id": "0646c170",
   "metadata": {},
   "outputs": [
    {
     "data": {
      "text/html": [
       "<div>\n",
       "<style scoped>\n",
       "    .dataframe tbody tr th:only-of-type {\n",
       "        vertical-align: middle;\n",
       "    }\n",
       "\n",
       "    .dataframe tbody tr th {\n",
       "        vertical-align: top;\n",
       "    }\n",
       "\n",
       "    .dataframe thead th {\n",
       "        text-align: right;\n",
       "    }\n",
       "</style>\n",
       "<table border=\"1\" class=\"dataframe\">\n",
       "  <thead>\n",
       "    <tr style=\"text-align: right;\">\n",
       "      <th></th>\n",
       "      <th>0</th>\n",
       "      <th>1</th>\n",
       "      <th>2</th>\n",
       "      <th>3</th>\n",
       "      <th>4</th>\n",
       "      <th>5</th>\n",
       "      <th>6</th>\n",
       "      <th>7</th>\n",
       "      <th>8</th>\n",
       "      <th>9</th>\n",
       "      <th>...</th>\n",
       "      <th>9318</th>\n",
       "      <th>9319</th>\n",
       "      <th>9320</th>\n",
       "      <th>9321</th>\n",
       "      <th>9322</th>\n",
       "      <th>9323</th>\n",
       "      <th>9324</th>\n",
       "      <th>9325</th>\n",
       "      <th>9326</th>\n",
       "      <th>9327</th>\n",
       "    </tr>\n",
       "  </thead>\n",
       "  <tbody>\n",
       "    <tr>\n",
       "      <th>0</th>\n",
       "      <td>0</td>\n",
       "      <td>0</td>\n",
       "      <td>0</td>\n",
       "      <td>0</td>\n",
       "      <td>0</td>\n",
       "      <td>0</td>\n",
       "      <td>0</td>\n",
       "      <td>0</td>\n",
       "      <td>0</td>\n",
       "      <td>0</td>\n",
       "      <td>...</td>\n",
       "      <td>0</td>\n",
       "      <td>0</td>\n",
       "      <td>0</td>\n",
       "      <td>0</td>\n",
       "      <td>0</td>\n",
       "      <td>0</td>\n",
       "      <td>0</td>\n",
       "      <td>0</td>\n",
       "      <td>0</td>\n",
       "      <td>0</td>\n",
       "    </tr>\n",
       "    <tr>\n",
       "      <th>1</th>\n",
       "      <td>0</td>\n",
       "      <td>0</td>\n",
       "      <td>0</td>\n",
       "      <td>0</td>\n",
       "      <td>0</td>\n",
       "      <td>0</td>\n",
       "      <td>0</td>\n",
       "      <td>0</td>\n",
       "      <td>0</td>\n",
       "      <td>1</td>\n",
       "      <td>...</td>\n",
       "      <td>0</td>\n",
       "      <td>0</td>\n",
       "      <td>0</td>\n",
       "      <td>0</td>\n",
       "      <td>0</td>\n",
       "      <td>0</td>\n",
       "      <td>0</td>\n",
       "      <td>0</td>\n",
       "      <td>0</td>\n",
       "      <td>0</td>\n",
       "    </tr>\n",
       "    <tr>\n",
       "      <th>2</th>\n",
       "      <td>0</td>\n",
       "      <td>0</td>\n",
       "      <td>0</td>\n",
       "      <td>0</td>\n",
       "      <td>0</td>\n",
       "      <td>0</td>\n",
       "      <td>0</td>\n",
       "      <td>0</td>\n",
       "      <td>0</td>\n",
       "      <td>0</td>\n",
       "      <td>...</td>\n",
       "      <td>0</td>\n",
       "      <td>0</td>\n",
       "      <td>0</td>\n",
       "      <td>0</td>\n",
       "      <td>0</td>\n",
       "      <td>0</td>\n",
       "      <td>0</td>\n",
       "      <td>0</td>\n",
       "      <td>0</td>\n",
       "      <td>0</td>\n",
       "    </tr>\n",
       "    <tr>\n",
       "      <th>3</th>\n",
       "      <td>0</td>\n",
       "      <td>0</td>\n",
       "      <td>0</td>\n",
       "      <td>0</td>\n",
       "      <td>0</td>\n",
       "      <td>0</td>\n",
       "      <td>0</td>\n",
       "      <td>0</td>\n",
       "      <td>0</td>\n",
       "      <td>0</td>\n",
       "      <td>...</td>\n",
       "      <td>0</td>\n",
       "      <td>0</td>\n",
       "      <td>0</td>\n",
       "      <td>0</td>\n",
       "      <td>0</td>\n",
       "      <td>0</td>\n",
       "      <td>0</td>\n",
       "      <td>0</td>\n",
       "      <td>0</td>\n",
       "      <td>0</td>\n",
       "    </tr>\n",
       "    <tr>\n",
       "      <th>4</th>\n",
       "      <td>0</td>\n",
       "      <td>0</td>\n",
       "      <td>0</td>\n",
       "      <td>0</td>\n",
       "      <td>0</td>\n",
       "      <td>0</td>\n",
       "      <td>0</td>\n",
       "      <td>0</td>\n",
       "      <td>0</td>\n",
       "      <td>0</td>\n",
       "      <td>...</td>\n",
       "      <td>0</td>\n",
       "      <td>0</td>\n",
       "      <td>0</td>\n",
       "      <td>0</td>\n",
       "      <td>0</td>\n",
       "      <td>0</td>\n",
       "      <td>0</td>\n",
       "      <td>0</td>\n",
       "      <td>0</td>\n",
       "      <td>0</td>\n",
       "    </tr>\n",
       "    <tr>\n",
       "      <th>...</th>\n",
       "      <td>...</td>\n",
       "      <td>...</td>\n",
       "      <td>...</td>\n",
       "      <td>...</td>\n",
       "      <td>...</td>\n",
       "      <td>...</td>\n",
       "      <td>...</td>\n",
       "      <td>...</td>\n",
       "      <td>...</td>\n",
       "      <td>...</td>\n",
       "      <td>...</td>\n",
       "      <td>...</td>\n",
       "      <td>...</td>\n",
       "      <td>...</td>\n",
       "      <td>...</td>\n",
       "      <td>...</td>\n",
       "      <td>...</td>\n",
       "      <td>...</td>\n",
       "      <td>...</td>\n",
       "      <td>...</td>\n",
       "      <td>...</td>\n",
       "    </tr>\n",
       "    <tr>\n",
       "      <th>2495</th>\n",
       "      <td>0</td>\n",
       "      <td>0</td>\n",
       "      <td>0</td>\n",
       "      <td>0</td>\n",
       "      <td>0</td>\n",
       "      <td>0</td>\n",
       "      <td>0</td>\n",
       "      <td>0</td>\n",
       "      <td>0</td>\n",
       "      <td>0</td>\n",
       "      <td>...</td>\n",
       "      <td>0</td>\n",
       "      <td>0</td>\n",
       "      <td>0</td>\n",
       "      <td>0</td>\n",
       "      <td>0</td>\n",
       "      <td>0</td>\n",
       "      <td>0</td>\n",
       "      <td>0</td>\n",
       "      <td>0</td>\n",
       "      <td>0</td>\n",
       "    </tr>\n",
       "    <tr>\n",
       "      <th>2496</th>\n",
       "      <td>0</td>\n",
       "      <td>0</td>\n",
       "      <td>0</td>\n",
       "      <td>0</td>\n",
       "      <td>0</td>\n",
       "      <td>0</td>\n",
       "      <td>0</td>\n",
       "      <td>0</td>\n",
       "      <td>0</td>\n",
       "      <td>0</td>\n",
       "      <td>...</td>\n",
       "      <td>0</td>\n",
       "      <td>0</td>\n",
       "      <td>0</td>\n",
       "      <td>0</td>\n",
       "      <td>0</td>\n",
       "      <td>0</td>\n",
       "      <td>0</td>\n",
       "      <td>0</td>\n",
       "      <td>0</td>\n",
       "      <td>0</td>\n",
       "    </tr>\n",
       "    <tr>\n",
       "      <th>2497</th>\n",
       "      <td>0</td>\n",
       "      <td>0</td>\n",
       "      <td>0</td>\n",
       "      <td>0</td>\n",
       "      <td>0</td>\n",
       "      <td>0</td>\n",
       "      <td>0</td>\n",
       "      <td>0</td>\n",
       "      <td>0</td>\n",
       "      <td>0</td>\n",
       "      <td>...</td>\n",
       "      <td>0</td>\n",
       "      <td>0</td>\n",
       "      <td>0</td>\n",
       "      <td>0</td>\n",
       "      <td>0</td>\n",
       "      <td>0</td>\n",
       "      <td>0</td>\n",
       "      <td>0</td>\n",
       "      <td>0</td>\n",
       "      <td>0</td>\n",
       "    </tr>\n",
       "    <tr>\n",
       "      <th>2498</th>\n",
       "      <td>0</td>\n",
       "      <td>0</td>\n",
       "      <td>0</td>\n",
       "      <td>0</td>\n",
       "      <td>0</td>\n",
       "      <td>0</td>\n",
       "      <td>0</td>\n",
       "      <td>0</td>\n",
       "      <td>0</td>\n",
       "      <td>0</td>\n",
       "      <td>...</td>\n",
       "      <td>0</td>\n",
       "      <td>0</td>\n",
       "      <td>0</td>\n",
       "      <td>0</td>\n",
       "      <td>0</td>\n",
       "      <td>0</td>\n",
       "      <td>0</td>\n",
       "      <td>0</td>\n",
       "      <td>0</td>\n",
       "      <td>0</td>\n",
       "    </tr>\n",
       "    <tr>\n",
       "      <th>2499</th>\n",
       "      <td>0</td>\n",
       "      <td>0</td>\n",
       "      <td>0</td>\n",
       "      <td>0</td>\n",
       "      <td>0</td>\n",
       "      <td>0</td>\n",
       "      <td>0</td>\n",
       "      <td>0</td>\n",
       "      <td>0</td>\n",
       "      <td>0</td>\n",
       "      <td>...</td>\n",
       "      <td>0</td>\n",
       "      <td>0</td>\n",
       "      <td>0</td>\n",
       "      <td>0</td>\n",
       "      <td>0</td>\n",
       "      <td>0</td>\n",
       "      <td>0</td>\n",
       "      <td>0</td>\n",
       "      <td>0</td>\n",
       "      <td>0</td>\n",
       "    </tr>\n",
       "  </tbody>\n",
       "</table>\n",
       "<p>2500 rows × 9328 columns</p>\n",
       "</div>"
      ],
      "text/plain": [
       "      0     1     2     3     4     5     6     7     8     9     ...  9318  \\\n",
       "0        0     0     0     0     0     0     0     0     0     0  ...     0   \n",
       "1        0     0     0     0     0     0     0     0     0     1  ...     0   \n",
       "2        0     0     0     0     0     0     0     0     0     0  ...     0   \n",
       "3        0     0     0     0     0     0     0     0     0     0  ...     0   \n",
       "4        0     0     0     0     0     0     0     0     0     0  ...     0   \n",
       "...    ...   ...   ...   ...   ...   ...   ...   ...   ...   ...  ...   ...   \n",
       "2495     0     0     0     0     0     0     0     0     0     0  ...     0   \n",
       "2496     0     0     0     0     0     0     0     0     0     0  ...     0   \n",
       "2497     0     0     0     0     0     0     0     0     0     0  ...     0   \n",
       "2498     0     0     0     0     0     0     0     0     0     0  ...     0   \n",
       "2499     0     0     0     0     0     0     0     0     0     0  ...     0   \n",
       "\n",
       "      9319  9320  9321  9322  9323  9324  9325  9326  9327  \n",
       "0        0     0     0     0     0     0     0     0     0  \n",
       "1        0     0     0     0     0     0     0     0     0  \n",
       "2        0     0     0     0     0     0     0     0     0  \n",
       "3        0     0     0     0     0     0     0     0     0  \n",
       "4        0     0     0     0     0     0     0     0     0  \n",
       "...    ...   ...   ...   ...   ...   ...   ...   ...   ...  \n",
       "2495     0     0     0     0     0     0     0     0     0  \n",
       "2496     0     0     0     0     0     0     0     0     0  \n",
       "2497     0     0     0     0     0     0     0     0     0  \n",
       "2498     0     0     0     0     0     0     0     0     0  \n",
       "2499     0     0     0     0     0     0     0     0     0  \n",
       "\n",
       "[2500 rows x 9328 columns]"
      ]
     },
     "execution_count": 863,
     "metadata": {},
     "output_type": "execute_result"
    }
   ],
   "source": [
    "#Transpose document(row) by term(column)\n",
    "DT = TD.T\n",
    "DT"
   ]
  },
  {
   "cell_type": "code",
   "execution_count": 864,
   "id": "9ca47178",
   "metadata": {},
   "outputs": [],
   "source": [
    "terms = pd.read_csv(\"terms.txt\", header=None)"
   ]
  },
  {
   "cell_type": "code",
   "execution_count": 865,
   "id": "e2db44f9",
   "metadata": {},
   "outputs": [
    {
     "data": {
      "text/plain": [
       "0       0\n",
       "1       1\n",
       "2       1\n",
       "3       1\n",
       "4       2\n",
       "       ..\n",
       "2495    4\n",
       "2496    4\n",
       "2497    3\n",
       "2498    4\n",
       "2499    2\n",
       "Name: 1, Length: 2500, dtype: int64"
      ]
     },
     "execution_count": 865,
     "metadata": {},
     "output_type": "execute_result"
    }
   ],
   "source": [
    "classes = pd.read_csv(\"classes.txt\", sep=\" \", header=None,skiprows=1)\n",
    "classes = classes[1]\n",
    "classes"
   ]
  },
  {
   "cell_type": "code",
   "execution_count": 866,
   "id": "bd0bc8c8",
   "metadata": {},
   "outputs": [],
   "source": [
    "y = np.array(classes)\n",
    "X = np.array(DT)"
   ]
  },
  {
   "cell_type": "markdown",
   "id": "378b94ee",
   "metadata": {},
   "source": [
    "#### Use the train_test_split function (with random_state = 99) to perform a randomized split the data set (the document by term matrix)"
   ]
  },
  {
   "cell_type": "code",
   "execution_count": 867,
   "id": "91cbb0e5",
   "metadata": {},
   "outputs": [],
   "source": [
    "X_train, X_test, y_train, y_test = train_test_split(X, y, test_size=0.2, random_state=99)"
   ]
  },
  {
   "cell_type": "markdown",
   "id": "64d749a1",
   "metadata": {},
   "source": [
    "#### PerformTFxIDF Conversion"
   ]
  },
  {
   "cell_type": "code",
   "execution_count": 868,
   "id": "0b20e8b9",
   "metadata": {},
   "outputs": [
    {
     "name": "stdout",
     "output_type": "stream",
     "text": [
      "[[2500. 2500. 2500. ... 2500. 2500. 2500.]\n",
      " [2500. 2500. 2500. ... 2500. 2500. 2500.]\n",
      " [2500. 2500. 2500. ... 2500. 2500. 2500.]\n",
      " ...\n",
      " [2500. 2500. 2500. ... 2500. 2500. 2500.]\n",
      " [2500. 2500. 2500. ... 2500. 2500. 2500.]\n",
      " [2500. 2500. 2500. ... 2500. 2500. 2500.]]\n"
     ]
    }
   ],
   "source": [
    "numTerms=TD.shape[0]\n",
    "NDocs = TD.shape[1]\n",
    "DF = pd.DataFrame([(TD!=0).sum(1)]).T\n",
    "NMatrix=np.ones(np.shape(TD), dtype=float)*NDocs\n",
    "np.set_printoptions(precision=2,suppress=True,linewidth=120)\n",
    "print(NMatrix)"
   ]
  },
  {
   "cell_type": "code",
   "execution_count": 869,
   "id": "ff2d37ac",
   "metadata": {},
   "outputs": [
    {
     "data": {
      "text/plain": [
       "array([[0., 0., 0., ..., 0., 0., 0.],\n",
       "       [0., 0., 0., ..., 0., 0., 0.],\n",
       "       [0., 0., 0., ..., 0., 0., 0.],\n",
       "       ...,\n",
       "       [0., 0., 0., ..., 0., 0., 0.],\n",
       "       [0., 0., 0., ..., 0., 0., 0.],\n",
       "       [0., 0., 0., ..., 0., 0., 0.]])"
      ]
     },
     "execution_count": 869,
     "metadata": {},
     "output_type": "execute_result"
    }
   ],
   "source": [
    "IDF = np.log2(np.divide(NMatrix, np.array(DF)))\n",
    "np.set_printoptions(precision=2,suppress=True)\n",
    "IDFT = IDF.T\n",
    "X_train = X_train * IDFT[:2000,:]\n",
    "X_test_idf = X_test * IDFT[:500,:]\n",
    "X_train"
   ]
  },
  {
   "cell_type": "markdown",
   "id": "72af11ad",
   "metadata": {},
   "source": [
    "#### Problem 2c"
   ]
  },
  {
   "cell_type": "code",
   "execution_count": 870,
   "id": "0481fb07",
   "metadata": {},
   "outputs": [],
   "source": [
    "def distEuclid(vecA, vecB):\n",
    "    return sqrt(sum(power(vecA - vecB, 2))) #la.norm(vecA-vecB)\n",
    "\n",
    "def randCent(dataSet, k):\n",
    "\tn = shape(dataSet)[1]\n",
    "\tcentroids = zeros((k,n), dtype=float)\n",
    "\tfor j in range(n): #create random cluster centers\n",
    "\t\tminJ = min(dataSet[:,j])\n",
    "\t\trangeJ = float(max(dataSet[:,j]) - minJ)\n",
    "\t\tcentroids[:,j] = minJ + rangeJ * random.rand(k)\n",
    "\treturn centroids \n",
    "\n",
    "def kMeans(dataSet, k, distMeas=distEuclid, createCent=randCent):\n",
    "    m = shape(dataSet)[0]\n",
    "    clusterAssment = zeros((m,2)) #create mat to assign data points \n",
    "                                  #to a centroid, also holds SE of each point\n",
    "    centroids = createCent(dataSet, k)\n",
    "    clusterChanged = True\n",
    "    while clusterChanged:\n",
    "        clusterChanged = False\n",
    "        for i in range(m): #for each data point assign it to the closest centroid\n",
    "            minDist = inf; minIndex = -1\n",
    "            for j in range(k):\n",
    "                distJI = distMeas(centroids[j,:],dataSet[i,:])\n",
    "                if distJI < minDist:\n",
    "                    minDist = distJI; minIndex = j\n",
    "            if clusterAssment[i,0] != minIndex: clusterChanged = True\n",
    "            clusterAssment[i,:] = minIndex,minDist**2\n",
    "        # print centroids\n",
    "        for cent in range(k):#recalculate centroids\n",
    "            ptsInClust = dataSet[nonzero(clusterAssment[:,0]==cent)[0]] #get all the point in this cluster - Note: this was incorrect in the original distribution.\n",
    "            if(len(ptsInClust)!=0):\n",
    "                centroids[cent,:] = mean(ptsInClust, axis=0) #assign centroid to mean - Note condition was added 10/28/2013\n",
    "    return centroids, clusterAssment\n",
    "\n",
    "def biKmeans(dataSet, k, distMeas=distEuclid):\n",
    "    m = shape(dataSet)[0]\n",
    "    clusterAssment = mat(zeros((m,2)))\n",
    "    centroid0 = mean(dataSet, axis=0).tolist()[0]\n",
    "    centList =[centroid0] #create a list with one centroid\n",
    "    for j in range(m): #calc initial Error\n",
    "        clusterAssment[j,1] = distMeas(mat(centroid0), dataSet[j,:])**2\n",
    "    while (len(centList) < k):\n",
    "        lowestSSE = inf\n",
    "        for i in range(len(centList)):\n",
    "            ptsInCurrCluster = dataSet[nonzero(clusterAssment[:,0].A==i)[0],:] #get the data points currently in cluster i\n",
    "            centroidMat, splitClustAss = kMeans(ptsInCurrCluster, 2, distMeas)\n",
    "            sseSplit = sum(splitClustAss[:,1]) #compare the SSE to the currrent minimum\n",
    "            sseNotSplit = sum(clusterAssment[nonzero(clusterAssment[:,0].A!=i)[0],1])\n",
    "            print(\"sseSplit, and notSplit: \",sseSplit,sseNotSplit)\n",
    "            if (sseSplit + sseNotSplit) < lowestSSE:\n",
    "                bestCentToSplit = i\n",
    "                bestNewCents = centroidMat\n",
    "                bestClustAss = splitClustAss.copy()\n",
    "                lowestSSE = sseSplit + sseNotSplit\n",
    "        bestClustAss[nonzero(bestClustAss[:,0] == 1)[0],0] = len(centList) #change 1 to 3,4, or whatever\n",
    "        bestClustAss[nonzero(bestClustAss[:,0] == 0)[0],0] = bestCentToSplit\n",
    "        print('the bestCentToSplit is: ',bestCentToSplit)\n",
    "        print('the len of bestClustAss is: ', len(bestClustAss))\n",
    "        centList[bestCentToSplit] = bestNewCents[0,:].tolist()[0] #replace a centroid with two best centroids \n",
    "        centList.append(bestNewCents[1,:].tolist()[0])\n",
    "        clusterAssment[nonzero(clusterAssment[:,0].A == bestCentToSplit)[0],:]= bestClustAss #reassign new clusters, and SSE\n",
    "    return mat(centList), clusterAssment"
   ]
  },
  {
   "cell_type": "markdown",
   "id": "c024e0ed",
   "metadata": {},
   "source": [
    "#### Function to display cluster report"
   ]
  },
  {
   "cell_type": "code",
   "execution_count": 871,
   "id": "9e6e1dc2",
   "metadata": {},
   "outputs": [
    {
     "name": "stdout",
     "output_type": "stream",
     "text": [
      "Size of Cluster 0 =  3\n",
      "\n",
      "Top Terms:\n",
      "[['db']\n",
      " ['bh']\n",
      " ['cs']\n",
      " ['si']\n",
      " ['byte']]\n",
      "\n",
      "Freq:\n",
      "[1468.36  345.21  204.04  182.02  148.6 ]\n",
      "\n",
      "Size of Cluster 1 =  398\n",
      "\n",
      "Top Terms:\n",
      "[['kei']\n",
      " ['chip']\n",
      " ['encrypt']\n",
      " ['secur']\n",
      " ['clipper']]\n",
      "\n",
      "Freq:\n",
      "[5.6  3.98 3.92 3.31 3.24]\n",
      "\n",
      "Size of Cluster 2 =  803\n",
      "\n",
      "Top Terms:\n",
      "[['god']\n",
      " ['christian']\n",
      " ['cx']\n",
      " ['game']\n",
      " ['team']]\n",
      "\n",
      "Freq:\n",
      "[3.83 2.47 2.39 2.28 2.05]\n",
      "\n",
      "Size of Cluster 3 =  789\n",
      "\n",
      "Top Terms:\n",
      "[['window']\n",
      " ['file']\n",
      " ['driver']\n",
      " ['do']\n",
      " ['sale']]\n",
      "\n",
      "Freq:\n",
      "[3.13 2.23 1.5  1.49 1.38]\n",
      "\n",
      "Size of Cluster 4 =  7\n",
      "\n",
      "Top Terms:\n",
      "[['ax']\n",
      " ['max']\n",
      " ['pl']\n",
      " ['giz']\n",
      " ['bxn']]\n",
      "\n",
      "Freq:\n",
      "[41371.61  2826.98   296.54   229.69   132.6 ]\n",
      "\n"
     ]
    }
   ],
   "source": [
    "centroids, clusterAssment = kMeans(X_train, 5, distCosine, randCent)\n",
    "centroidsDF = pd.DataFrame(centroids, columns = terms)\n",
    "cluster_array = clusterAssment[:,0].astype(int) \n",
    "\n",
    "def cluster_sizes(data, cluster_array):\n",
    "    size = {}\n",
    "    cluster_labels = np.unique(cluster_array)\n",
    "    n_clusters = cluster_labels.shape[0]\n",
    "\n",
    "    for c in cluster_labels:\n",
    "        size[c] = len(data[cluster_array == c])\n",
    "    return size\n",
    "\n",
    "c_size = cluster_sizes(X_train, cluster_array)\n",
    "\n",
    "termsA = np.array(terms)\n",
    "def cluster_report(arr,numterms, terms, c_s):\n",
    "    for r,c, in zip(arr, c_size):\n",
    "        print(\"Size of Cluster\", c, \"= \", c_size[c])\n",
    "        sorted_index_array = np.argsort(r)\n",
    "        indx = sorted_index_array[::-1][:numterms]\n",
    "        print()\n",
    "        print(\"Top Terms:\")\n",
    "        print(terms[indx])\n",
    "        print()\n",
    "        print(\"Freq:\")\n",
    "        print(r[indx])\n",
    "        print()\n",
    "cluster_report(centroids, 5 ,termsA,c_size )"
   ]
  },
  {
   "cell_type": "markdown",
   "id": "1ca2377c",
   "metadata": {},
   "source": [
    "#### After trying different clusters of 4-8 for value of K, it seems that 5 provided the most clarity in terms of word groups."
   ]
  },
  {
   "cell_type": "code",
   "execution_count": 872,
   "id": "7fdd4b46",
   "metadata": {},
   "outputs": [
    {
     "data": {
      "text/html": [
       "<div>\n",
       "<style scoped>\n",
       "    .dataframe tbody tr th:only-of-type {\n",
       "        vertical-align: middle;\n",
       "    }\n",
       "\n",
       "    .dataframe tbody tr th {\n",
       "        vertical-align: top;\n",
       "    }\n",
       "\n",
       "    .dataframe thead th {\n",
       "        text-align: right;\n",
       "    }\n",
       "</style>\n",
       "<table border=\"1\" class=\"dataframe\">\n",
       "  <thead>\n",
       "    <tr style=\"text-align: right;\">\n",
       "      <th></th>\n",
       "      <th>(aa,)</th>\n",
       "      <th>(aargh,)</th>\n",
       "      <th>(aaron,)</th>\n",
       "      <th>(aaronc,)</th>\n",
       "      <th>(ab,)</th>\n",
       "      <th>(abandon,)</th>\n",
       "      <th>(abc,)</th>\n",
       "      <th>(abid,)</th>\n",
       "      <th>(abil,)</th>\n",
       "      <th>(abl,)</th>\n",
       "      <th>...</th>\n",
       "      <th>(zq,)</th>\n",
       "      <th>(zr,)</th>\n",
       "      <th>(zrb,)</th>\n",
       "      <th>(zs,)</th>\n",
       "      <th>(zu,)</th>\n",
       "      <th>(zubov,)</th>\n",
       "      <th>(zv,)</th>\n",
       "      <th>(zw,)</th>\n",
       "      <th>(zx,)</th>\n",
       "      <th>(zz,)</th>\n",
       "    </tr>\n",
       "  </thead>\n",
       "  <tbody>\n",
       "    <tr>\n",
       "      <th>0</th>\n",
       "      <td>0.02</td>\n",
       "      <td>0.00</td>\n",
       "      <td>1.24</td>\n",
       "      <td>0.23</td>\n",
       "      <td>0.04</td>\n",
       "      <td>0.12</td>\n",
       "      <td>0.00e+00</td>\n",
       "      <td>0.00</td>\n",
       "      <td>0.28</td>\n",
       "      <td>0.41</td>\n",
       "      <td>...</td>\n",
       "      <td>0.00</td>\n",
       "      <td>0.00</td>\n",
       "      <td>0.00</td>\n",
       "      <td>0.00</td>\n",
       "      <td>0.0</td>\n",
       "      <td>0.00</td>\n",
       "      <td>0.00</td>\n",
       "      <td>0.00</td>\n",
       "      <td>0.00</td>\n",
       "      <td>0.00</td>\n",
       "    </tr>\n",
       "    <tr>\n",
       "      <th>1</th>\n",
       "      <td>0.04</td>\n",
       "      <td>0.13</td>\n",
       "      <td>0.00</td>\n",
       "      <td>0.00</td>\n",
       "      <td>0.13</td>\n",
       "      <td>0.04</td>\n",
       "      <td>7.36e-01</td>\n",
       "      <td>0.00</td>\n",
       "      <td>0.14</td>\n",
       "      <td>0.23</td>\n",
       "      <td>...</td>\n",
       "      <td>0.19</td>\n",
       "      <td>0.18</td>\n",
       "      <td>0.07</td>\n",
       "      <td>0.09</td>\n",
       "      <td>0.1</td>\n",
       "      <td>0.13</td>\n",
       "      <td>0.45</td>\n",
       "      <td>0.05</td>\n",
       "      <td>0.05</td>\n",
       "      <td>0.26</td>\n",
       "    </tr>\n",
       "    <tr>\n",
       "      <th>2</th>\n",
       "      <td>0.00</td>\n",
       "      <td>0.00</td>\n",
       "      <td>0.00</td>\n",
       "      <td>0.00</td>\n",
       "      <td>1.08</td>\n",
       "      <td>0.00</td>\n",
       "      <td>0.00e+00</td>\n",
       "      <td>0.00</td>\n",
       "      <td>0.00</td>\n",
       "      <td>0.00</td>\n",
       "      <td>...</td>\n",
       "      <td>0.00</td>\n",
       "      <td>1.28</td>\n",
       "      <td>0.00</td>\n",
       "      <td>9.95</td>\n",
       "      <td>0.0</td>\n",
       "      <td>0.00</td>\n",
       "      <td>0.00</td>\n",
       "      <td>1.39</td>\n",
       "      <td>0.00</td>\n",
       "      <td>0.00</td>\n",
       "    </tr>\n",
       "    <tr>\n",
       "      <th>3</th>\n",
       "      <td>0.05</td>\n",
       "      <td>0.00</td>\n",
       "      <td>0.05</td>\n",
       "      <td>0.00</td>\n",
       "      <td>0.04</td>\n",
       "      <td>0.02</td>\n",
       "      <td>7.99e-03</td>\n",
       "      <td>0.00</td>\n",
       "      <td>0.05</td>\n",
       "      <td>0.26</td>\n",
       "      <td>...</td>\n",
       "      <td>0.00</td>\n",
       "      <td>0.00</td>\n",
       "      <td>0.00</td>\n",
       "      <td>0.00</td>\n",
       "      <td>0.0</td>\n",
       "      <td>0.00</td>\n",
       "      <td>0.00</td>\n",
       "      <td>0.00</td>\n",
       "      <td>0.00</td>\n",
       "      <td>0.00</td>\n",
       "    </tr>\n",
       "    <tr>\n",
       "      <th>4</th>\n",
       "      <td>0.00</td>\n",
       "      <td>0.00</td>\n",
       "      <td>0.00</td>\n",
       "      <td>0.00</td>\n",
       "      <td>0.00</td>\n",
       "      <td>0.00</td>\n",
       "      <td>3.16e-02</td>\n",
       "      <td>0.05</td>\n",
       "      <td>0.28</td>\n",
       "      <td>0.46</td>\n",
       "      <td>...</td>\n",
       "      <td>0.00</td>\n",
       "      <td>0.00</td>\n",
       "      <td>0.00</td>\n",
       "      <td>0.00</td>\n",
       "      <td>0.0</td>\n",
       "      <td>0.00</td>\n",
       "      <td>0.00</td>\n",
       "      <td>0.00</td>\n",
       "      <td>0.00</td>\n",
       "      <td>0.00</td>\n",
       "    </tr>\n",
       "  </tbody>\n",
       "</table>\n",
       "<p>5 rows × 9328 columns</p>\n",
       "</div>"
      ],
      "text/plain": [
       "   (aa,)  (aargh,)  (aaron,)  (aaronc,)  (ab,)  (abandon,)    (abc,)  (abid,)  \\\n",
       "0   0.02      0.00      1.24       0.23   0.04        0.12  0.00e+00     0.00   \n",
       "1   0.04      0.13      0.00       0.00   0.13        0.04  7.36e-01     0.00   \n",
       "2   0.00      0.00      0.00       0.00   1.08        0.00  0.00e+00     0.00   \n",
       "3   0.05      0.00      0.05       0.00   0.04        0.02  7.99e-03     0.00   \n",
       "4   0.00      0.00      0.00       0.00   0.00        0.00  3.16e-02     0.05   \n",
       "\n",
       "   (abil,)  (abl,)  ...  (zq,)  (zr,)  (zrb,)  (zs,)  (zu,)  (zubov,)  (zv,)  \\\n",
       "0     0.28    0.41  ...   0.00   0.00    0.00   0.00    0.0      0.00   0.00   \n",
       "1     0.14    0.23  ...   0.19   0.18    0.07   0.09    0.1      0.13   0.45   \n",
       "2     0.00    0.00  ...   0.00   1.28    0.00   9.95    0.0      0.00   0.00   \n",
       "3     0.05    0.26  ...   0.00   0.00    0.00   0.00    0.0      0.00   0.00   \n",
       "4     0.28    0.46  ...   0.00   0.00    0.00   0.00    0.0      0.00   0.00   \n",
       "\n",
       "   (zw,)  (zx,)  (zz,)  \n",
       "0   0.00   0.00   0.00  \n",
       "1   0.05   0.05   0.26  \n",
       "2   1.39   0.00   0.00  \n",
       "3   0.00   0.00   0.00  \n",
       "4   0.00   0.00   0.00  \n",
       "\n",
       "[5 rows x 9328 columns]"
      ]
     },
     "execution_count": 872,
     "metadata": {},
     "output_type": "execute_result"
    }
   ],
   "source": [
    "centroids, clusterAssment = kMeans(X_train, 5, distCosine, randCent)\n",
    "centroids = pd.DataFrame(centroids, columns = terms)\n",
    "centroids"
   ]
  },
  {
   "cell_type": "markdown",
   "id": "d9931459",
   "metadata": {},
   "source": [
    "### Problem 2d"
   ]
  },
  {
   "cell_type": "markdown",
   "id": "ad336bd6",
   "metadata": {},
   "source": [
    "#### Using the cluster assignments from your Kmeans clustering and the original cluster labels for the training document, compare the clusters to the re-assigned classes by computing the Completeness and Homogeneity values using best values of K and clustering from above\n",
    "\n"
   ]
  },
  {
   "cell_type": "code",
   "execution_count": 873,
   "id": "a478de7d",
   "metadata": {},
   "outputs": [
    {
     "name": "stdout",
     "output_type": "stream",
     "text": [
      "Completeness Score:\n",
      "0.860351323448776\n",
      "\n",
      "Homogeneity Score:\n",
      "0.7217533686358573\n"
     ]
    }
   ],
   "source": [
    "doc_clusters = pd.DataFrame(clusterAssment, columns=[\"Cluster\", \"MinDistance**2\"])\n",
    "newC = doc_clusters[\"Cluster\"].astype(int)\n",
    "print(\"Completeness Score:\")\n",
    "print(completeness_score(y_train,newC))\n",
    "print()\n",
    "print(\"Homogeneity Score:\")\n",
    "print(homogeneity_score(y_train,newC))"
   ]
  },
  {
   "cell_type": "markdown",
   "id": "97442292",
   "metadata": {},
   "source": [
    "### Problem 2d Extra Credit"
   ]
  },
  {
   "cell_type": "code",
   "execution_count": 874,
   "id": "13b28060",
   "metadata": {},
   "outputs": [
    {
     "name": "stdout",
     "output_type": "stream",
     "text": [
      "Completeness Score:\n",
      "0.746107762504485\n",
      "\n",
      "Homogeneity Score:\n",
      "0.32568495309687034\n"
     ]
    }
   ],
   "source": [
    "centroids1, clusterAssment1 = kMeans(X_train, 5, distCosine, randCent)\n",
    "doc_clusters = pd.DataFrame(clusterAssment1, columns=[\"Cluster\", \"MinDistance**2\"])\n",
    "newC = doc_clusters[\"Cluster\"].astype(int)\n",
    "print(\"Completeness Score:\")\n",
    "print(completeness_score(y_train,newC))\n",
    "print()\n",
    "print(\"Homogeneity Score:\")\n",
    "print(homogeneity_score(y_train,newC))"
   ]
  },
  {
   "cell_type": "code",
   "execution_count": 875,
   "id": "42117c03",
   "metadata": {},
   "outputs": [
    {
     "name": "stdout",
     "output_type": "stream",
     "text": [
      "Completeness Score:\n",
      "0.8177012274604758\n",
      "\n",
      "Homogeneity Score:\n",
      "0.5461875951945434\n"
     ]
    }
   ],
   "source": [
    "centroids2, clusterAssment2 = kMeans(X_train, 4, distCosine, randCent)\n",
    "doc_clusters = pd.DataFrame(clusterAssment2, columns=[\"Cluster\", \"MinDistance**2\"])\n",
    "newC = doc_clusters[\"Cluster\"].astype(int)\n",
    "print(\"Completeness Score:\")\n",
    "print(completeness_score(y_train,newC))\n",
    "print()\n",
    "print(\"Homogeneity Score:\")\n",
    "print(homogeneity_score(y_train,newC))"
   ]
  },
  {
   "cell_type": "code",
   "execution_count": 876,
   "id": "c3f82a8b",
   "metadata": {},
   "outputs": [
    {
     "name": "stdout",
     "output_type": "stream",
     "text": [
      "Completeness Score:\n",
      "0.7752779139606654\n",
      "\n",
      "Homogeneity Score:\n",
      "0.5582475986194864\n"
     ]
    }
   ],
   "source": [
    "centroids3, clusterAssment3 = kMeans(X_train, 6, distCosine, randCent)\n",
    "doc_clusters = pd.DataFrame(clusterAssment3, columns=[\"Cluster\", \"MinDistance**2\"])\n",
    "newC = doc_clusters[\"Cluster\"].astype(int)\n",
    "print(\"Completeness Score:\")\n",
    "print(completeness_score(y_train,newC))\n",
    "print()\n",
    "print(\"Homogeneity Score:\")\n",
    "print(homogeneity_score(y_train,newC))"
   ]
  },
  {
   "cell_type": "markdown",
   "id": "9aef4191",
   "metadata": {},
   "source": [
    "#### After completing mutliple runs, I decided to use 4, 5, and 5 for my value of K. I see as I use lower values the completeness score is more accurate which is expected, but the word groups aren't as clear at lower levels."
   ]
  },
  {
   "cell_type": "markdown",
   "id": "509ecaf8",
   "metadata": {},
   "source": [
    "### Problem 2e"
   ]
  },
  {
   "cell_type": "markdown",
   "id": "9ff25c6d",
   "metadata": {},
   "source": [
    "[10 pts] Finally, using your cluster assignments as class labels, categorize each of the documents in the 20% set-aside data into each of the appropriate clusters (using your final clustering results in part c). Your categorization should be based on Cosine similarity between each test document and cluster centroids. For each test document show the assigned cluster label as well as Cosine similarity to the corresponding cluster."
   ]
  },
  {
   "cell_type": "markdown",
   "id": "68f252f6",
   "metadata": {},
   "source": [
    "#### I was unsure of what this problem was asking"
   ]
  }
 ],
 "metadata": {
  "kernelspec": {
   "display_name": "Python 3 (ipykernel)",
   "language": "python",
   "name": "python3"
  },
  "language_info": {
   "codemirror_mode": {
    "name": "ipython",
    "version": 3
   },
   "file_extension": ".py",
   "mimetype": "text/x-python",
   "name": "python",
   "nbconvert_exporter": "python",
   "pygments_lexer": "ipython3",
   "version": "3.9.12"
  }
 },
 "nbformat": 4,
 "nbformat_minor": 5
}
