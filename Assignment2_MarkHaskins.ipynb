{
 "cells": [
  {
   "cell_type": "markdown",
   "id": "3b767c92",
   "metadata": {},
   "source": [
    "# Assignment 2"
   ]
  },
  {
   "cell_type": "markdown",
   "id": "f4e9c89e",
   "metadata": {},
   "source": [
    "## Mark Haskins"
   ]
  },
  {
   "cell_type": "markdown",
   "id": "ad815a75",
   "metadata": {},
   "source": [
    "### import libraries"
   ]
  },
  {
   "cell_type": "code",
   "execution_count": 103,
   "id": "6b82b943",
   "metadata": {},
   "outputs": [],
   "source": [
    "import numpy as np\n",
    "import pandas as pd\n",
    "import matplotlib.pyplot as plt\n",
    "%matplotlib inline\n",
    "from collections import Counter\n",
    "from sklearn.model_selection import train_test_split\n",
    "from sklearn import preprocessing\n",
    "from sklearn.metrics import classification_report\n",
    "from sklearn import neighbors, tree, naive_bayes\n",
    "from sklearn.metrics import confusion_matrix\n",
    "from sklearn.tree import export_graphviz\n",
    "from IPython.display import SVG\n",
    "from graphviz import Source\n",
    "from IPython.display import display\n",
    "from IPython.display import Image\n",
    "import graphviz\n",
    "from sklearn.discriminant_analysis import LinearDiscriminantAnalysis\n",
    "from sklearn.model_selection import cross_val_score\n",
    "from sklearn.neighbors import NearestCentroid"
   ]
  },
  {
   "cell_type": "markdown",
   "id": "cbf04913",
   "metadata": {},
   "source": [
    "### Problem 1a"
   ]
  },
  {
   "cell_type": "code",
   "execution_count": 104,
   "id": "4a3b4a31",
   "metadata": {},
   "outputs": [
    {
     "data": {
      "text/html": [
       "<div>\n",
       "<style scoped>\n",
       "    .dataframe tbody tr th:only-of-type {\n",
       "        vertical-align: middle;\n",
       "    }\n",
       "\n",
       "    .dataframe tbody tr th {\n",
       "        vertical-align: top;\n",
       "    }\n",
       "\n",
       "    .dataframe thead th {\n",
       "        text-align: right;\n",
       "    }\n",
       "</style>\n",
       "<table border=\"1\" class=\"dataframe\">\n",
       "  <thead>\n",
       "    <tr style=\"text-align: right;\">\n",
       "      <th></th>\n",
       "      <th>0</th>\n",
       "    </tr>\n",
       "  </thead>\n",
       "  <tbody>\n",
       "    <tr>\n",
       "      <th>0</th>\n",
       "      <td>david</td>\n",
       "    </tr>\n",
       "    <tr>\n",
       "      <th>1</th>\n",
       "      <td>rex</td>\n",
       "    </tr>\n",
       "    <tr>\n",
       "      <th>2</th>\n",
       "      <td>wood</td>\n",
       "    </tr>\n",
       "    <tr>\n",
       "      <th>3</th>\n",
       "      <td>subject</td>\n",
       "    </tr>\n",
       "    <tr>\n",
       "      <th>4</th>\n",
       "      <td>call</td>\n",
       "    </tr>\n",
       "    <tr>\n",
       "      <th>...</th>\n",
       "      <td>...</td>\n",
       "    </tr>\n",
       "    <tr>\n",
       "      <th>5495</th>\n",
       "      <td>shear</td>\n",
       "    </tr>\n",
       "    <tr>\n",
       "      <th>5496</th>\n",
       "      <td>handi</td>\n",
       "    </tr>\n",
       "    <tr>\n",
       "      <th>5497</th>\n",
       "      <td>inexperienc</td>\n",
       "    </tr>\n",
       "    <tr>\n",
       "      <th>5498</th>\n",
       "      <td>markw</td>\n",
       "    </tr>\n",
       "    <tr>\n",
       "      <th>5499</th>\n",
       "      <td>pspmf3gpsemicom</td>\n",
       "    </tr>\n",
       "  </tbody>\n",
       "</table>\n",
       "<p>5500 rows × 1 columns</p>\n",
       "</div>"
      ],
      "text/plain": [
       "                    0\n",
       "0               david\n",
       "1                 rex\n",
       "2                wood\n",
       "3             subject\n",
       "4                call\n",
       "...               ...\n",
       "5495            shear\n",
       "5496            handi\n",
       "5497      inexperienc\n",
       "5498            markw\n",
       "5499  pspmf3gpsemicom\n",
       "\n",
       "[5500 rows x 1 columns]"
      ]
     },
     "execution_count": 104,
     "metadata": {},
     "output_type": "execute_result"
    }
   ],
   "source": [
    "terms = pd.read_csv(\"modifiedterms.txt\", sep=\" \", header=None )\n",
    "terms"
   ]
  },
  {
   "cell_type": "code",
   "execution_count": 105,
   "id": "b3e612c9",
   "metadata": {},
   "outputs": [
    {
     "data": {
      "text/html": [
       "<div>\n",
       "<style scoped>\n",
       "    .dataframe tbody tr th:only-of-type {\n",
       "        vertical-align: middle;\n",
       "    }\n",
       "\n",
       "    .dataframe tbody tr th {\n",
       "        vertical-align: top;\n",
       "    }\n",
       "\n",
       "    .dataframe thead th {\n",
       "        text-align: right;\n",
       "    }\n",
       "</style>\n",
       "<table border=\"1\" class=\"dataframe\">\n",
       "  <thead>\n",
       "    <tr style=\"text-align: right;\">\n",
       "      <th></th>\n",
       "      <th>0</th>\n",
       "      <th>1</th>\n",
       "    </tr>\n",
       "  </thead>\n",
       "  <tbody>\n",
       "    <tr>\n",
       "      <th>0</th>\n",
       "      <td>0</td>\n",
       "      <td>1</td>\n",
       "    </tr>\n",
       "    <tr>\n",
       "      <th>1</th>\n",
       "      <td>1</td>\n",
       "      <td>0</td>\n",
       "    </tr>\n",
       "    <tr>\n",
       "      <th>2</th>\n",
       "      <td>2</td>\n",
       "      <td>0</td>\n",
       "    </tr>\n",
       "    <tr>\n",
       "      <th>3</th>\n",
       "      <td>3</td>\n",
       "      <td>1</td>\n",
       "    </tr>\n",
       "    <tr>\n",
       "      <th>4</th>\n",
       "      <td>4</td>\n",
       "      <td>1</td>\n",
       "    </tr>\n",
       "    <tr>\n",
       "      <th>...</th>\n",
       "      <td>...</td>\n",
       "      <td>...</td>\n",
       "    </tr>\n",
       "    <tr>\n",
       "      <th>195</th>\n",
       "      <td>195</td>\n",
       "      <td>1</td>\n",
       "    </tr>\n",
       "    <tr>\n",
       "      <th>196</th>\n",
       "      <td>196</td>\n",
       "      <td>1</td>\n",
       "    </tr>\n",
       "    <tr>\n",
       "      <th>197</th>\n",
       "      <td>197</td>\n",
       "      <td>0</td>\n",
       "    </tr>\n",
       "    <tr>\n",
       "      <th>198</th>\n",
       "      <td>198</td>\n",
       "      <td>1</td>\n",
       "    </tr>\n",
       "    <tr>\n",
       "      <th>199</th>\n",
       "      <td>199</td>\n",
       "      <td>1</td>\n",
       "    </tr>\n",
       "  </tbody>\n",
       "</table>\n",
       "<p>200 rows × 2 columns</p>\n",
       "</div>"
      ],
      "text/plain": [
       "       0  1\n",
       "0      0  1\n",
       "1      1  0\n",
       "2      2  0\n",
       "3      3  1\n",
       "4      4  1\n",
       "..   ... ..\n",
       "195  195  1\n",
       "196  196  1\n",
       "197  197  0\n",
       "198  198  1\n",
       "199  199  1\n",
       "\n",
       "[200 rows x 2 columns]"
      ]
     },
     "execution_count": 105,
     "metadata": {},
     "output_type": "execute_result"
    }
   ],
   "source": [
    "testClass = pd.read_csv(\"testClasses.txt\", sep=\"\\t\", header=None)\n",
    "testClass"
   ]
  },
  {
   "cell_type": "code",
   "execution_count": 106,
   "id": "014f09d1",
   "metadata": {},
   "outputs": [
    {
     "data": {
      "text/html": [
       "<div>\n",
       "<style scoped>\n",
       "    .dataframe tbody tr th:only-of-type {\n",
       "        vertical-align: middle;\n",
       "    }\n",
       "\n",
       "    .dataframe tbody tr th {\n",
       "        vertical-align: top;\n",
       "    }\n",
       "\n",
       "    .dataframe thead th {\n",
       "        text-align: right;\n",
       "    }\n",
       "</style>\n",
       "<table border=\"1\" class=\"dataframe\">\n",
       "  <thead>\n",
       "    <tr style=\"text-align: right;\">\n",
       "      <th></th>\n",
       "      <th>0</th>\n",
       "      <th>1</th>\n",
       "    </tr>\n",
       "  </thead>\n",
       "  <tbody>\n",
       "    <tr>\n",
       "      <th>0</th>\n",
       "      <td>0</td>\n",
       "      <td>0</td>\n",
       "    </tr>\n",
       "    <tr>\n",
       "      <th>1</th>\n",
       "      <td>1</td>\n",
       "      <td>1</td>\n",
       "    </tr>\n",
       "    <tr>\n",
       "      <th>2</th>\n",
       "      <td>2</td>\n",
       "      <td>0</td>\n",
       "    </tr>\n",
       "    <tr>\n",
       "      <th>3</th>\n",
       "      <td>3</td>\n",
       "      <td>1</td>\n",
       "    </tr>\n",
       "    <tr>\n",
       "      <th>4</th>\n",
       "      <td>4</td>\n",
       "      <td>0</td>\n",
       "    </tr>\n",
       "    <tr>\n",
       "      <th>...</th>\n",
       "      <td>...</td>\n",
       "      <td>...</td>\n",
       "    </tr>\n",
       "    <tr>\n",
       "      <th>795</th>\n",
       "      <td>795</td>\n",
       "      <td>0</td>\n",
       "    </tr>\n",
       "    <tr>\n",
       "      <th>796</th>\n",
       "      <td>796</td>\n",
       "      <td>1</td>\n",
       "    </tr>\n",
       "    <tr>\n",
       "      <th>797</th>\n",
       "      <td>797</td>\n",
       "      <td>1</td>\n",
       "    </tr>\n",
       "    <tr>\n",
       "      <th>798</th>\n",
       "      <td>798</td>\n",
       "      <td>1</td>\n",
       "    </tr>\n",
       "    <tr>\n",
       "      <th>799</th>\n",
       "      <td>799</td>\n",
       "      <td>1</td>\n",
       "    </tr>\n",
       "  </tbody>\n",
       "</table>\n",
       "<p>800 rows × 2 columns</p>\n",
       "</div>"
      ],
      "text/plain": [
       "       0  1\n",
       "0      0  0\n",
       "1      1  1\n",
       "2      2  0\n",
       "3      3  1\n",
       "4      4  0\n",
       "..   ... ..\n",
       "795  795  0\n",
       "796  796  1\n",
       "797  797  1\n",
       "798  798  1\n",
       "799  799  1\n",
       "\n",
       "[800 rows x 2 columns]"
      ]
     },
     "execution_count": 106,
     "metadata": {},
     "output_type": "execute_result"
    }
   ],
   "source": [
    "trainClass = pd.read_csv(\"trainClasses.txt\", sep=\"\\t\", header=None)\n",
    "trainClass"
   ]
  },
  {
   "cell_type": "code",
   "execution_count": 107,
   "id": "f5ffa140",
   "metadata": {
    "scrolled": true
   },
   "outputs": [
    {
     "data": {
      "text/html": [
       "<div>\n",
       "<style scoped>\n",
       "    .dataframe tbody tr th:only-of-type {\n",
       "        vertical-align: middle;\n",
       "    }\n",
       "\n",
       "    .dataframe tbody tr th {\n",
       "        vertical-align: top;\n",
       "    }\n",
       "\n",
       "    .dataframe thead th {\n",
       "        text-align: right;\n",
       "    }\n",
       "</style>\n",
       "<table border=\"1\" class=\"dataframe\">\n",
       "  <thead>\n",
       "    <tr style=\"text-align: right;\">\n",
       "      <th></th>\n",
       "      <th>0</th>\n",
       "      <th>1</th>\n",
       "      <th>2</th>\n",
       "      <th>3</th>\n",
       "      <th>4</th>\n",
       "      <th>5</th>\n",
       "      <th>6</th>\n",
       "      <th>7</th>\n",
       "      <th>8</th>\n",
       "      <th>9</th>\n",
       "      <th>...</th>\n",
       "      <th>190</th>\n",
       "      <th>191</th>\n",
       "      <th>192</th>\n",
       "      <th>193</th>\n",
       "      <th>194</th>\n",
       "      <th>195</th>\n",
       "      <th>196</th>\n",
       "      <th>197</th>\n",
       "      <th>198</th>\n",
       "      <th>199</th>\n",
       "    </tr>\n",
       "  </thead>\n",
       "  <tbody>\n",
       "    <tr>\n",
       "      <th>0</th>\n",
       "      <td>0.0</td>\n",
       "      <td>0.0</td>\n",
       "      <td>1.0</td>\n",
       "      <td>0.0</td>\n",
       "      <td>0.0</td>\n",
       "      <td>0.0</td>\n",
       "      <td>0.0</td>\n",
       "      <td>0.0</td>\n",
       "      <td>0.0</td>\n",
       "      <td>0.0</td>\n",
       "      <td>...</td>\n",
       "      <td>0.0</td>\n",
       "      <td>0.0</td>\n",
       "      <td>0.0</td>\n",
       "      <td>0.0</td>\n",
       "      <td>0.0</td>\n",
       "      <td>0.0</td>\n",
       "      <td>0.0</td>\n",
       "      <td>0.0</td>\n",
       "      <td>0.0</td>\n",
       "      <td>0.0</td>\n",
       "    </tr>\n",
       "    <tr>\n",
       "      <th>1</th>\n",
       "      <td>0.0</td>\n",
       "      <td>0.0</td>\n",
       "      <td>0.0</td>\n",
       "      <td>0.0</td>\n",
       "      <td>0.0</td>\n",
       "      <td>0.0</td>\n",
       "      <td>0.0</td>\n",
       "      <td>0.0</td>\n",
       "      <td>0.0</td>\n",
       "      <td>0.0</td>\n",
       "      <td>...</td>\n",
       "      <td>0.0</td>\n",
       "      <td>0.0</td>\n",
       "      <td>0.0</td>\n",
       "      <td>0.0</td>\n",
       "      <td>0.0</td>\n",
       "      <td>0.0</td>\n",
       "      <td>0.0</td>\n",
       "      <td>0.0</td>\n",
       "      <td>0.0</td>\n",
       "      <td>0.0</td>\n",
       "    </tr>\n",
       "    <tr>\n",
       "      <th>2</th>\n",
       "      <td>0.0</td>\n",
       "      <td>0.0</td>\n",
       "      <td>0.0</td>\n",
       "      <td>0.0</td>\n",
       "      <td>0.0</td>\n",
       "      <td>0.0</td>\n",
       "      <td>0.0</td>\n",
       "      <td>0.0</td>\n",
       "      <td>0.0</td>\n",
       "      <td>0.0</td>\n",
       "      <td>...</td>\n",
       "      <td>0.0</td>\n",
       "      <td>0.0</td>\n",
       "      <td>0.0</td>\n",
       "      <td>0.0</td>\n",
       "      <td>0.0</td>\n",
       "      <td>0.0</td>\n",
       "      <td>0.0</td>\n",
       "      <td>0.0</td>\n",
       "      <td>0.0</td>\n",
       "      <td>0.0</td>\n",
       "    </tr>\n",
       "    <tr>\n",
       "      <th>3</th>\n",
       "      <td>1.0</td>\n",
       "      <td>1.0</td>\n",
       "      <td>1.0</td>\n",
       "      <td>1.0</td>\n",
       "      <td>1.0</td>\n",
       "      <td>1.0</td>\n",
       "      <td>2.0</td>\n",
       "      <td>1.0</td>\n",
       "      <td>1.0</td>\n",
       "      <td>1.0</td>\n",
       "      <td>...</td>\n",
       "      <td>1.0</td>\n",
       "      <td>2.0</td>\n",
       "      <td>1.0</td>\n",
       "      <td>1.0</td>\n",
       "      <td>1.0</td>\n",
       "      <td>1.0</td>\n",
       "      <td>1.0</td>\n",
       "      <td>1.0</td>\n",
       "      <td>1.0</td>\n",
       "      <td>1.0</td>\n",
       "    </tr>\n",
       "    <tr>\n",
       "      <th>4</th>\n",
       "      <td>0.0</td>\n",
       "      <td>0.0</td>\n",
       "      <td>0.0</td>\n",
       "      <td>0.0</td>\n",
       "      <td>0.0</td>\n",
       "      <td>0.0</td>\n",
       "      <td>0.0</td>\n",
       "      <td>0.0</td>\n",
       "      <td>2.0</td>\n",
       "      <td>0.0</td>\n",
       "      <td>...</td>\n",
       "      <td>0.0</td>\n",
       "      <td>0.0</td>\n",
       "      <td>0.0</td>\n",
       "      <td>0.0</td>\n",
       "      <td>0.0</td>\n",
       "      <td>0.0</td>\n",
       "      <td>0.0</td>\n",
       "      <td>0.0</td>\n",
       "      <td>0.0</td>\n",
       "      <td>0.0</td>\n",
       "    </tr>\n",
       "    <tr>\n",
       "      <th>...</th>\n",
       "      <td>...</td>\n",
       "      <td>...</td>\n",
       "      <td>...</td>\n",
       "      <td>...</td>\n",
       "      <td>...</td>\n",
       "      <td>...</td>\n",
       "      <td>...</td>\n",
       "      <td>...</td>\n",
       "      <td>...</td>\n",
       "      <td>...</td>\n",
       "      <td>...</td>\n",
       "      <td>...</td>\n",
       "      <td>...</td>\n",
       "      <td>...</td>\n",
       "      <td>...</td>\n",
       "      <td>...</td>\n",
       "      <td>...</td>\n",
       "      <td>...</td>\n",
       "      <td>...</td>\n",
       "      <td>...</td>\n",
       "      <td>...</td>\n",
       "    </tr>\n",
       "    <tr>\n",
       "      <th>5495</th>\n",
       "      <td>0.0</td>\n",
       "      <td>0.0</td>\n",
       "      <td>0.0</td>\n",
       "      <td>0.0</td>\n",
       "      <td>0.0</td>\n",
       "      <td>0.0</td>\n",
       "      <td>0.0</td>\n",
       "      <td>0.0</td>\n",
       "      <td>0.0</td>\n",
       "      <td>0.0</td>\n",
       "      <td>...</td>\n",
       "      <td>0.0</td>\n",
       "      <td>0.0</td>\n",
       "      <td>0.0</td>\n",
       "      <td>0.0</td>\n",
       "      <td>0.0</td>\n",
       "      <td>0.0</td>\n",
       "      <td>0.0</td>\n",
       "      <td>0.0</td>\n",
       "      <td>0.0</td>\n",
       "      <td>0.0</td>\n",
       "    </tr>\n",
       "    <tr>\n",
       "      <th>5496</th>\n",
       "      <td>0.0</td>\n",
       "      <td>0.0</td>\n",
       "      <td>0.0</td>\n",
       "      <td>0.0</td>\n",
       "      <td>0.0</td>\n",
       "      <td>0.0</td>\n",
       "      <td>0.0</td>\n",
       "      <td>0.0</td>\n",
       "      <td>0.0</td>\n",
       "      <td>0.0</td>\n",
       "      <td>...</td>\n",
       "      <td>0.0</td>\n",
       "      <td>0.0</td>\n",
       "      <td>0.0</td>\n",
       "      <td>0.0</td>\n",
       "      <td>0.0</td>\n",
       "      <td>0.0</td>\n",
       "      <td>0.0</td>\n",
       "      <td>0.0</td>\n",
       "      <td>0.0</td>\n",
       "      <td>0.0</td>\n",
       "    </tr>\n",
       "    <tr>\n",
       "      <th>5497</th>\n",
       "      <td>0.0</td>\n",
       "      <td>0.0</td>\n",
       "      <td>0.0</td>\n",
       "      <td>0.0</td>\n",
       "      <td>0.0</td>\n",
       "      <td>0.0</td>\n",
       "      <td>0.0</td>\n",
       "      <td>0.0</td>\n",
       "      <td>0.0</td>\n",
       "      <td>0.0</td>\n",
       "      <td>...</td>\n",
       "      <td>0.0</td>\n",
       "      <td>0.0</td>\n",
       "      <td>0.0</td>\n",
       "      <td>0.0</td>\n",
       "      <td>0.0</td>\n",
       "      <td>0.0</td>\n",
       "      <td>0.0</td>\n",
       "      <td>0.0</td>\n",
       "      <td>0.0</td>\n",
       "      <td>0.0</td>\n",
       "    </tr>\n",
       "    <tr>\n",
       "      <th>5498</th>\n",
       "      <td>0.0</td>\n",
       "      <td>0.0</td>\n",
       "      <td>0.0</td>\n",
       "      <td>0.0</td>\n",
       "      <td>0.0</td>\n",
       "      <td>0.0</td>\n",
       "      <td>0.0</td>\n",
       "      <td>0.0</td>\n",
       "      <td>0.0</td>\n",
       "      <td>0.0</td>\n",
       "      <td>...</td>\n",
       "      <td>0.0</td>\n",
       "      <td>0.0</td>\n",
       "      <td>0.0</td>\n",
       "      <td>0.0</td>\n",
       "      <td>0.0</td>\n",
       "      <td>0.0</td>\n",
       "      <td>0.0</td>\n",
       "      <td>0.0</td>\n",
       "      <td>0.0</td>\n",
       "      <td>0.0</td>\n",
       "    </tr>\n",
       "    <tr>\n",
       "      <th>5499</th>\n",
       "      <td>0.0</td>\n",
       "      <td>0.0</td>\n",
       "      <td>0.0</td>\n",
       "      <td>0.0</td>\n",
       "      <td>0.0</td>\n",
       "      <td>0.0</td>\n",
       "      <td>0.0</td>\n",
       "      <td>0.0</td>\n",
       "      <td>0.0</td>\n",
       "      <td>0.0</td>\n",
       "      <td>...</td>\n",
       "      <td>0.0</td>\n",
       "      <td>0.0</td>\n",
       "      <td>0.0</td>\n",
       "      <td>0.0</td>\n",
       "      <td>0.0</td>\n",
       "      <td>0.0</td>\n",
       "      <td>0.0</td>\n",
       "      <td>0.0</td>\n",
       "      <td>0.0</td>\n",
       "      <td>0.0</td>\n",
       "    </tr>\n",
       "  </tbody>\n",
       "</table>\n",
       "<p>5500 rows × 200 columns</p>\n",
       "</div>"
      ],
      "text/plain": [
       "      0    1    2    3    4    5    6    7    8    9    ...  190  191  192  \\\n",
       "0     0.0  0.0  1.0  0.0  0.0  0.0  0.0  0.0  0.0  0.0  ...  0.0  0.0  0.0   \n",
       "1     0.0  0.0  0.0  0.0  0.0  0.0  0.0  0.0  0.0  0.0  ...  0.0  0.0  0.0   \n",
       "2     0.0  0.0  0.0  0.0  0.0  0.0  0.0  0.0  0.0  0.0  ...  0.0  0.0  0.0   \n",
       "3     1.0  1.0  1.0  1.0  1.0  1.0  2.0  1.0  1.0  1.0  ...  1.0  2.0  1.0   \n",
       "4     0.0  0.0  0.0  0.0  0.0  0.0  0.0  0.0  2.0  0.0  ...  0.0  0.0  0.0   \n",
       "...   ...  ...  ...  ...  ...  ...  ...  ...  ...  ...  ...  ...  ...  ...   \n",
       "5495  0.0  0.0  0.0  0.0  0.0  0.0  0.0  0.0  0.0  0.0  ...  0.0  0.0  0.0   \n",
       "5496  0.0  0.0  0.0  0.0  0.0  0.0  0.0  0.0  0.0  0.0  ...  0.0  0.0  0.0   \n",
       "5497  0.0  0.0  0.0  0.0  0.0  0.0  0.0  0.0  0.0  0.0  ...  0.0  0.0  0.0   \n",
       "5498  0.0  0.0  0.0  0.0  0.0  0.0  0.0  0.0  0.0  0.0  ...  0.0  0.0  0.0   \n",
       "5499  0.0  0.0  0.0  0.0  0.0  0.0  0.0  0.0  0.0  0.0  ...  0.0  0.0  0.0   \n",
       "\n",
       "      193  194  195  196  197  198  199  \n",
       "0     0.0  0.0  0.0  0.0  0.0  0.0  0.0  \n",
       "1     0.0  0.0  0.0  0.0  0.0  0.0  0.0  \n",
       "2     0.0  0.0  0.0  0.0  0.0  0.0  0.0  \n",
       "3     1.0  1.0  1.0  1.0  1.0  1.0  1.0  \n",
       "4     0.0  0.0  0.0  0.0  0.0  0.0  0.0  \n",
       "...   ...  ...  ...  ...  ...  ...  ...  \n",
       "5495  0.0  0.0  0.0  0.0  0.0  0.0  0.0  \n",
       "5496  0.0  0.0  0.0  0.0  0.0  0.0  0.0  \n",
       "5497  0.0  0.0  0.0  0.0  0.0  0.0  0.0  \n",
       "5498  0.0  0.0  0.0  0.0  0.0  0.0  0.0  \n",
       "5499  0.0  0.0  0.0  0.0  0.0  0.0  0.0  \n",
       "\n",
       "[5500 rows x 200 columns]"
      ]
     },
     "execution_count": 107,
     "metadata": {},
     "output_type": "execute_result"
    }
   ],
   "source": [
    "testMatrix = pd.read_csv(\"testMatrixModified.txt\", sep=\"\\t\", header=None)\n",
    "testMatrix"
   ]
  },
  {
   "cell_type": "code",
   "execution_count": 108,
   "id": "c15f112c",
   "metadata": {},
   "outputs": [
    {
     "data": {
      "text/html": [
       "<div>\n",
       "<style scoped>\n",
       "    .dataframe tbody tr th:only-of-type {\n",
       "        vertical-align: middle;\n",
       "    }\n",
       "\n",
       "    .dataframe tbody tr th {\n",
       "        vertical-align: top;\n",
       "    }\n",
       "\n",
       "    .dataframe thead th {\n",
       "        text-align: right;\n",
       "    }\n",
       "</style>\n",
       "<table border=\"1\" class=\"dataframe\">\n",
       "  <thead>\n",
       "    <tr style=\"text-align: right;\">\n",
       "      <th></th>\n",
       "      <th>0</th>\n",
       "      <th>1</th>\n",
       "      <th>2</th>\n",
       "      <th>3</th>\n",
       "      <th>4</th>\n",
       "      <th>5</th>\n",
       "      <th>6</th>\n",
       "      <th>7</th>\n",
       "      <th>8</th>\n",
       "      <th>9</th>\n",
       "      <th>...</th>\n",
       "      <th>790</th>\n",
       "      <th>791</th>\n",
       "      <th>792</th>\n",
       "      <th>793</th>\n",
       "      <th>794</th>\n",
       "      <th>795</th>\n",
       "      <th>796</th>\n",
       "      <th>797</th>\n",
       "      <th>798</th>\n",
       "      <th>799</th>\n",
       "    </tr>\n",
       "  </thead>\n",
       "  <tbody>\n",
       "    <tr>\n",
       "      <th>0</th>\n",
       "      <td>2.0</td>\n",
       "      <td>0.0</td>\n",
       "      <td>0.0</td>\n",
       "      <td>2.0</td>\n",
       "      <td>2.0</td>\n",
       "      <td>0.0</td>\n",
       "      <td>0.0</td>\n",
       "      <td>0.0</td>\n",
       "      <td>0.0</td>\n",
       "      <td>0.0</td>\n",
       "      <td>...</td>\n",
       "      <td>0.0</td>\n",
       "      <td>0.0</td>\n",
       "      <td>0.0</td>\n",
       "      <td>0.0</td>\n",
       "      <td>0.0</td>\n",
       "      <td>0.0</td>\n",
       "      <td>0.0</td>\n",
       "      <td>0.0</td>\n",
       "      <td>0.0</td>\n",
       "      <td>0.0</td>\n",
       "    </tr>\n",
       "    <tr>\n",
       "      <th>1</th>\n",
       "      <td>2.0</td>\n",
       "      <td>0.0</td>\n",
       "      <td>0.0</td>\n",
       "      <td>0.0</td>\n",
       "      <td>0.0</td>\n",
       "      <td>0.0</td>\n",
       "      <td>0.0</td>\n",
       "      <td>0.0</td>\n",
       "      <td>0.0</td>\n",
       "      <td>0.0</td>\n",
       "      <td>...</td>\n",
       "      <td>0.0</td>\n",
       "      <td>0.0</td>\n",
       "      <td>3.0</td>\n",
       "      <td>0.0</td>\n",
       "      <td>0.0</td>\n",
       "      <td>0.0</td>\n",
       "      <td>0.0</td>\n",
       "      <td>0.0</td>\n",
       "      <td>0.0</td>\n",
       "      <td>0.0</td>\n",
       "    </tr>\n",
       "    <tr>\n",
       "      <th>2</th>\n",
       "      <td>2.0</td>\n",
       "      <td>0.0</td>\n",
       "      <td>0.0</td>\n",
       "      <td>0.0</td>\n",
       "      <td>0.0</td>\n",
       "      <td>0.0</td>\n",
       "      <td>0.0</td>\n",
       "      <td>0.0</td>\n",
       "      <td>0.0</td>\n",
       "      <td>0.0</td>\n",
       "      <td>...</td>\n",
       "      <td>0.0</td>\n",
       "      <td>0.0</td>\n",
       "      <td>0.0</td>\n",
       "      <td>0.0</td>\n",
       "      <td>0.0</td>\n",
       "      <td>0.0</td>\n",
       "      <td>0.0</td>\n",
       "      <td>0.0</td>\n",
       "      <td>0.0</td>\n",
       "      <td>0.0</td>\n",
       "    </tr>\n",
       "    <tr>\n",
       "      <th>3</th>\n",
       "      <td>1.0</td>\n",
       "      <td>1.0</td>\n",
       "      <td>1.0</td>\n",
       "      <td>1.0</td>\n",
       "      <td>1.0</td>\n",
       "      <td>1.0</td>\n",
       "      <td>2.0</td>\n",
       "      <td>1.0</td>\n",
       "      <td>1.0</td>\n",
       "      <td>1.0</td>\n",
       "      <td>...</td>\n",
       "      <td>1.0</td>\n",
       "      <td>1.0</td>\n",
       "      <td>1.0</td>\n",
       "      <td>1.0</td>\n",
       "      <td>1.0</td>\n",
       "      <td>1.0</td>\n",
       "      <td>1.0</td>\n",
       "      <td>1.0</td>\n",
       "      <td>1.0</td>\n",
       "      <td>1.0</td>\n",
       "    </tr>\n",
       "    <tr>\n",
       "      <th>4</th>\n",
       "      <td>8.0</td>\n",
       "      <td>1.0</td>\n",
       "      <td>0.0</td>\n",
       "      <td>0.0</td>\n",
       "      <td>0.0</td>\n",
       "      <td>0.0</td>\n",
       "      <td>0.0</td>\n",
       "      <td>0.0</td>\n",
       "      <td>0.0</td>\n",
       "      <td>0.0</td>\n",
       "      <td>...</td>\n",
       "      <td>0.0</td>\n",
       "      <td>0.0</td>\n",
       "      <td>2.0</td>\n",
       "      <td>0.0</td>\n",
       "      <td>0.0</td>\n",
       "      <td>0.0</td>\n",
       "      <td>0.0</td>\n",
       "      <td>0.0</td>\n",
       "      <td>0.0</td>\n",
       "      <td>1.0</td>\n",
       "    </tr>\n",
       "    <tr>\n",
       "      <th>...</th>\n",
       "      <td>...</td>\n",
       "      <td>...</td>\n",
       "      <td>...</td>\n",
       "      <td>...</td>\n",
       "      <td>...</td>\n",
       "      <td>...</td>\n",
       "      <td>...</td>\n",
       "      <td>...</td>\n",
       "      <td>...</td>\n",
       "      <td>...</td>\n",
       "      <td>...</td>\n",
       "      <td>...</td>\n",
       "      <td>...</td>\n",
       "      <td>...</td>\n",
       "      <td>...</td>\n",
       "      <td>...</td>\n",
       "      <td>...</td>\n",
       "      <td>...</td>\n",
       "      <td>...</td>\n",
       "      <td>...</td>\n",
       "      <td>...</td>\n",
       "    </tr>\n",
       "    <tr>\n",
       "      <th>5495</th>\n",
       "      <td>0.0</td>\n",
       "      <td>0.0</td>\n",
       "      <td>0.0</td>\n",
       "      <td>0.0</td>\n",
       "      <td>0.0</td>\n",
       "      <td>0.0</td>\n",
       "      <td>0.0</td>\n",
       "      <td>0.0</td>\n",
       "      <td>0.0</td>\n",
       "      <td>0.0</td>\n",
       "      <td>...</td>\n",
       "      <td>0.0</td>\n",
       "      <td>0.0</td>\n",
       "      <td>0.0</td>\n",
       "      <td>0.0</td>\n",
       "      <td>0.0</td>\n",
       "      <td>0.0</td>\n",
       "      <td>0.0</td>\n",
       "      <td>0.0</td>\n",
       "      <td>0.0</td>\n",
       "      <td>0.0</td>\n",
       "    </tr>\n",
       "    <tr>\n",
       "      <th>5496</th>\n",
       "      <td>0.0</td>\n",
       "      <td>0.0</td>\n",
       "      <td>0.0</td>\n",
       "      <td>0.0</td>\n",
       "      <td>0.0</td>\n",
       "      <td>0.0</td>\n",
       "      <td>0.0</td>\n",
       "      <td>0.0</td>\n",
       "      <td>0.0</td>\n",
       "      <td>0.0</td>\n",
       "      <td>...</td>\n",
       "      <td>0.0</td>\n",
       "      <td>0.0</td>\n",
       "      <td>0.0</td>\n",
       "      <td>0.0</td>\n",
       "      <td>0.0</td>\n",
       "      <td>0.0</td>\n",
       "      <td>0.0</td>\n",
       "      <td>0.0</td>\n",
       "      <td>0.0</td>\n",
       "      <td>0.0</td>\n",
       "    </tr>\n",
       "    <tr>\n",
       "      <th>5497</th>\n",
       "      <td>0.0</td>\n",
       "      <td>0.0</td>\n",
       "      <td>0.0</td>\n",
       "      <td>0.0</td>\n",
       "      <td>0.0</td>\n",
       "      <td>0.0</td>\n",
       "      <td>0.0</td>\n",
       "      <td>0.0</td>\n",
       "      <td>0.0</td>\n",
       "      <td>0.0</td>\n",
       "      <td>...</td>\n",
       "      <td>0.0</td>\n",
       "      <td>0.0</td>\n",
       "      <td>0.0</td>\n",
       "      <td>0.0</td>\n",
       "      <td>0.0</td>\n",
       "      <td>0.0</td>\n",
       "      <td>0.0</td>\n",
       "      <td>0.0</td>\n",
       "      <td>0.0</td>\n",
       "      <td>0.0</td>\n",
       "    </tr>\n",
       "    <tr>\n",
       "      <th>5498</th>\n",
       "      <td>0.0</td>\n",
       "      <td>0.0</td>\n",
       "      <td>0.0</td>\n",
       "      <td>0.0</td>\n",
       "      <td>0.0</td>\n",
       "      <td>0.0</td>\n",
       "      <td>0.0</td>\n",
       "      <td>0.0</td>\n",
       "      <td>0.0</td>\n",
       "      <td>0.0</td>\n",
       "      <td>...</td>\n",
       "      <td>0.0</td>\n",
       "      <td>0.0</td>\n",
       "      <td>0.0</td>\n",
       "      <td>0.0</td>\n",
       "      <td>0.0</td>\n",
       "      <td>0.0</td>\n",
       "      <td>0.0</td>\n",
       "      <td>0.0</td>\n",
       "      <td>0.0</td>\n",
       "      <td>0.0</td>\n",
       "    </tr>\n",
       "    <tr>\n",
       "      <th>5499</th>\n",
       "      <td>0.0</td>\n",
       "      <td>0.0</td>\n",
       "      <td>0.0</td>\n",
       "      <td>0.0</td>\n",
       "      <td>0.0</td>\n",
       "      <td>0.0</td>\n",
       "      <td>0.0</td>\n",
       "      <td>0.0</td>\n",
       "      <td>0.0</td>\n",
       "      <td>0.0</td>\n",
       "      <td>...</td>\n",
       "      <td>0.0</td>\n",
       "      <td>0.0</td>\n",
       "      <td>0.0</td>\n",
       "      <td>0.0</td>\n",
       "      <td>0.0</td>\n",
       "      <td>0.0</td>\n",
       "      <td>0.0</td>\n",
       "      <td>0.0</td>\n",
       "      <td>0.0</td>\n",
       "      <td>0.0</td>\n",
       "    </tr>\n",
       "  </tbody>\n",
       "</table>\n",
       "<p>5500 rows × 800 columns</p>\n",
       "</div>"
      ],
      "text/plain": [
       "      0    1    2    3    4    5    6    7    8    9    ...  790  791  792  \\\n",
       "0     2.0  0.0  0.0  2.0  2.0  0.0  0.0  0.0  0.0  0.0  ...  0.0  0.0  0.0   \n",
       "1     2.0  0.0  0.0  0.0  0.0  0.0  0.0  0.0  0.0  0.0  ...  0.0  0.0  3.0   \n",
       "2     2.0  0.0  0.0  0.0  0.0  0.0  0.0  0.0  0.0  0.0  ...  0.0  0.0  0.0   \n",
       "3     1.0  1.0  1.0  1.0  1.0  1.0  2.0  1.0  1.0  1.0  ...  1.0  1.0  1.0   \n",
       "4     8.0  1.0  0.0  0.0  0.0  0.0  0.0  0.0  0.0  0.0  ...  0.0  0.0  2.0   \n",
       "...   ...  ...  ...  ...  ...  ...  ...  ...  ...  ...  ...  ...  ...  ...   \n",
       "5495  0.0  0.0  0.0  0.0  0.0  0.0  0.0  0.0  0.0  0.0  ...  0.0  0.0  0.0   \n",
       "5496  0.0  0.0  0.0  0.0  0.0  0.0  0.0  0.0  0.0  0.0  ...  0.0  0.0  0.0   \n",
       "5497  0.0  0.0  0.0  0.0  0.0  0.0  0.0  0.0  0.0  0.0  ...  0.0  0.0  0.0   \n",
       "5498  0.0  0.0  0.0  0.0  0.0  0.0  0.0  0.0  0.0  0.0  ...  0.0  0.0  0.0   \n",
       "5499  0.0  0.0  0.0  0.0  0.0  0.0  0.0  0.0  0.0  0.0  ...  0.0  0.0  0.0   \n",
       "\n",
       "      793  794  795  796  797  798  799  \n",
       "0     0.0  0.0  0.0  0.0  0.0  0.0  0.0  \n",
       "1     0.0  0.0  0.0  0.0  0.0  0.0  0.0  \n",
       "2     0.0  0.0  0.0  0.0  0.0  0.0  0.0  \n",
       "3     1.0  1.0  1.0  1.0  1.0  1.0  1.0  \n",
       "4     0.0  0.0  0.0  0.0  0.0  0.0  1.0  \n",
       "...   ...  ...  ...  ...  ...  ...  ...  \n",
       "5495  0.0  0.0  0.0  0.0  0.0  0.0  0.0  \n",
       "5496  0.0  0.0  0.0  0.0  0.0  0.0  0.0  \n",
       "5497  0.0  0.0  0.0  0.0  0.0  0.0  0.0  \n",
       "5498  0.0  0.0  0.0  0.0  0.0  0.0  0.0  \n",
       "5499  0.0  0.0  0.0  0.0  0.0  0.0  0.0  \n",
       "\n",
       "[5500 rows x 800 columns]"
      ]
     },
     "execution_count": 108,
     "metadata": {},
     "output_type": "execute_result"
    }
   ],
   "source": [
    "trainMatrix = pd.read_csv(\"trainMatrixModified.txt\", sep=\"\\t\", header=None)\n",
    "trainMatrix"
   ]
  },
  {
   "cell_type": "markdown",
   "id": "b99b65d4",
   "metadata": {},
   "source": [
    "#### Top 20 words Decreasing Order"
   ]
  },
  {
   "cell_type": "code",
   "execution_count": 109,
   "id": "6ed73341",
   "metadata": {
    "scrolled": true
   },
   "outputs": [
    {
     "data": {
      "text/plain": [
       "640    4367.0\n",
       "686    3740.0\n",
       "39     3468.0\n",
       "779    2754.0\n",
       "425    2715.0\n",
       "499    1702.0\n",
       "170    1477.0\n",
       "556    1465.0\n",
       "405    1464.0\n",
       "576    1051.0\n",
       "497     792.0\n",
       "216     778.0\n",
       "206     770.0\n",
       "146     705.0\n",
       "49      665.0\n",
       "202     536.0\n",
       "459     520.0\n",
       "636     513.0\n",
       "29      485.0\n",
       "768     447.0\n",
       "dtype: float64"
      ]
     },
     "execution_count": 109,
     "metadata": {},
     "output_type": "execute_result"
    }
   ],
   "source": [
    "trainMatrixT = trainMatrix.T\n",
    "termFreq = trainMatrixT.sum(axis=1)\n",
    "termFreqSort = termFreq.sort_values(axis=0, ascending=False, inplace=False)\n",
    "termFreqSort.head(20)"
   ]
  },
  {
   "cell_type": "markdown",
   "id": "0d5342c8",
   "metadata": {},
   "source": [
    "#### Plot Distribution"
   ]
  },
  {
   "cell_type": "code",
   "execution_count": 110,
   "id": "f7251079",
   "metadata": {
    "scrolled": true
   },
   "outputs": [
    {
     "data": {
      "image/png": "[encoded data removed]",
      "text/plain": [
       "<Figure size 432x288 with 1 Axes>"
      ]
     },
     "metadata": {
      "needs_background": "light"
     },
     "output_type": "display_data"
    }
   ],
   "source": [
    "plt.plot(sorted(termFreq, reverse=True))\n",
    "plt.show()"
   ]
  },
  {
   "cell_type": "markdown",
   "id": "39e62ef3",
   "metadata": {},
   "source": [
    "### Problem 1b"
   ]
  },
  {
   "cell_type": "code",
   "execution_count": 111,
   "id": "c5bd078a",
   "metadata": {},
   "outputs": [],
   "source": [
    "#convert to array\n",
    "trainMatrixTA = np.array(trainMatrixT)\n",
    "#transpost test matrix\n",
    "testMatrixT = testMatrix.T\n",
    "testMatrixTA = np.array(testMatrixT)\n",
    "trainClassA = np.array(trainClass)"
   ]
  },
  {
   "cell_type": "markdown",
   "id": "cb576922",
   "metadata": {},
   "source": [
    "#### Create knn_search function to be used in classifier function"
   ]
  },
  {
   "cell_type": "code",
   "execution_count": 112,
   "id": "f5235ca4",
   "metadata": {},
   "outputs": [],
   "source": [
    "def knn_search(x, D, K, measure):\n",
    "    if measure == 0:\n",
    "        #Euclidean\n",
    "        dists = np.sqrt(((D - x)**2).sum(axis=1))\n",
    "    elif measure == 1:\n",
    "        #Cosine\n",
    "        D_norm = np.array([np.linalg.norm(D[i]) for i in range(len(D))])\n",
    "        x_norm = np.linalg.norm(x)\n",
    "        sims = np.dot(D,x)/(D_norm * x_norm)\n",
    "        # The distance measure will be the inverse of Cosine similarity\n",
    "        dists = 1 - sims\n",
    "    idx = np.argsort(dists)\n",
    "    return idx[:K], dists"
   ]
  },
  {
   "cell_type": "markdown",
   "id": "6e60a944",
   "metadata": {},
   "source": [
    "#### Testing Search function to be used in the classifier function"
   ]
  },
  {
   "cell_type": "code",
   "execution_count": 113,
   "id": "bfbca342",
   "metadata": {
    "scrolled": true
   },
   "outputs": [
    {
     "name": "stdout",
     "output_type": "stream",
     "text": [
      "\n",
      "Neighbor Index:\n",
      "[685 628 703 266 510]\n"
     ]
    }
   ],
   "source": [
    "#testMatrixTA[0] is the first row or instance of the test data, 5 is the nearest neighbors, 0 = Euclidean\n",
    "neigh_idx, distances = knn_search(testMatrixTA[0], trainMatrixTA, 5, 0)\n",
    "print(\"\\nNeighbor Index:\")\n",
    "print(neigh_idx)"
   ]
  },
  {
   "cell_type": "code",
   "execution_count": 114,
   "id": "e8cd2d00",
   "metadata": {},
   "outputs": [
    {
     "name": "stdout",
     "output_type": "stream",
     "text": [
      "\n",
      "Neighbors:\n"
     ]
    },
    {
     "data": {
      "text/html": [
       "<div>\n",
       "<style scoped>\n",
       "    .dataframe tbody tr th:only-of-type {\n",
       "        vertical-align: middle;\n",
       "    }\n",
       "\n",
       "    .dataframe tbody tr th {\n",
       "        vertical-align: top;\n",
       "    }\n",
       "\n",
       "    .dataframe thead th {\n",
       "        text-align: right;\n",
       "    }\n",
       "</style>\n",
       "<table border=\"1\" class=\"dataframe\">\n",
       "  <thead>\n",
       "    <tr style=\"text-align: right;\">\n",
       "      <th></th>\n",
       "      <th>0</th>\n",
       "      <th>1</th>\n",
       "      <th>2</th>\n",
       "      <th>3</th>\n",
       "      <th>4</th>\n",
       "      <th>5</th>\n",
       "      <th>6</th>\n",
       "      <th>7</th>\n",
       "      <th>8</th>\n",
       "      <th>9</th>\n",
       "      <th>...</th>\n",
       "      <th>5490</th>\n",
       "      <th>5491</th>\n",
       "      <th>5492</th>\n",
       "      <th>5493</th>\n",
       "      <th>5494</th>\n",
       "      <th>5495</th>\n",
       "      <th>5496</th>\n",
       "      <th>5497</th>\n",
       "      <th>5498</th>\n",
       "      <th>5499</th>\n",
       "    </tr>\n",
       "  </thead>\n",
       "  <tbody>\n",
       "    <tr>\n",
       "      <th>685</th>\n",
       "      <td>0.0</td>\n",
       "      <td>0.0</td>\n",
       "      <td>0.0</td>\n",
       "      <td>1.0</td>\n",
       "      <td>0.0</td>\n",
       "      <td>0.0</td>\n",
       "      <td>0.0</td>\n",
       "      <td>0.0</td>\n",
       "      <td>0.0</td>\n",
       "      <td>0.0</td>\n",
       "      <td>...</td>\n",
       "      <td>0.0</td>\n",
       "      <td>0.0</td>\n",
       "      <td>0.0</td>\n",
       "      <td>0.0</td>\n",
       "      <td>0.0</td>\n",
       "      <td>0.0</td>\n",
       "      <td>0.0</td>\n",
       "      <td>0.0</td>\n",
       "      <td>0.0</td>\n",
       "      <td>0.0</td>\n",
       "    </tr>\n",
       "    <tr>\n",
       "      <th>628</th>\n",
       "      <td>0.0</td>\n",
       "      <td>0.0</td>\n",
       "      <td>0.0</td>\n",
       "      <td>1.0</td>\n",
       "      <td>0.0</td>\n",
       "      <td>0.0</td>\n",
       "      <td>0.0</td>\n",
       "      <td>0.0</td>\n",
       "      <td>0.0</td>\n",
       "      <td>0.0</td>\n",
       "      <td>...</td>\n",
       "      <td>0.0</td>\n",
       "      <td>0.0</td>\n",
       "      <td>0.0</td>\n",
       "      <td>0.0</td>\n",
       "      <td>0.0</td>\n",
       "      <td>0.0</td>\n",
       "      <td>0.0</td>\n",
       "      <td>0.0</td>\n",
       "      <td>0.0</td>\n",
       "      <td>0.0</td>\n",
       "    </tr>\n",
       "    <tr>\n",
       "      <th>703</th>\n",
       "      <td>0.0</td>\n",
       "      <td>0.0</td>\n",
       "      <td>0.0</td>\n",
       "      <td>1.0</td>\n",
       "      <td>0.0</td>\n",
       "      <td>0.0</td>\n",
       "      <td>0.0</td>\n",
       "      <td>0.0</td>\n",
       "      <td>0.0</td>\n",
       "      <td>0.0</td>\n",
       "      <td>...</td>\n",
       "      <td>0.0</td>\n",
       "      <td>0.0</td>\n",
       "      <td>0.0</td>\n",
       "      <td>0.0</td>\n",
       "      <td>0.0</td>\n",
       "      <td>0.0</td>\n",
       "      <td>0.0</td>\n",
       "      <td>0.0</td>\n",
       "      <td>0.0</td>\n",
       "      <td>0.0</td>\n",
       "    </tr>\n",
       "    <tr>\n",
       "      <th>266</th>\n",
       "      <td>0.0</td>\n",
       "      <td>0.0</td>\n",
       "      <td>0.0</td>\n",
       "      <td>1.0</td>\n",
       "      <td>0.0</td>\n",
       "      <td>0.0</td>\n",
       "      <td>0.0</td>\n",
       "      <td>0.0</td>\n",
       "      <td>0.0</td>\n",
       "      <td>0.0</td>\n",
       "      <td>...</td>\n",
       "      <td>0.0</td>\n",
       "      <td>0.0</td>\n",
       "      <td>0.0</td>\n",
       "      <td>0.0</td>\n",
       "      <td>0.0</td>\n",
       "      <td>0.0</td>\n",
       "      <td>0.0</td>\n",
       "      <td>0.0</td>\n",
       "      <td>0.0</td>\n",
       "      <td>0.0</td>\n",
       "    </tr>\n",
       "    <tr>\n",
       "      <th>510</th>\n",
       "      <td>0.0</td>\n",
       "      <td>0.0</td>\n",
       "      <td>0.0</td>\n",
       "      <td>1.0</td>\n",
       "      <td>0.0</td>\n",
       "      <td>0.0</td>\n",
       "      <td>0.0</td>\n",
       "      <td>0.0</td>\n",
       "      <td>0.0</td>\n",
       "      <td>1.0</td>\n",
       "      <td>...</td>\n",
       "      <td>0.0</td>\n",
       "      <td>0.0</td>\n",
       "      <td>0.0</td>\n",
       "      <td>0.0</td>\n",
       "      <td>0.0</td>\n",
       "      <td>0.0</td>\n",
       "      <td>0.0</td>\n",
       "      <td>0.0</td>\n",
       "      <td>0.0</td>\n",
       "      <td>0.0</td>\n",
       "    </tr>\n",
       "  </tbody>\n",
       "</table>\n",
       "<p>5 rows × 5500 columns</p>\n",
       "</div>"
      ],
      "text/plain": [
       "     0     1     2     3     4     5     6     7     8     9     ...  5490  \\\n",
       "685   0.0   0.0   0.0   1.0   0.0   0.0   0.0   0.0   0.0   0.0  ...   0.0   \n",
       "628   0.0   0.0   0.0   1.0   0.0   0.0   0.0   0.0   0.0   0.0  ...   0.0   \n",
       "703   0.0   0.0   0.0   1.0   0.0   0.0   0.0   0.0   0.0   0.0  ...   0.0   \n",
       "266   0.0   0.0   0.0   1.0   0.0   0.0   0.0   0.0   0.0   0.0  ...   0.0   \n",
       "510   0.0   0.0   0.0   1.0   0.0   0.0   0.0   0.0   0.0   1.0  ...   0.0   \n",
       "\n",
       "     5491  5492  5493  5494  5495  5496  5497  5498  5499  \n",
       "685   0.0   0.0   0.0   0.0   0.0   0.0   0.0   0.0   0.0  \n",
       "628   0.0   0.0   0.0   0.0   0.0   0.0   0.0   0.0   0.0  \n",
       "703   0.0   0.0   0.0   0.0   0.0   0.0   0.0   0.0   0.0  \n",
       "266   0.0   0.0   0.0   0.0   0.0   0.0   0.0   0.0   0.0  \n",
       "510   0.0   0.0   0.0   0.0   0.0   0.0   0.0   0.0   0.0  \n",
       "\n",
       "[5 rows x 5500 columns]"
      ]
     },
     "execution_count": 114,
     "metadata": {},
     "output_type": "execute_result"
    }
   ],
   "source": [
    "print(\"\\nNeighbors:\")\n",
    "trainMatrixT.iloc[neigh_idx]"
   ]
  },
  {
   "cell_type": "code",
   "execution_count": 115,
   "id": "01b6e064",
   "metadata": {},
   "outputs": [
    {
     "name": "stdout",
     "output_type": "stream",
     "text": [
      "\n",
      "Neighbor Index:\n",
      "[685 628 667 152 427]\n"
     ]
    }
   ],
   "source": [
    "#testMatrixTA[0] is the second row or instance of the test data, 5 is the nearest neighbors, 1 = Cosine\n",
    "neigh_idx, distances = knn_search(testMatrixTA[0], trainMatrixTA, 5, 1)\n",
    "print(\"\\nNeighbor Index:\")\n",
    "print(neigh_idx)"
   ]
  },
  {
   "cell_type": "code",
   "execution_count": 116,
   "id": "6ba963d7",
   "metadata": {},
   "outputs": [
    {
     "name": "stdout",
     "output_type": "stream",
     "text": [
      "\n",
      "Neighbors:\n"
     ]
    },
    {
     "data": {
      "text/html": [
       "<div>\n",
       "<style scoped>\n",
       "    .dataframe tbody tr th:only-of-type {\n",
       "        vertical-align: middle;\n",
       "    }\n",
       "\n",
       "    .dataframe tbody tr th {\n",
       "        vertical-align: top;\n",
       "    }\n",
       "\n",
       "    .dataframe thead th {\n",
       "        text-align: right;\n",
       "    }\n",
       "</style>\n",
       "<table border=\"1\" class=\"dataframe\">\n",
       "  <thead>\n",
       "    <tr style=\"text-align: right;\">\n",
       "      <th></th>\n",
       "      <th>0</th>\n",
       "      <th>1</th>\n",
       "      <th>2</th>\n",
       "      <th>3</th>\n",
       "      <th>4</th>\n",
       "      <th>5</th>\n",
       "      <th>6</th>\n",
       "      <th>7</th>\n",
       "      <th>8</th>\n",
       "      <th>9</th>\n",
       "      <th>...</th>\n",
       "      <th>5490</th>\n",
       "      <th>5491</th>\n",
       "      <th>5492</th>\n",
       "      <th>5493</th>\n",
       "      <th>5494</th>\n",
       "      <th>5495</th>\n",
       "      <th>5496</th>\n",
       "      <th>5497</th>\n",
       "      <th>5498</th>\n",
       "      <th>5499</th>\n",
       "    </tr>\n",
       "  </thead>\n",
       "  <tbody>\n",
       "    <tr>\n",
       "      <th>685</th>\n",
       "      <td>0.0</td>\n",
       "      <td>0.0</td>\n",
       "      <td>0.0</td>\n",
       "      <td>1.0</td>\n",
       "      <td>0.0</td>\n",
       "      <td>0.0</td>\n",
       "      <td>0.0</td>\n",
       "      <td>0.0</td>\n",
       "      <td>0.0</td>\n",
       "      <td>0.0</td>\n",
       "      <td>...</td>\n",
       "      <td>0.0</td>\n",
       "      <td>0.0</td>\n",
       "      <td>0.0</td>\n",
       "      <td>0.0</td>\n",
       "      <td>0.0</td>\n",
       "      <td>0.0</td>\n",
       "      <td>0.0</td>\n",
       "      <td>0.0</td>\n",
       "      <td>0.0</td>\n",
       "      <td>0.0</td>\n",
       "    </tr>\n",
       "    <tr>\n",
       "      <th>628</th>\n",
       "      <td>0.0</td>\n",
       "      <td>0.0</td>\n",
       "      <td>0.0</td>\n",
       "      <td>1.0</td>\n",
       "      <td>0.0</td>\n",
       "      <td>0.0</td>\n",
       "      <td>0.0</td>\n",
       "      <td>0.0</td>\n",
       "      <td>0.0</td>\n",
       "      <td>0.0</td>\n",
       "      <td>...</td>\n",
       "      <td>0.0</td>\n",
       "      <td>0.0</td>\n",
       "      <td>0.0</td>\n",
       "      <td>0.0</td>\n",
       "      <td>0.0</td>\n",
       "      <td>0.0</td>\n",
       "      <td>0.0</td>\n",
       "      <td>0.0</td>\n",
       "      <td>0.0</td>\n",
       "      <td>0.0</td>\n",
       "    </tr>\n",
       "    <tr>\n",
       "      <th>667</th>\n",
       "      <td>0.0</td>\n",
       "      <td>0.0</td>\n",
       "      <td>0.0</td>\n",
       "      <td>1.0</td>\n",
       "      <td>0.0</td>\n",
       "      <td>0.0</td>\n",
       "      <td>0.0</td>\n",
       "      <td>0.0</td>\n",
       "      <td>0.0</td>\n",
       "      <td>1.0</td>\n",
       "      <td>...</td>\n",
       "      <td>0.0</td>\n",
       "      <td>0.0</td>\n",
       "      <td>0.0</td>\n",
       "      <td>0.0</td>\n",
       "      <td>0.0</td>\n",
       "      <td>0.0</td>\n",
       "      <td>0.0</td>\n",
       "      <td>0.0</td>\n",
       "      <td>0.0</td>\n",
       "      <td>0.0</td>\n",
       "    </tr>\n",
       "    <tr>\n",
       "      <th>152</th>\n",
       "      <td>0.0</td>\n",
       "      <td>0.0</td>\n",
       "      <td>0.0</td>\n",
       "      <td>1.0</td>\n",
       "      <td>0.0</td>\n",
       "      <td>0.0</td>\n",
       "      <td>0.0</td>\n",
       "      <td>0.0</td>\n",
       "      <td>0.0</td>\n",
       "      <td>1.0</td>\n",
       "      <td>...</td>\n",
       "      <td>0.0</td>\n",
       "      <td>0.0</td>\n",
       "      <td>0.0</td>\n",
       "      <td>0.0</td>\n",
       "      <td>0.0</td>\n",
       "      <td>0.0</td>\n",
       "      <td>0.0</td>\n",
       "      <td>0.0</td>\n",
       "      <td>0.0</td>\n",
       "      <td>0.0</td>\n",
       "    </tr>\n",
       "    <tr>\n",
       "      <th>427</th>\n",
       "      <td>0.0</td>\n",
       "      <td>0.0</td>\n",
       "      <td>0.0</td>\n",
       "      <td>1.0</td>\n",
       "      <td>0.0</td>\n",
       "      <td>0.0</td>\n",
       "      <td>0.0</td>\n",
       "      <td>0.0</td>\n",
       "      <td>0.0</td>\n",
       "      <td>0.0</td>\n",
       "      <td>...</td>\n",
       "      <td>0.0</td>\n",
       "      <td>0.0</td>\n",
       "      <td>0.0</td>\n",
       "      <td>0.0</td>\n",
       "      <td>0.0</td>\n",
       "      <td>0.0</td>\n",
       "      <td>0.0</td>\n",
       "      <td>0.0</td>\n",
       "      <td>0.0</td>\n",
       "      <td>0.0</td>\n",
       "    </tr>\n",
       "  </tbody>\n",
       "</table>\n",
       "<p>5 rows × 5500 columns</p>\n",
       "</div>"
      ],
      "text/plain": [
       "     0     1     2     3     4     5     6     7     8     9     ...  5490  \\\n",
       "685   0.0   0.0   0.0   1.0   0.0   0.0   0.0   0.0   0.0   0.0  ...   0.0   \n",
       "628   0.0   0.0   0.0   1.0   0.0   0.0   0.0   0.0   0.0   0.0  ...   0.0   \n",
       "667   0.0   0.0   0.0   1.0   0.0   0.0   0.0   0.0   0.0   1.0  ...   0.0   \n",
       "152   0.0   0.0   0.0   1.0   0.0   0.0   0.0   0.0   0.0   1.0  ...   0.0   \n",
       "427   0.0   0.0   0.0   1.0   0.0   0.0   0.0   0.0   0.0   0.0  ...   0.0   \n",
       "\n",
       "     5491  5492  5493  5494  5495  5496  5497  5498  5499  \n",
       "685   0.0   0.0   0.0   0.0   0.0   0.0   0.0   0.0   0.0  \n",
       "628   0.0   0.0   0.0   0.0   0.0   0.0   0.0   0.0   0.0  \n",
       "667   0.0   0.0   0.0   0.0   0.0   0.0   0.0   0.0   0.0  \n",
       "152   0.0   0.0   0.0   0.0   0.0   0.0   0.0   0.0   0.0  \n",
       "427   0.0   0.0   0.0   0.0   0.0   0.0   0.0   0.0   0.0  \n",
       "\n",
       "[5 rows x 5500 columns]"
      ]
     },
     "execution_count": 116,
     "metadata": {},
     "output_type": "execute_result"
    }
   ],
   "source": [
    "print(\"\\nNeighbors:\")\n",
    "trainMatrixT.iloc[neigh_idx]"
   ]
  },
  {
   "cell_type": "markdown",
   "id": "eb7c7d4b",
   "metadata": {},
   "source": [
    "#### Classifier function calling search function"
   ]
  },
  {
   "cell_type": "code",
   "execution_count": 125,
   "id": "7df51515",
   "metadata": {},
   "outputs": [],
   "source": [
    "def knn_classify(x, D, K, labels, measure):\n",
    "    from collections import Counter\n",
    "    neigh_idx, distances = knn_search(x, D, K, measure)\n",
    "    neigh_labels = labels[neigh_idx]\n",
    "    count = Counter(neigh_labels)\n",
    "    predicted_label = count.most_common(1)[0][0]\n",
    "    return count.most_common(), K, neigh_idx, predicted_label"
   ]
  },
  {
   "cell_type": "code",
   "execution_count": 126,
   "id": "765bc78d",
   "metadata": {
    "scrolled": false
   },
   "outputs": [
    {
     "data": {
      "text/plain": [
       "(800, 5500)"
      ]
     },
     "execution_count": 126,
     "metadata": {},
     "output_type": "execute_result"
    }
   ],
   "source": [
    "#converting test and training labels to series and then to arrays \n",
    "trainClassSeries = trainClass[1].squeeze()\n",
    "trainClassSeriesA = np.array(trainClassSeries)\n",
    "testClassSeries = testClass[1].squeeze()\n",
    "testClassSeriesA = np.array(testClassSeries)\n",
    "trainMatrixTA.shape"
   ]
  },
  {
   "cell_type": "code",
   "execution_count": 127,
   "id": "afccd6b1",
   "metadata": {},
   "outputs": [
    {
     "data": {
      "text/plain": [
       "(200, 5500)"
      ]
     },
     "execution_count": 127,
     "metadata": {},
     "output_type": "execute_result"
    }
   ],
   "source": [
    "testMatrixTA.shape"
   ]
  },
  {
   "cell_type": "markdown",
   "id": "bedb343c",
   "metadata": {},
   "source": [
    "#### Testing Classifier Function with both euclidean and cosine measures"
   ]
  },
  {
   "cell_type": "code",
   "execution_count": 128,
   "id": "1bb9c4b6",
   "metadata": {},
   "outputs": [
    {
     "name": "stdout",
     "output_type": "stream",
     "text": [
      "Indices of K Nearest Neighbors: [685 628 703 266 510]\n",
      "Labels for top 5 neighbors:  [(1, 5)]\n",
      "Predicted Label:  1 ==> Actual Label:  1\n",
      "\n",
      "Indices of K Nearest Neighbors: [798 554 757 224  38]\n",
      "Labels for top 5 neighbors:  [(0, 3), (1, 2)]\n",
      "Predicted Label:  0 ==> Actual Label:  0\n",
      "\n"
     ]
    }
   ],
   "source": [
    "#Euclidean\n",
    "for i in range(2):\n",
    "    count, K, neigh_idx, predicted_label = knn_classify(testMatrixTA[i,:], trainMatrixTA, 5, trainClassSeriesA, 0)\n",
    "    print(\"Indices of K Nearest Neighbors:\",neigh_idx )\n",
    "    print(\"Labels for top\", K, \"neighbors: \", count)\n",
    "    print(\"Predicted Label: \", predicted_label, \"==> Actual Label: \", testClassSeriesA[i])\n",
    "    print()"
   ]
  },
  {
   "cell_type": "code",
   "execution_count": 129,
   "id": "258ad739",
   "metadata": {},
   "outputs": [
    {
     "name": "stdout",
     "output_type": "stream",
     "text": [
      "Indices of K Nearest Neighbors: [685 628 667 152 427]\n",
      "Labels for top 5 neighbors:  [(1, 5)]\n",
      "Predicted Label:  1 ==> Actual Label:  1\n",
      "\n",
      "Indices of K Nearest Neighbors: [382 775 163 587 550]\n",
      "Labels for top 5 neighbors:  [(0, 5)]\n",
      "Predicted Label:  0 ==> Actual Label:  0\n",
      "\n"
     ]
    }
   ],
   "source": [
    "#Cosine\n",
    "for i in range(2):\n",
    "    count, K, neigh_idx, predicted_label = knn_classify(testMatrixTA[i,:], trainMatrixTA, 5, trainClassSeriesA, 1)\n",
    "    print(\"Indices of K Nearest Neighbors:\",neigh_idx) \n",
    "    print(\"Labels for top\", K, \"neighbors: \", count)\n",
    "    print(\"Predicted Label: \", predicted_label, \"==> Actual Label: \", testClassSeriesA[i])\n",
    "    print()"
   ]
  },
  {
   "cell_type": "markdown",
   "id": "50c5c2ce",
   "metadata": {},
   "source": [
    "### Problem 1c"
   ]
  },
  {
   "cell_type": "markdown",
   "id": "f4214477",
   "metadata": {},
   "source": [
    "#### Evaluation function"
   ]
  },
  {
   "cell_type": "code",
   "execution_count": 130,
   "id": "7f1523b5",
   "metadata": {},
   "outputs": [],
   "source": [
    "def knn_evaluate (test, test_labs, train, train_labs, K, measure):\n",
    "    T = 0\n",
    "    F = 0\n",
    "    for i in range(len(test)):\n",
    "        actual=test_labs[i]\n",
    "        count, K, top_K_neighbors, predicted = knn_classify(test[i], train, K, train_labs, measure)\n",
    "        if actual == predicted:\n",
    "            T += 1       \n",
    "        else:\n",
    "            F += 1     \n",
    "    accuracy = float(T)/float(T+F) \n",
    "    return accuracy"
   ]
  },
  {
   "cell_type": "code",
   "execution_count": 131,
   "id": "77c27e29",
   "metadata": {},
   "outputs": [
    {
     "name": "stdout",
     "output_type": "stream",
     "text": [
      "Classification Accuracy:  0.815\n"
     ]
    }
   ],
   "source": [
    "accuracy = knn_evaluate(testMatrixTA, testClassSeriesA, trainMatrixTA, trainClassSeriesA, 5, 0)\n",
    "print(\"Classification Accuracy: \", accuracy)"
   ]
  },
  {
   "cell_type": "markdown",
   "id": "8d892602",
   "metadata": {},
   "source": [
    "### Problem 1d "
   ]
  },
  {
   "cell_type": "markdown",
   "id": "f0d284e4",
   "metadata": {},
   "source": [
    "#### Creating Euclid accuracy list based on different values of K"
   ]
  },
  {
   "cell_type": "code",
   "execution_count": 132,
   "id": "920d96b3",
   "metadata": {},
   "outputs": [
    {
     "name": "stdout",
     "output_type": "stream",
     "text": [
      "[0.815, 0.85, 0.785, 0.765, 0.73, 0.725, 0.69, 0.7, 0.655, 0.67, 0.655, 0.66, 0.625, 0.625, 0.63, 0.615, 0.615, 0.61, 0.605, 0.605]\n"
     ]
    }
   ],
   "source": [
    "Euclid=[]\n",
    "for K in range(5, 105, 5):\n",
    "    Euclid.append(knn_evaluate(testMatrixTA, testClassSeriesA, trainMatrixTA, trainClassSeriesA, K, 0))\n",
    "print(Euclid)"
   ]
  },
  {
   "cell_type": "markdown",
   "id": "ac27c936",
   "metadata": {},
   "source": [
    "#### Creating Cosine accuracy list based on different values of K"
   ]
  },
  {
   "cell_type": "code",
   "execution_count": 133,
   "id": "d608ef3e",
   "metadata": {},
   "outputs": [
    {
     "name": "stdout",
     "output_type": "stream",
     "text": [
      "[0.97, 0.985, 0.985, 0.975, 0.97, 0.98, 0.98, 0.98, 0.975, 0.98, 0.975, 0.98, 0.975, 0.975, 0.975, 0.975, 0.975, 0.975, 0.975, 0.975]\n"
     ]
    }
   ],
   "source": [
    "Cosine=[]\n",
    "for K in range(5, 105, 5):\n",
    "    Cosine.append(knn_evaluate(testMatrixTA, testClassSeriesA, trainMatrixTA, trainClassSeriesA, K, 1))\n",
    "print(Cosine)"
   ]
  },
  {
   "cell_type": "code",
   "execution_count": 134,
   "id": "c7d742f5",
   "metadata": {},
   "outputs": [
    {
     "data": {
      "image/png": "[encoded data removed]",
      "text/plain": [
       "<Figure size 720x360 with 1 Axes>"
      ]
     },
     "metadata": {
      "needs_background": "light"
     },
     "output_type": "display_data"
    }
   ],
   "source": [
    "Ks=list(range(5, 105, 5))\n",
    "plt.figure(figsize=(10,5))\n",
    "plt.plot(Ks, Euclid, 'r^--', label='Euclidean')\n",
    "plt.plot(Ks, Cosine, 'b.-', label='Cosine')\n",
    "plt.xlabel('K')\n",
    "plt.ylabel('Accuracy')\n",
    "plt.title('Knn classifier Accuracy')\n",
    "plt.grid(linestyle='--')\n",
    "plt.xticks(Ks)\n",
    "plt.legend(loc='center left', bbox_to_anchor=(1, 0.5))\n",
    "plt.show()"
   ]
  },
  {
   "cell_type": "markdown",
   "id": "b968d59f",
   "metadata": {},
   "source": [
    "### Problem 1e"
   ]
  },
  {
   "cell_type": "code",
   "execution_count": 135,
   "id": "2f3c995d",
   "metadata": {},
   "outputs": [
    {
     "name": "stdout",
     "output_type": "stream",
     "text": [
      "800\n",
      "5500\n"
     ]
    }
   ],
   "source": [
    "numTerms=trainMatrix.shape[0]\n",
    "NDocs = trainMatrix.shape[1]\n",
    "TD = trainMatrix\n",
    "print(NDocs)\n",
    "print(numTerms)"
   ]
  },
  {
   "cell_type": "markdown",
   "id": "8952791e",
   "metadata": {},
   "source": [
    "#### Convert Training Matrix and Test Matrix to TFxIDF weights"
   ]
  },
  {
   "cell_type": "code",
   "execution_count": 136,
   "id": "5a32bb35",
   "metadata": {},
   "outputs": [
    {
     "name": "stdout",
     "output_type": "stream",
     "text": [
      "[[800. 800. 800. ... 800. 800. 800.]\n",
      " [800. 800. 800. ... 800. 800. 800.]\n",
      " [800. 800. 800. ... 800. 800. 800.]\n",
      " ...\n",
      " [800. 800. 800. ... 800. 800. 800.]\n",
      " [800. 800. 800. ... 800. 800. 800.]\n",
      " [800. 800. 800. ... 800. 800. 800.]]\n"
     ]
    }
   ],
   "source": [
    "DF = pd.DataFrame([(TD!=0).sum(1)]).T\n",
    "NMatrix = np.ones(np.shape(TD), dtype = float)*NDocs\n",
    "np.set_printoptions(precision=2,suppress=True,linewidth=120)\n",
    "print(NMatrix)"
   ]
  },
  {
   "cell_type": "markdown",
   "id": "f4443978",
   "metadata": {},
   "source": [
    "####  IDF values"
   ]
  },
  {
   "cell_type": "code",
   "execution_count": 137,
   "id": "401e5004",
   "metadata": {},
   "outputs": [
    {
     "data": {
      "text/plain": [
       "array([[4.  , 4.  , 4.  , ..., 4.  , 4.  , 4.  ],\n",
       "       [6.84, 6.84, 6.84, ..., 6.84, 6.84, 6.84],\n",
       "       [6.32, 6.32, 6.32, ..., 6.32, 6.32, 6.32],\n",
       "       ...,\n",
       "       [8.64, 8.64, 8.64, ..., 8.64, 8.64, 8.64],\n",
       "       [8.64, 8.64, 8.64, ..., 8.64, 8.64, 8.64],\n",
       "       [8.64, 8.64, 8.64, ..., 8.64, 8.64, 8.64]])"
      ]
     },
     "execution_count": 137,
     "metadata": {},
     "output_type": "execute_result"
    }
   ],
   "source": [
    "IDF = np.log2(np.divide(NMatrix, np.array(DF)))\n",
    "IDF"
   ]
  },
  {
   "cell_type": "markdown",
   "id": "7cb33a18",
   "metadata": {},
   "source": [
    "#### Training Matrix IDF weights - values are all the same columns of array"
   ]
  },
  {
   "cell_type": "code",
   "execution_count": 138,
   "id": "8ad728ef",
   "metadata": {},
   "outputs": [
    {
     "data": {
      "text/html": [
       "<div>\n",
       "<style scoped>\n",
       "    .dataframe tbody tr th:only-of-type {\n",
       "        vertical-align: middle;\n",
       "    }\n",
       "\n",
       "    .dataframe tbody tr th {\n",
       "        vertical-align: top;\n",
       "    }\n",
       "\n",
       "    .dataframe thead th {\n",
       "        text-align: right;\n",
       "    }\n",
       "</style>\n",
       "<table border=\"1\" class=\"dataframe\">\n",
       "  <thead>\n",
       "    <tr style=\"text-align: right;\">\n",
       "      <th></th>\n",
       "      <th>0</th>\n",
       "      <th>1</th>\n",
       "      <th>2</th>\n",
       "      <th>3</th>\n",
       "      <th>4</th>\n",
       "      <th>5</th>\n",
       "      <th>6</th>\n",
       "      <th>7</th>\n",
       "      <th>8</th>\n",
       "      <th>9</th>\n",
       "      <th>...</th>\n",
       "      <th>790</th>\n",
       "      <th>791</th>\n",
       "      <th>792</th>\n",
       "      <th>793</th>\n",
       "      <th>794</th>\n",
       "      <th>795</th>\n",
       "      <th>796</th>\n",
       "      <th>797</th>\n",
       "      <th>798</th>\n",
       "      <th>799</th>\n",
       "    </tr>\n",
       "  </thead>\n",
       "  <tbody>\n",
       "    <tr>\n",
       "      <th>0</th>\n",
       "      <td>8.00</td>\n",
       "      <td>0.00</td>\n",
       "      <td>0.0</td>\n",
       "      <td>8.0</td>\n",
       "      <td>8.0</td>\n",
       "      <td>0.0</td>\n",
       "      <td>0.0</td>\n",
       "      <td>0.0</td>\n",
       "      <td>0.0</td>\n",
       "      <td>0.0</td>\n",
       "      <td>...</td>\n",
       "      <td>0.0</td>\n",
       "      <td>0.0</td>\n",
       "      <td>0.00</td>\n",
       "      <td>0.0</td>\n",
       "      <td>0.0</td>\n",
       "      <td>0.0</td>\n",
       "      <td>0.0</td>\n",
       "      <td>0.0</td>\n",
       "      <td>0.0</td>\n",
       "      <td>0.00</td>\n",
       "    </tr>\n",
       "    <tr>\n",
       "      <th>1</th>\n",
       "      <td>13.67</td>\n",
       "      <td>0.00</td>\n",
       "      <td>0.0</td>\n",
       "      <td>0.0</td>\n",
       "      <td>0.0</td>\n",
       "      <td>0.0</td>\n",
       "      <td>0.0</td>\n",
       "      <td>0.0</td>\n",
       "      <td>0.0</td>\n",
       "      <td>0.0</td>\n",
       "      <td>...</td>\n",
       "      <td>0.0</td>\n",
       "      <td>0.0</td>\n",
       "      <td>20.51</td>\n",
       "      <td>0.0</td>\n",
       "      <td>0.0</td>\n",
       "      <td>0.0</td>\n",
       "      <td>0.0</td>\n",
       "      <td>0.0</td>\n",
       "      <td>0.0</td>\n",
       "      <td>0.00</td>\n",
       "    </tr>\n",
       "    <tr>\n",
       "      <th>2</th>\n",
       "      <td>12.64</td>\n",
       "      <td>0.00</td>\n",
       "      <td>0.0</td>\n",
       "      <td>0.0</td>\n",
       "      <td>0.0</td>\n",
       "      <td>0.0</td>\n",
       "      <td>0.0</td>\n",
       "      <td>0.0</td>\n",
       "      <td>0.0</td>\n",
       "      <td>0.0</td>\n",
       "      <td>...</td>\n",
       "      <td>0.0</td>\n",
       "      <td>0.0</td>\n",
       "      <td>0.00</td>\n",
       "      <td>0.0</td>\n",
       "      <td>0.0</td>\n",
       "      <td>0.0</td>\n",
       "      <td>0.0</td>\n",
       "      <td>0.0</td>\n",
       "      <td>0.0</td>\n",
       "      <td>0.00</td>\n",
       "    </tr>\n",
       "    <tr>\n",
       "      <th>3</th>\n",
       "      <td>0.00</td>\n",
       "      <td>0.00</td>\n",
       "      <td>0.0</td>\n",
       "      <td>0.0</td>\n",
       "      <td>0.0</td>\n",
       "      <td>0.0</td>\n",
       "      <td>0.0</td>\n",
       "      <td>0.0</td>\n",
       "      <td>0.0</td>\n",
       "      <td>0.0</td>\n",
       "      <td>...</td>\n",
       "      <td>0.0</td>\n",
       "      <td>0.0</td>\n",
       "      <td>0.00</td>\n",
       "      <td>0.0</td>\n",
       "      <td>0.0</td>\n",
       "      <td>0.0</td>\n",
       "      <td>0.0</td>\n",
       "      <td>0.0</td>\n",
       "      <td>0.0</td>\n",
       "      <td>0.00</td>\n",
       "    </tr>\n",
       "    <tr>\n",
       "      <th>4</th>\n",
       "      <td>23.11</td>\n",
       "      <td>2.89</td>\n",
       "      <td>0.0</td>\n",
       "      <td>0.0</td>\n",
       "      <td>0.0</td>\n",
       "      <td>0.0</td>\n",
       "      <td>0.0</td>\n",
       "      <td>0.0</td>\n",
       "      <td>0.0</td>\n",
       "      <td>0.0</td>\n",
       "      <td>...</td>\n",
       "      <td>0.0</td>\n",
       "      <td>0.0</td>\n",
       "      <td>5.78</td>\n",
       "      <td>0.0</td>\n",
       "      <td>0.0</td>\n",
       "      <td>0.0</td>\n",
       "      <td>0.0</td>\n",
       "      <td>0.0</td>\n",
       "      <td>0.0</td>\n",
       "      <td>2.89</td>\n",
       "    </tr>\n",
       "    <tr>\n",
       "      <th>...</th>\n",
       "      <td>...</td>\n",
       "      <td>...</td>\n",
       "      <td>...</td>\n",
       "      <td>...</td>\n",
       "      <td>...</td>\n",
       "      <td>...</td>\n",
       "      <td>...</td>\n",
       "      <td>...</td>\n",
       "      <td>...</td>\n",
       "      <td>...</td>\n",
       "      <td>...</td>\n",
       "      <td>...</td>\n",
       "      <td>...</td>\n",
       "      <td>...</td>\n",
       "      <td>...</td>\n",
       "      <td>...</td>\n",
       "      <td>...</td>\n",
       "      <td>...</td>\n",
       "      <td>...</td>\n",
       "      <td>...</td>\n",
       "      <td>...</td>\n",
       "    </tr>\n",
       "    <tr>\n",
       "      <th>5495</th>\n",
       "      <td>0.00</td>\n",
       "      <td>0.00</td>\n",
       "      <td>0.0</td>\n",
       "      <td>0.0</td>\n",
       "      <td>0.0</td>\n",
       "      <td>0.0</td>\n",
       "      <td>0.0</td>\n",
       "      <td>0.0</td>\n",
       "      <td>0.0</td>\n",
       "      <td>0.0</td>\n",
       "      <td>...</td>\n",
       "      <td>0.0</td>\n",
       "      <td>0.0</td>\n",
       "      <td>0.00</td>\n",
       "      <td>0.0</td>\n",
       "      <td>0.0</td>\n",
       "      <td>0.0</td>\n",
       "      <td>0.0</td>\n",
       "      <td>0.0</td>\n",
       "      <td>0.0</td>\n",
       "      <td>0.00</td>\n",
       "    </tr>\n",
       "    <tr>\n",
       "      <th>5496</th>\n",
       "      <td>0.00</td>\n",
       "      <td>0.00</td>\n",
       "      <td>0.0</td>\n",
       "      <td>0.0</td>\n",
       "      <td>0.0</td>\n",
       "      <td>0.0</td>\n",
       "      <td>0.0</td>\n",
       "      <td>0.0</td>\n",
       "      <td>0.0</td>\n",
       "      <td>0.0</td>\n",
       "      <td>...</td>\n",
       "      <td>0.0</td>\n",
       "      <td>0.0</td>\n",
       "      <td>0.00</td>\n",
       "      <td>0.0</td>\n",
       "      <td>0.0</td>\n",
       "      <td>0.0</td>\n",
       "      <td>0.0</td>\n",
       "      <td>0.0</td>\n",
       "      <td>0.0</td>\n",
       "      <td>0.00</td>\n",
       "    </tr>\n",
       "    <tr>\n",
       "      <th>5497</th>\n",
       "      <td>0.00</td>\n",
       "      <td>0.00</td>\n",
       "      <td>0.0</td>\n",
       "      <td>0.0</td>\n",
       "      <td>0.0</td>\n",
       "      <td>0.0</td>\n",
       "      <td>0.0</td>\n",
       "      <td>0.0</td>\n",
       "      <td>0.0</td>\n",
       "      <td>0.0</td>\n",
       "      <td>...</td>\n",
       "      <td>0.0</td>\n",
       "      <td>0.0</td>\n",
       "      <td>0.00</td>\n",
       "      <td>0.0</td>\n",
       "      <td>0.0</td>\n",
       "      <td>0.0</td>\n",
       "      <td>0.0</td>\n",
       "      <td>0.0</td>\n",
       "      <td>0.0</td>\n",
       "      <td>0.00</td>\n",
       "    </tr>\n",
       "    <tr>\n",
       "      <th>5498</th>\n",
       "      <td>0.00</td>\n",
       "      <td>0.00</td>\n",
       "      <td>0.0</td>\n",
       "      <td>0.0</td>\n",
       "      <td>0.0</td>\n",
       "      <td>0.0</td>\n",
       "      <td>0.0</td>\n",
       "      <td>0.0</td>\n",
       "      <td>0.0</td>\n",
       "      <td>0.0</td>\n",
       "      <td>...</td>\n",
       "      <td>0.0</td>\n",
       "      <td>0.0</td>\n",
       "      <td>0.00</td>\n",
       "      <td>0.0</td>\n",
       "      <td>0.0</td>\n",
       "      <td>0.0</td>\n",
       "      <td>0.0</td>\n",
       "      <td>0.0</td>\n",
       "      <td>0.0</td>\n",
       "      <td>0.00</td>\n",
       "    </tr>\n",
       "    <tr>\n",
       "      <th>5499</th>\n",
       "      <td>0.00</td>\n",
       "      <td>0.00</td>\n",
       "      <td>0.0</td>\n",
       "      <td>0.0</td>\n",
       "      <td>0.0</td>\n",
       "      <td>0.0</td>\n",
       "      <td>0.0</td>\n",
       "      <td>0.0</td>\n",
       "      <td>0.0</td>\n",
       "      <td>0.0</td>\n",
       "      <td>...</td>\n",
       "      <td>0.0</td>\n",
       "      <td>0.0</td>\n",
       "      <td>0.00</td>\n",
       "      <td>0.0</td>\n",
       "      <td>0.0</td>\n",
       "      <td>0.0</td>\n",
       "      <td>0.0</td>\n",
       "      <td>0.0</td>\n",
       "      <td>0.0</td>\n",
       "      <td>0.00</td>\n",
       "    </tr>\n",
       "  </tbody>\n",
       "</table>\n",
       "<p>5500 rows × 800 columns</p>\n",
       "</div>"
      ],
      "text/plain": [
       "        0     1    2    3    4    5    6    7    8    9    ...  790  791  \\\n",
       "0      8.00  0.00  0.0  8.0  8.0  0.0  0.0  0.0  0.0  0.0  ...  0.0  0.0   \n",
       "1     13.67  0.00  0.0  0.0  0.0  0.0  0.0  0.0  0.0  0.0  ...  0.0  0.0   \n",
       "2     12.64  0.00  0.0  0.0  0.0  0.0  0.0  0.0  0.0  0.0  ...  0.0  0.0   \n",
       "3      0.00  0.00  0.0  0.0  0.0  0.0  0.0  0.0  0.0  0.0  ...  0.0  0.0   \n",
       "4     23.11  2.89  0.0  0.0  0.0  0.0  0.0  0.0  0.0  0.0  ...  0.0  0.0   \n",
       "...     ...   ...  ...  ...  ...  ...  ...  ...  ...  ...  ...  ...  ...   \n",
       "5495   0.00  0.00  0.0  0.0  0.0  0.0  0.0  0.0  0.0  0.0  ...  0.0  0.0   \n",
       "5496   0.00  0.00  0.0  0.0  0.0  0.0  0.0  0.0  0.0  0.0  ...  0.0  0.0   \n",
       "5497   0.00  0.00  0.0  0.0  0.0  0.0  0.0  0.0  0.0  0.0  ...  0.0  0.0   \n",
       "5498   0.00  0.00  0.0  0.0  0.0  0.0  0.0  0.0  0.0  0.0  ...  0.0  0.0   \n",
       "5499   0.00  0.00  0.0  0.0  0.0  0.0  0.0  0.0  0.0  0.0  ...  0.0  0.0   \n",
       "\n",
       "        792  793  794  795  796  797  798   799  \n",
       "0      0.00  0.0  0.0  0.0  0.0  0.0  0.0  0.00  \n",
       "1     20.51  0.0  0.0  0.0  0.0  0.0  0.0  0.00  \n",
       "2      0.00  0.0  0.0  0.0  0.0  0.0  0.0  0.00  \n",
       "3      0.00  0.0  0.0  0.0  0.0  0.0  0.0  0.00  \n",
       "4      5.78  0.0  0.0  0.0  0.0  0.0  0.0  2.89  \n",
       "...     ...  ...  ...  ...  ...  ...  ...   ...  \n",
       "5495   0.00  0.0  0.0  0.0  0.0  0.0  0.0  0.00  \n",
       "5496   0.00  0.0  0.0  0.0  0.0  0.0  0.0  0.00  \n",
       "5497   0.00  0.0  0.0  0.0  0.0  0.0  0.0  0.00  \n",
       "5498   0.00  0.0  0.0  0.0  0.0  0.0  0.0  0.00  \n",
       "5499   0.00  0.0  0.0  0.0  0.0  0.0  0.0  0.00  \n",
       "\n",
       "[5500 rows x 800 columns]"
      ]
     },
     "execution_count": 138,
     "metadata": {},
     "output_type": "execute_result"
    }
   ],
   "source": [
    "TD_tfidf = TD * IDF\n",
    "pd.set_option(\"display.precision\",2)\n",
    "TD_tfidf"
   ]
  },
  {
   "cell_type": "markdown",
   "id": "d50bb3d4",
   "metadata": {},
   "source": [
    "#### Since IDF is a funciton of the term then all columns will be the same, take only first 200 columns\n"
   ]
  },
  {
   "cell_type": "code",
   "execution_count": 139,
   "id": "aec8caf0",
   "metadata": {},
   "outputs": [],
   "source": [
    "IDFt = IDF[:,:200]"
   ]
  },
  {
   "cell_type": "markdown",
   "id": "00e6f1a4",
   "metadata": {},
   "source": [
    "#### Test Matrix IDF weights"
   ]
  },
  {
   "cell_type": "code",
   "execution_count": 140,
   "id": "55bffcd8",
   "metadata": {},
   "outputs": [
    {
     "data": {
      "text/html": [
       "<div>\n",
       "<style scoped>\n",
       "    .dataframe tbody tr th:only-of-type {\n",
       "        vertical-align: middle;\n",
       "    }\n",
       "\n",
       "    .dataframe tbody tr th {\n",
       "        vertical-align: top;\n",
       "    }\n",
       "\n",
       "    .dataframe thead th {\n",
       "        text-align: right;\n",
       "    }\n",
       "</style>\n",
       "<table border=\"1\" class=\"dataframe\">\n",
       "  <thead>\n",
       "    <tr style=\"text-align: right;\">\n",
       "      <th></th>\n",
       "      <th>0</th>\n",
       "      <th>1</th>\n",
       "      <th>2</th>\n",
       "      <th>3</th>\n",
       "      <th>4</th>\n",
       "      <th>5</th>\n",
       "      <th>6</th>\n",
       "      <th>7</th>\n",
       "      <th>8</th>\n",
       "      <th>9</th>\n",
       "      <th>...</th>\n",
       "      <th>190</th>\n",
       "      <th>191</th>\n",
       "      <th>192</th>\n",
       "      <th>193</th>\n",
       "      <th>194</th>\n",
       "      <th>195</th>\n",
       "      <th>196</th>\n",
       "      <th>197</th>\n",
       "      <th>198</th>\n",
       "      <th>199</th>\n",
       "    </tr>\n",
       "  </thead>\n",
       "  <tbody>\n",
       "    <tr>\n",
       "      <th>0</th>\n",
       "      <td>0.0</td>\n",
       "      <td>0.0</td>\n",
       "      <td>4.0</td>\n",
       "      <td>0.0</td>\n",
       "      <td>0.0</td>\n",
       "      <td>0.0</td>\n",
       "      <td>0.0</td>\n",
       "      <td>0.0</td>\n",
       "      <td>0.00</td>\n",
       "      <td>0.0</td>\n",
       "      <td>...</td>\n",
       "      <td>0.0</td>\n",
       "      <td>0.0</td>\n",
       "      <td>0.0</td>\n",
       "      <td>0.0</td>\n",
       "      <td>0.0</td>\n",
       "      <td>0.0</td>\n",
       "      <td>0.0</td>\n",
       "      <td>0.0</td>\n",
       "      <td>0.0</td>\n",
       "      <td>0.0</td>\n",
       "    </tr>\n",
       "    <tr>\n",
       "      <th>1</th>\n",
       "      <td>0.0</td>\n",
       "      <td>0.0</td>\n",
       "      <td>0.0</td>\n",
       "      <td>0.0</td>\n",
       "      <td>0.0</td>\n",
       "      <td>0.0</td>\n",
       "      <td>0.0</td>\n",
       "      <td>0.0</td>\n",
       "      <td>0.00</td>\n",
       "      <td>0.0</td>\n",
       "      <td>...</td>\n",
       "      <td>0.0</td>\n",
       "      <td>0.0</td>\n",
       "      <td>0.0</td>\n",
       "      <td>0.0</td>\n",
       "      <td>0.0</td>\n",
       "      <td>0.0</td>\n",
       "      <td>0.0</td>\n",
       "      <td>0.0</td>\n",
       "      <td>0.0</td>\n",
       "      <td>0.0</td>\n",
       "    </tr>\n",
       "    <tr>\n",
       "      <th>2</th>\n",
       "      <td>0.0</td>\n",
       "      <td>0.0</td>\n",
       "      <td>0.0</td>\n",
       "      <td>0.0</td>\n",
       "      <td>0.0</td>\n",
       "      <td>0.0</td>\n",
       "      <td>0.0</td>\n",
       "      <td>0.0</td>\n",
       "      <td>0.00</td>\n",
       "      <td>0.0</td>\n",
       "      <td>...</td>\n",
       "      <td>0.0</td>\n",
       "      <td>0.0</td>\n",
       "      <td>0.0</td>\n",
       "      <td>0.0</td>\n",
       "      <td>0.0</td>\n",
       "      <td>0.0</td>\n",
       "      <td>0.0</td>\n",
       "      <td>0.0</td>\n",
       "      <td>0.0</td>\n",
       "      <td>0.0</td>\n",
       "    </tr>\n",
       "    <tr>\n",
       "      <th>3</th>\n",
       "      <td>0.0</td>\n",
       "      <td>0.0</td>\n",
       "      <td>0.0</td>\n",
       "      <td>0.0</td>\n",
       "      <td>0.0</td>\n",
       "      <td>0.0</td>\n",
       "      <td>0.0</td>\n",
       "      <td>0.0</td>\n",
       "      <td>0.00</td>\n",
       "      <td>0.0</td>\n",
       "      <td>...</td>\n",
       "      <td>0.0</td>\n",
       "      <td>0.0</td>\n",
       "      <td>0.0</td>\n",
       "      <td>0.0</td>\n",
       "      <td>0.0</td>\n",
       "      <td>0.0</td>\n",
       "      <td>0.0</td>\n",
       "      <td>0.0</td>\n",
       "      <td>0.0</td>\n",
       "      <td>0.0</td>\n",
       "    </tr>\n",
       "    <tr>\n",
       "      <th>4</th>\n",
       "      <td>0.0</td>\n",
       "      <td>0.0</td>\n",
       "      <td>0.0</td>\n",
       "      <td>0.0</td>\n",
       "      <td>0.0</td>\n",
       "      <td>0.0</td>\n",
       "      <td>0.0</td>\n",
       "      <td>0.0</td>\n",
       "      <td>5.78</td>\n",
       "      <td>0.0</td>\n",
       "      <td>...</td>\n",
       "      <td>0.0</td>\n",
       "      <td>0.0</td>\n",
       "      <td>0.0</td>\n",
       "      <td>0.0</td>\n",
       "      <td>0.0</td>\n",
       "      <td>0.0</td>\n",
       "      <td>0.0</td>\n",
       "      <td>0.0</td>\n",
       "      <td>0.0</td>\n",
       "      <td>0.0</td>\n",
       "    </tr>\n",
       "    <tr>\n",
       "      <th>...</th>\n",
       "      <td>...</td>\n",
       "      <td>...</td>\n",
       "      <td>...</td>\n",
       "      <td>...</td>\n",
       "      <td>...</td>\n",
       "      <td>...</td>\n",
       "      <td>...</td>\n",
       "      <td>...</td>\n",
       "      <td>...</td>\n",
       "      <td>...</td>\n",
       "      <td>...</td>\n",
       "      <td>...</td>\n",
       "      <td>...</td>\n",
       "      <td>...</td>\n",
       "      <td>...</td>\n",
       "      <td>...</td>\n",
       "      <td>...</td>\n",
       "      <td>...</td>\n",
       "      <td>...</td>\n",
       "      <td>...</td>\n",
       "      <td>...</td>\n",
       "    </tr>\n",
       "    <tr>\n",
       "      <th>5495</th>\n",
       "      <td>0.0</td>\n",
       "      <td>0.0</td>\n",
       "      <td>0.0</td>\n",
       "      <td>0.0</td>\n",
       "      <td>0.0</td>\n",
       "      <td>0.0</td>\n",
       "      <td>0.0</td>\n",
       "      <td>0.0</td>\n",
       "      <td>0.00</td>\n",
       "      <td>0.0</td>\n",
       "      <td>...</td>\n",
       "      <td>0.0</td>\n",
       "      <td>0.0</td>\n",
       "      <td>0.0</td>\n",
       "      <td>0.0</td>\n",
       "      <td>0.0</td>\n",
       "      <td>0.0</td>\n",
       "      <td>0.0</td>\n",
       "      <td>0.0</td>\n",
       "      <td>0.0</td>\n",
       "      <td>0.0</td>\n",
       "    </tr>\n",
       "    <tr>\n",
       "      <th>5496</th>\n",
       "      <td>0.0</td>\n",
       "      <td>0.0</td>\n",
       "      <td>0.0</td>\n",
       "      <td>0.0</td>\n",
       "      <td>0.0</td>\n",
       "      <td>0.0</td>\n",
       "      <td>0.0</td>\n",
       "      <td>0.0</td>\n",
       "      <td>0.00</td>\n",
       "      <td>0.0</td>\n",
       "      <td>...</td>\n",
       "      <td>0.0</td>\n",
       "      <td>0.0</td>\n",
       "      <td>0.0</td>\n",
       "      <td>0.0</td>\n",
       "      <td>0.0</td>\n",
       "      <td>0.0</td>\n",
       "      <td>0.0</td>\n",
       "      <td>0.0</td>\n",
       "      <td>0.0</td>\n",
       "      <td>0.0</td>\n",
       "    </tr>\n",
       "    <tr>\n",
       "      <th>5497</th>\n",
       "      <td>0.0</td>\n",
       "      <td>0.0</td>\n",
       "      <td>0.0</td>\n",
       "      <td>0.0</td>\n",
       "      <td>0.0</td>\n",
       "      <td>0.0</td>\n",
       "      <td>0.0</td>\n",
       "      <td>0.0</td>\n",
       "      <td>0.00</td>\n",
       "      <td>0.0</td>\n",
       "      <td>...</td>\n",
       "      <td>0.0</td>\n",
       "      <td>0.0</td>\n",
       "      <td>0.0</td>\n",
       "      <td>0.0</td>\n",
       "      <td>0.0</td>\n",
       "      <td>0.0</td>\n",
       "      <td>0.0</td>\n",
       "      <td>0.0</td>\n",
       "      <td>0.0</td>\n",
       "      <td>0.0</td>\n",
       "    </tr>\n",
       "    <tr>\n",
       "      <th>5498</th>\n",
       "      <td>0.0</td>\n",
       "      <td>0.0</td>\n",
       "      <td>0.0</td>\n",
       "      <td>0.0</td>\n",
       "      <td>0.0</td>\n",
       "      <td>0.0</td>\n",
       "      <td>0.0</td>\n",
       "      <td>0.0</td>\n",
       "      <td>0.00</td>\n",
       "      <td>0.0</td>\n",
       "      <td>...</td>\n",
       "      <td>0.0</td>\n",
       "      <td>0.0</td>\n",
       "      <td>0.0</td>\n",
       "      <td>0.0</td>\n",
       "      <td>0.0</td>\n",
       "      <td>0.0</td>\n",
       "      <td>0.0</td>\n",
       "      <td>0.0</td>\n",
       "      <td>0.0</td>\n",
       "      <td>0.0</td>\n",
       "    </tr>\n",
       "    <tr>\n",
       "      <th>5499</th>\n",
       "      <td>0.0</td>\n",
       "      <td>0.0</td>\n",
       "      <td>0.0</td>\n",
       "      <td>0.0</td>\n",
       "      <td>0.0</td>\n",
       "      <td>0.0</td>\n",
       "      <td>0.0</td>\n",
       "      <td>0.0</td>\n",
       "      <td>0.00</td>\n",
       "      <td>0.0</td>\n",
       "      <td>...</td>\n",
       "      <td>0.0</td>\n",
       "      <td>0.0</td>\n",
       "      <td>0.0</td>\n",
       "      <td>0.0</td>\n",
       "      <td>0.0</td>\n",
       "      <td>0.0</td>\n",
       "      <td>0.0</td>\n",
       "      <td>0.0</td>\n",
       "      <td>0.0</td>\n",
       "      <td>0.0</td>\n",
       "    </tr>\n",
       "  </tbody>\n",
       "</table>\n",
       "<p>5500 rows × 200 columns</p>\n",
       "</div>"
      ],
      "text/plain": [
       "      0    1    2    3    4    5    6    7     8    9    ...  190  191  192  \\\n",
       "0     0.0  0.0  4.0  0.0  0.0  0.0  0.0  0.0  0.00  0.0  ...  0.0  0.0  0.0   \n",
       "1     0.0  0.0  0.0  0.0  0.0  0.0  0.0  0.0  0.00  0.0  ...  0.0  0.0  0.0   \n",
       "2     0.0  0.0  0.0  0.0  0.0  0.0  0.0  0.0  0.00  0.0  ...  0.0  0.0  0.0   \n",
       "3     0.0  0.0  0.0  0.0  0.0  0.0  0.0  0.0  0.00  0.0  ...  0.0  0.0  0.0   \n",
       "4     0.0  0.0  0.0  0.0  0.0  0.0  0.0  0.0  5.78  0.0  ...  0.0  0.0  0.0   \n",
       "...   ...  ...  ...  ...  ...  ...  ...  ...   ...  ...  ...  ...  ...  ...   \n",
       "5495  0.0  0.0  0.0  0.0  0.0  0.0  0.0  0.0  0.00  0.0  ...  0.0  0.0  0.0   \n",
       "5496  0.0  0.0  0.0  0.0  0.0  0.0  0.0  0.0  0.00  0.0  ...  0.0  0.0  0.0   \n",
       "5497  0.0  0.0  0.0  0.0  0.0  0.0  0.0  0.0  0.00  0.0  ...  0.0  0.0  0.0   \n",
       "5498  0.0  0.0  0.0  0.0  0.0  0.0  0.0  0.0  0.00  0.0  ...  0.0  0.0  0.0   \n",
       "5499  0.0  0.0  0.0  0.0  0.0  0.0  0.0  0.0  0.00  0.0  ...  0.0  0.0  0.0   \n",
       "\n",
       "      193  194  195  196  197  198  199  \n",
       "0     0.0  0.0  0.0  0.0  0.0  0.0  0.0  \n",
       "1     0.0  0.0  0.0  0.0  0.0  0.0  0.0  \n",
       "2     0.0  0.0  0.0  0.0  0.0  0.0  0.0  \n",
       "3     0.0  0.0  0.0  0.0  0.0  0.0  0.0  \n",
       "4     0.0  0.0  0.0  0.0  0.0  0.0  0.0  \n",
       "...   ...  ...  ...  ...  ...  ...  ...  \n",
       "5495  0.0  0.0  0.0  0.0  0.0  0.0  0.0  \n",
       "5496  0.0  0.0  0.0  0.0  0.0  0.0  0.0  \n",
       "5497  0.0  0.0  0.0  0.0  0.0  0.0  0.0  \n",
       "5498  0.0  0.0  0.0  0.0  0.0  0.0  0.0  \n",
       "5499  0.0  0.0  0.0  0.0  0.0  0.0  0.0  \n",
       "\n",
       "[5500 rows x 200 columns]"
      ]
     },
     "execution_count": 140,
     "metadata": {},
     "output_type": "execute_result"
    }
   ],
   "source": [
    "testMatrix_tfidf = testMatrix * IDFt\n",
    "testMatrix_tfidf"
   ]
  },
  {
   "cell_type": "markdown",
   "id": "c2711400",
   "metadata": {},
   "source": [
    "#### Transpose and convert matrices to numpy array to supply for knn_evaluate arguments"
   ]
  },
  {
   "cell_type": "code",
   "execution_count": 141,
   "id": "0a06caad",
   "metadata": {},
   "outputs": [
    {
     "data": {
      "text/plain": [
       "(800, 5500)"
      ]
     },
     "execution_count": 141,
     "metadata": {},
     "output_type": "execute_result"
    }
   ],
   "source": [
    "TD_tfidf_TA = np.array(TD_tfidf.T)\n",
    "TD_tfidf_TA.shape"
   ]
  },
  {
   "cell_type": "code",
   "execution_count": 142,
   "id": "d94731cf",
   "metadata": {},
   "outputs": [
    {
     "data": {
      "text/plain": [
       "(200, 5500)"
      ]
     },
     "execution_count": 142,
     "metadata": {},
     "output_type": "execute_result"
    }
   ],
   "source": [
    "testMatrix_tfidTA = np.array(testMatrix_tfidf.T)\n",
    "testMatrix_tfidTA.shape"
   ]
  },
  {
   "cell_type": "markdown",
   "id": "28afb756",
   "metadata": {},
   "source": [
    "#### Rerun knn evaluation using cosine"
   ]
  },
  {
   "cell_type": "code",
   "execution_count": 143,
   "id": "e2e13e36",
   "metadata": {},
   "outputs": [
    {
     "name": "stdout",
     "output_type": "stream",
     "text": [
      "[0.97, 0.985, 0.985, 0.975, 0.97, 0.98, 0.98, 0.98, 0.975, 0.98, 0.975, 0.98, 0.975, 0.975, 0.975, 0.975, 0.975, 0.975, 0.975, 0.975]\n"
     ]
    }
   ],
   "source": [
    "CosineIDF=[]\n",
    "for K in range(5, 105, 5):\n",
    "    CosineIDF.append(knn_evaluate(testMatrix_tfidTA, testClassSeriesA, TD_tfidf_TA, trainClassSeriesA, K, 1))\n",
    "print(Cosine)"
   ]
  },
  {
   "cell_type": "markdown",
   "id": "f6531538",
   "metadata": {},
   "source": [
    "#### Line Chart comparing KNN classifier accuracy with cosine mesaure using IDF and non-IDF"
   ]
  },
  {
   "cell_type": "code",
   "execution_count": 144,
   "id": "81e95925",
   "metadata": {},
   "outputs": [
    {
     "data": {
      "image/png": "[encoded data removed]",
      "text/plain": [
       "<Figure size 720x360 with 1 Axes>"
      ]
     },
     "metadata": {
      "needs_background": "light"
     },
     "output_type": "display_data"
    }
   ],
   "source": [
    "Ks=list(range(5, 105, 5))\n",
    "plt.figure(figsize=(10,5))\n",
    "plt.plot(Ks, Cosine, 'r^--', label='Cosine')\n",
    "plt.plot(Ks, CosineIDF, 'b.-', label='CosineIDF')\n",
    "plt.xlabel('K')\n",
    "plt.ylabel('Accuracy')\n",
    "plt.title('Knn classifier Accuracy with and without IDF weights')\n",
    "plt.grid(linestyle='--')\n",
    "plt.xticks(Ks)\n",
    "plt.legend(loc='center left', bbox_to_anchor=(1, 0.5))\n",
    "plt.show()"
   ]
  },
  {
   "cell_type": "markdown",
   "id": "d9d8ac3d",
   "metadata": {},
   "source": [
    "### Problem 1f\n",
    "#### I wasn't able to figure out how to implement the algorithmn for this problem."
   ]
  },
  {
   "cell_type": "code",
   "execution_count": 145,
   "id": "f39d9378",
   "metadata": {},
   "outputs": [],
   "source": [
    "def Rocchio_Train(train, labels):\n",
    "    prototype = {}\n",
    "    #for i in labels:\n",
    "    return prototype"
   ]
  },
  {
   "cell_type": "code",
   "execution_count": 146,
   "id": "ad7c582a",
   "metadata": {},
   "outputs": [],
   "source": [
    "def Rocchio_Classifier(protoype, instance):\n",
    "    return predicted_label, sims"
   ]
  },
  {
   "cell_type": "code",
   "execution_count": 147,
   "id": "5059c9e8",
   "metadata": {},
   "outputs": [],
   "source": [
    "def Rocchio_evaluate(test, test_lab, protoype):\n",
    "    return accuracy"
   ]
  },
  {
   "cell_type": "markdown",
   "id": "b1bf3db1",
   "metadata": {},
   "source": [
    "### Problem 1g"
   ]
  },
  {
   "cell_type": "markdown",
   "id": "27129d0b",
   "metadata": {},
   "source": [
    "#### Using scikit-learn's Nearest Centroid classifier to perform classification on the test instance"
   ]
  },
  {
   "cell_type": "code",
   "execution_count": 148,
   "id": "fb6d1c5b",
   "metadata": {},
   "outputs": [
    {
     "name": "stdout",
     "output_type": "stream",
     "text": [
      "0.94\n"
     ]
    }
   ],
   "source": [
    "clf = NearestCentroid()\n",
    "clf.fit(trainMatrixTA,trainClassSeriesA)\n",
    "clf.predict(testMatrixTA)\n",
    "print(clf.score(testMatrixTA,testClassSeriesA))"
   ]
  },
  {
   "cell_type": "markdown",
   "id": "9fd39994",
   "metadata": {},
   "source": [
    "### Problem 2a"
   ]
  },
  {
   "cell_type": "markdown",
   "id": "8f6de2c6",
   "metadata": {},
   "source": [
    "#### Load data into Pandas dataframe"
   ]
  },
  {
   "cell_type": "code",
   "execution_count": 149,
   "id": "cff55779",
   "metadata": {},
   "outputs": [
    {
     "data": {
      "text/html": [
       "<div>\n",
       "<style scoped>\n",
       "    .dataframe tbody tr th:only-of-type {\n",
       "        vertical-align: middle;\n",
       "    }\n",
       "\n",
       "    .dataframe tbody tr th {\n",
       "        vertical-align: top;\n",
       "    }\n",
       "\n",
       "    .dataframe thead th {\n",
       "        text-align: right;\n",
       "    }\n",
       "</style>\n",
       "<table border=\"1\" class=\"dataframe\">\n",
       "  <thead>\n",
       "    <tr style=\"text-align: right;\">\n",
       "      <th></th>\n",
       "      <th>age</th>\n",
       "      <th>workclass</th>\n",
       "      <th>education</th>\n",
       "      <th>marital-status</th>\n",
       "      <th>race</th>\n",
       "      <th>sex</th>\n",
       "      <th>hours-per-week</th>\n",
       "      <th>income</th>\n",
       "    </tr>\n",
       "  </thead>\n",
       "  <tbody>\n",
       "    <tr>\n",
       "      <th>0</th>\n",
       "      <td>39</td>\n",
       "      <td>Public</td>\n",
       "      <td>13</td>\n",
       "      <td>Single</td>\n",
       "      <td>White</td>\n",
       "      <td>Male</td>\n",
       "      <td>40</td>\n",
       "      <td>&lt;=50K</td>\n",
       "    </tr>\n",
       "    <tr>\n",
       "      <th>1</th>\n",
       "      <td>50</td>\n",
       "      <td>Self-emp</td>\n",
       "      <td>13</td>\n",
       "      <td>Married</td>\n",
       "      <td>White</td>\n",
       "      <td>Male</td>\n",
       "      <td>13</td>\n",
       "      <td>&lt;=50K</td>\n",
       "    </tr>\n",
       "    <tr>\n",
       "      <th>2</th>\n",
       "      <td>38</td>\n",
       "      <td>Private</td>\n",
       "      <td>9</td>\n",
       "      <td>Single</td>\n",
       "      <td>White</td>\n",
       "      <td>Male</td>\n",
       "      <td>40</td>\n",
       "      <td>&lt;=50K</td>\n",
       "    </tr>\n",
       "    <tr>\n",
       "      <th>3</th>\n",
       "      <td>53</td>\n",
       "      <td>Private</td>\n",
       "      <td>7</td>\n",
       "      <td>Married</td>\n",
       "      <td>Black</td>\n",
       "      <td>Male</td>\n",
       "      <td>40</td>\n",
       "      <td>&lt;=50K</td>\n",
       "    </tr>\n",
       "    <tr>\n",
       "      <th>4</th>\n",
       "      <td>28</td>\n",
       "      <td>Private</td>\n",
       "      <td>13</td>\n",
       "      <td>Married</td>\n",
       "      <td>Black</td>\n",
       "      <td>Female</td>\n",
       "      <td>40</td>\n",
       "      <td>&lt;=50K</td>\n",
       "    </tr>\n",
       "    <tr>\n",
       "      <th>...</th>\n",
       "      <td>...</td>\n",
       "      <td>...</td>\n",
       "      <td>...</td>\n",
       "      <td>...</td>\n",
       "      <td>...</td>\n",
       "      <td>...</td>\n",
       "      <td>...</td>\n",
       "      <td>...</td>\n",
       "    </tr>\n",
       "    <tr>\n",
       "      <th>9407</th>\n",
       "      <td>38</td>\n",
       "      <td>Private</td>\n",
       "      <td>10</td>\n",
       "      <td>Married</td>\n",
       "      <td>White</td>\n",
       "      <td>Male</td>\n",
       "      <td>60</td>\n",
       "      <td>&gt;50K</td>\n",
       "    </tr>\n",
       "    <tr>\n",
       "      <th>9408</th>\n",
       "      <td>25</td>\n",
       "      <td>Private</td>\n",
       "      <td>9</td>\n",
       "      <td>Single</td>\n",
       "      <td>White</td>\n",
       "      <td>Female</td>\n",
       "      <td>8</td>\n",
       "      <td>&lt;=50K</td>\n",
       "    </tr>\n",
       "    <tr>\n",
       "      <th>9409</th>\n",
       "      <td>21</td>\n",
       "      <td>Private</td>\n",
       "      <td>10</td>\n",
       "      <td>Single</td>\n",
       "      <td>Black</td>\n",
       "      <td>Male</td>\n",
       "      <td>40</td>\n",
       "      <td>&lt;=50K</td>\n",
       "    </tr>\n",
       "    <tr>\n",
       "      <th>9410</th>\n",
       "      <td>38</td>\n",
       "      <td>Private</td>\n",
       "      <td>2</td>\n",
       "      <td>Married</td>\n",
       "      <td>White</td>\n",
       "      <td>Male</td>\n",
       "      <td>53</td>\n",
       "      <td>&lt;=50K</td>\n",
       "    </tr>\n",
       "    <tr>\n",
       "      <th>9411</th>\n",
       "      <td>39</td>\n",
       "      <td>Private</td>\n",
       "      <td>10</td>\n",
       "      <td>Single</td>\n",
       "      <td>White</td>\n",
       "      <td>Female</td>\n",
       "      <td>40</td>\n",
       "      <td>&lt;=50K</td>\n",
       "    </tr>\n",
       "  </tbody>\n",
       "</table>\n",
       "<p>9412 rows × 8 columns</p>\n",
       "</div>"
      ],
      "text/plain": [
       "      age workclass  education marital-status   race     sex  hours-per-week  \\\n",
       "0      39    Public         13         Single  White    Male              40   \n",
       "1      50  Self-emp         13        Married  White    Male              13   \n",
       "2      38   Private          9         Single  White    Male              40   \n",
       "3      53   Private          7        Married  Black    Male              40   \n",
       "4      28   Private         13        Married  Black  Female              40   \n",
       "...   ...       ...        ...            ...    ...     ...             ...   \n",
       "9407   38   Private         10        Married  White    Male              60   \n",
       "9408   25   Private          9         Single  White  Female               8   \n",
       "9409   21   Private         10         Single  Black    Male              40   \n",
       "9410   38   Private          2        Married  White    Male              53   \n",
       "9411   39   Private         10         Single  White  Female              40   \n",
       "\n",
       "     income  \n",
       "0     <=50K  \n",
       "1     <=50K  \n",
       "2     <=50K  \n",
       "3     <=50K  \n",
       "4     <=50K  \n",
       "...     ...  \n",
       "9407   >50K  \n",
       "9408  <=50K  \n",
       "9409  <=50K  \n",
       "9410  <=50K  \n",
       "9411  <=50K  \n",
       "\n",
       "[9412 rows x 8 columns]"
      ]
     },
     "execution_count": 149,
     "metadata": {},
     "output_type": "execute_result"
    }
   ],
   "source": [
    "adult  =pd.read_csv(\"adult-modified.csv\")\n",
    "adult"
   ]
  },
  {
   "cell_type": "markdown",
   "id": "fe02f1e8",
   "metadata": {},
   "source": [
    "#### Separate out income attribute to create target labels for classification"
   ]
  },
  {
   "cell_type": "code",
   "execution_count": 150,
   "id": "7a2c98b3",
   "metadata": {},
   "outputs": [
    {
     "data": {
      "text/plain": [
       "0       <=50K\n",
       "1       <=50K\n",
       "2       <=50K\n",
       "3       <=50K\n",
       "4       <=50K\n",
       "        ...  \n",
       "9407     >50K\n",
       "9408    <=50K\n",
       "9409    <=50K\n",
       "9410    <=50K\n",
       "9411    <=50K\n",
       "Name: income, Length: 9412, dtype: object"
      ]
     },
     "execution_count": 150,
     "metadata": {},
     "output_type": "execute_result"
    }
   ],
   "source": [
    "adult_labels = adult.income\n",
    "adult_labels"
   ]
  },
  {
   "cell_type": "markdown",
   "id": "b2ae741e",
   "metadata": {},
   "source": [
    "#### Create dummy variables for the categorical attributes so that the data set is fully numeric and drop income from the the datafame"
   ]
  },
  {
   "cell_type": "code",
   "execution_count": 151,
   "id": "1b8085d1",
   "metadata": {},
   "outputs": [],
   "source": [
    "adult_ssf = pd.get_dummies(adult, columns=['workclass','marital-status', 'race', 'sex'])\n",
    "adult_ssf1 = adult_ssf.drop('income', axis = 1)"
   ]
  },
  {
   "cell_type": "code",
   "execution_count": 152,
   "id": "db104f5a",
   "metadata": {},
   "outputs": [
    {
     "data": {
      "text/html": [
       "<div>\n",
       "<style scoped>\n",
       "    .dataframe tbody tr th:only-of-type {\n",
       "        vertical-align: middle;\n",
       "    }\n",
       "\n",
       "    .dataframe tbody tr th {\n",
       "        vertical-align: top;\n",
       "    }\n",
       "\n",
       "    .dataframe thead th {\n",
       "        text-align: right;\n",
       "    }\n",
       "</style>\n",
       "<table border=\"1\" class=\"dataframe\">\n",
       "  <thead>\n",
       "    <tr style=\"text-align: right;\">\n",
       "      <th></th>\n",
       "      <th>age</th>\n",
       "      <th>education</th>\n",
       "      <th>hours-per-week</th>\n",
       "      <th>workclass_Private</th>\n",
       "      <th>workclass_Public</th>\n",
       "      <th>workclass_Self-emp</th>\n",
       "      <th>marital-status_Married</th>\n",
       "      <th>marital-status_Single</th>\n",
       "      <th>race_Amer-Indian</th>\n",
       "      <th>race_Asian</th>\n",
       "      <th>race_Black</th>\n",
       "      <th>race_Hispanic</th>\n",
       "      <th>race_White</th>\n",
       "      <th>sex_Female</th>\n",
       "      <th>sex_Male</th>\n",
       "    </tr>\n",
       "  </thead>\n",
       "  <tbody>\n",
       "    <tr>\n",
       "      <th>0</th>\n",
       "      <td>39</td>\n",
       "      <td>13</td>\n",
       "      <td>40</td>\n",
       "      <td>0</td>\n",
       "      <td>1</td>\n",
       "      <td>0</td>\n",
       "      <td>0</td>\n",
       "      <td>1</td>\n",
       "      <td>0</td>\n",
       "      <td>0</td>\n",
       "      <td>0</td>\n",
       "      <td>0</td>\n",
       "      <td>1</td>\n",
       "      <td>0</td>\n",
       "      <td>1</td>\n",
       "    </tr>\n",
       "    <tr>\n",
       "      <th>1</th>\n",
       "      <td>50</td>\n",
       "      <td>13</td>\n",
       "      <td>13</td>\n",
       "      <td>0</td>\n",
       "      <td>0</td>\n",
       "      <td>1</td>\n",
       "      <td>1</td>\n",
       "      <td>0</td>\n",
       "      <td>0</td>\n",
       "      <td>0</td>\n",
       "      <td>0</td>\n",
       "      <td>0</td>\n",
       "      <td>1</td>\n",
       "      <td>0</td>\n",
       "      <td>1</td>\n",
       "    </tr>\n",
       "    <tr>\n",
       "      <th>2</th>\n",
       "      <td>38</td>\n",
       "      <td>9</td>\n",
       "      <td>40</td>\n",
       "      <td>1</td>\n",
       "      <td>0</td>\n",
       "      <td>0</td>\n",
       "      <td>0</td>\n",
       "      <td>1</td>\n",
       "      <td>0</td>\n",
       "      <td>0</td>\n",
       "      <td>0</td>\n",
       "      <td>0</td>\n",
       "      <td>1</td>\n",
       "      <td>0</td>\n",
       "      <td>1</td>\n",
       "    </tr>\n",
       "    <tr>\n",
       "      <th>3</th>\n",
       "      <td>53</td>\n",
       "      <td>7</td>\n",
       "      <td>40</td>\n",
       "      <td>1</td>\n",
       "      <td>0</td>\n",
       "      <td>0</td>\n",
       "      <td>1</td>\n",
       "      <td>0</td>\n",
       "      <td>0</td>\n",
       "      <td>0</td>\n",
       "      <td>1</td>\n",
       "      <td>0</td>\n",
       "      <td>0</td>\n",
       "      <td>0</td>\n",
       "      <td>1</td>\n",
       "    </tr>\n",
       "    <tr>\n",
       "      <th>4</th>\n",
       "      <td>28</td>\n",
       "      <td>13</td>\n",
       "      <td>40</td>\n",
       "      <td>1</td>\n",
       "      <td>0</td>\n",
       "      <td>0</td>\n",
       "      <td>1</td>\n",
       "      <td>0</td>\n",
       "      <td>0</td>\n",
       "      <td>0</td>\n",
       "      <td>1</td>\n",
       "      <td>0</td>\n",
       "      <td>0</td>\n",
       "      <td>1</td>\n",
       "      <td>0</td>\n",
       "    </tr>\n",
       "    <tr>\n",
       "      <th>...</th>\n",
       "      <td>...</td>\n",
       "      <td>...</td>\n",
       "      <td>...</td>\n",
       "      <td>...</td>\n",
       "      <td>...</td>\n",
       "      <td>...</td>\n",
       "      <td>...</td>\n",
       "      <td>...</td>\n",
       "      <td>...</td>\n",
       "      <td>...</td>\n",
       "      <td>...</td>\n",
       "      <td>...</td>\n",
       "      <td>...</td>\n",
       "      <td>...</td>\n",
       "      <td>...</td>\n",
       "    </tr>\n",
       "    <tr>\n",
       "      <th>9407</th>\n",
       "      <td>38</td>\n",
       "      <td>10</td>\n",
       "      <td>60</td>\n",
       "      <td>1</td>\n",
       "      <td>0</td>\n",
       "      <td>0</td>\n",
       "      <td>1</td>\n",
       "      <td>0</td>\n",
       "      <td>0</td>\n",
       "      <td>0</td>\n",
       "      <td>0</td>\n",
       "      <td>0</td>\n",
       "      <td>1</td>\n",
       "      <td>0</td>\n",
       "      <td>1</td>\n",
       "    </tr>\n",
       "    <tr>\n",
       "      <th>9408</th>\n",
       "      <td>25</td>\n",
       "      <td>9</td>\n",
       "      <td>8</td>\n",
       "      <td>1</td>\n",
       "      <td>0</td>\n",
       "      <td>0</td>\n",
       "      <td>0</td>\n",
       "      <td>1</td>\n",
       "      <td>0</td>\n",
       "      <td>0</td>\n",
       "      <td>0</td>\n",
       "      <td>0</td>\n",
       "      <td>1</td>\n",
       "      <td>1</td>\n",
       "      <td>0</td>\n",
       "    </tr>\n",
       "    <tr>\n",
       "      <th>9409</th>\n",
       "      <td>21</td>\n",
       "      <td>10</td>\n",
       "      <td>40</td>\n",
       "      <td>1</td>\n",
       "      <td>0</td>\n",
       "      <td>0</td>\n",
       "      <td>0</td>\n",
       "      <td>1</td>\n",
       "      <td>0</td>\n",
       "      <td>0</td>\n",
       "      <td>1</td>\n",
       "      <td>0</td>\n",
       "      <td>0</td>\n",
       "      <td>0</td>\n",
       "      <td>1</td>\n",
       "    </tr>\n",
       "    <tr>\n",
       "      <th>9410</th>\n",
       "      <td>38</td>\n",
       "      <td>2</td>\n",
       "      <td>53</td>\n",
       "      <td>1</td>\n",
       "      <td>0</td>\n",
       "      <td>0</td>\n",
       "      <td>1</td>\n",
       "      <td>0</td>\n",
       "      <td>0</td>\n",
       "      <td>0</td>\n",
       "      <td>0</td>\n",
       "      <td>0</td>\n",
       "      <td>1</td>\n",
       "      <td>0</td>\n",
       "      <td>1</td>\n",
       "    </tr>\n",
       "    <tr>\n",
       "      <th>9411</th>\n",
       "      <td>39</td>\n",
       "      <td>10</td>\n",
       "      <td>40</td>\n",
       "      <td>1</td>\n",
       "      <td>0</td>\n",
       "      <td>0</td>\n",
       "      <td>0</td>\n",
       "      <td>1</td>\n",
       "      <td>0</td>\n",
       "      <td>0</td>\n",
       "      <td>0</td>\n",
       "      <td>0</td>\n",
       "      <td>1</td>\n",
       "      <td>1</td>\n",
       "      <td>0</td>\n",
       "    </tr>\n",
       "  </tbody>\n",
       "</table>\n",
       "<p>9412 rows × 15 columns</p>\n",
       "</div>"
      ],
      "text/plain": [
       "      age  education  hours-per-week  workclass_Private  workclass_Public  \\\n",
       "0      39         13              40                  0                 1   \n",
       "1      50         13              13                  0                 0   \n",
       "2      38          9              40                  1                 0   \n",
       "3      53          7              40                  1                 0   \n",
       "4      28         13              40                  1                 0   \n",
       "...   ...        ...             ...                ...               ...   \n",
       "9407   38         10              60                  1                 0   \n",
       "9408   25          9               8                  1                 0   \n",
       "9409   21         10              40                  1                 0   \n",
       "9410   38          2              53                  1                 0   \n",
       "9411   39         10              40                  1                 0   \n",
       "\n",
       "      workclass_Self-emp  marital-status_Married  marital-status_Single  \\\n",
       "0                      0                       0                      1   \n",
       "1                      1                       1                      0   \n",
       "2                      0                       0                      1   \n",
       "3                      0                       1                      0   \n",
       "4                      0                       1                      0   \n",
       "...                  ...                     ...                    ...   \n",
       "9407                   0                       1                      0   \n",
       "9408                   0                       0                      1   \n",
       "9409                   0                       0                      1   \n",
       "9410                   0                       1                      0   \n",
       "9411                   0                       0                      1   \n",
       "\n",
       "      race_Amer-Indian  race_Asian  race_Black  race_Hispanic  race_White  \\\n",
       "0                    0           0           0              0           1   \n",
       "1                    0           0           0              0           1   \n",
       "2                    0           0           0              0           1   \n",
       "3                    0           0           1              0           0   \n",
       "4                    0           0           1              0           0   \n",
       "...                ...         ...         ...            ...         ...   \n",
       "9407                 0           0           0              0           1   \n",
       "9408                 0           0           0              0           1   \n",
       "9409                 0           0           1              0           0   \n",
       "9410                 0           0           0              0           1   \n",
       "9411                 0           0           0              0           1   \n",
       "\n",
       "      sex_Female  sex_Male  \n",
       "0              0         1  \n",
       "1              0         1  \n",
       "2              0         1  \n",
       "3              0         1  \n",
       "4              1         0  \n",
       "...          ...       ...  \n",
       "9407           0         1  \n",
       "9408           1         0  \n",
       "9409           0         1  \n",
       "9410           0         1  \n",
       "9411           1         0  \n",
       "\n",
       "[9412 rows x 15 columns]"
      ]
     },
     "execution_count": 152,
     "metadata": {},
     "output_type": "execute_result"
    }
   ],
   "source": [
    "adult_ssf1"
   ]
  },
  {
   "cell_type": "markdown",
   "id": "848cc352",
   "metadata": {},
   "source": [
    "#### Split the transformed data into training and test sets (using 80%-20% randomized split) using train_test_split function from the sklearn.model_selection module with random_state = 111"
   ]
  },
  {
   "cell_type": "code",
   "execution_count": 153,
   "id": "bdabbea1",
   "metadata": {},
   "outputs": [
    {
     "name": "stdout",
     "output_type": "stream",
     "text": [
      "(7529, 15)\n"
     ]
    }
   ],
   "source": [
    "adult_train, adult_test, adult_target_train, adult_target_test = train_test_split(adult_ssf1, adult_labels, test_size=0.2, random_state=111)\n",
    "print(adult_train.shape)"
   ]
  },
  {
   "cell_type": "code",
   "execution_count": 154,
   "id": "f6d4ed95",
   "metadata": {},
   "outputs": [
    {
     "name": "stdout",
     "output_type": "stream",
     "text": [
      "(1883, 15)\n"
     ]
    }
   ],
   "source": [
    "print(adult_test.shape)"
   ]
  },
  {
   "cell_type": "code",
   "execution_count": 155,
   "id": "4601e20a",
   "metadata": {},
   "outputs": [
    {
     "name": "stdout",
     "output_type": "stream",
     "text": [
      "(7529,)\n"
     ]
    }
   ],
   "source": [
    "print(adult_target_train.shape)"
   ]
  },
  {
   "cell_type": "code",
   "execution_count": 156,
   "id": "c2d5f872",
   "metadata": {},
   "outputs": [
    {
     "name": "stdout",
     "output_type": "stream",
     "text": [
      "(1883,)\n"
     ]
    }
   ],
   "source": [
    "print(adult_target_test.shape)"
   ]
  },
  {
   "cell_type": "markdown",
   "id": "0801e359",
   "metadata": {},
   "source": [
    "### Problem 2bi"
   ]
  },
  {
   "cell_type": "markdown",
   "id": "5dc2edb0",
   "metadata": {},
   "source": [
    "#### Using preprocessing module of scikit-learn package normalize the data so all attributes are on the same scale between 0 and 1. Train scaler on the training portion of data only and then use scaler to transform training and test partitions "
   ]
  },
  {
   "cell_type": "code",
   "execution_count": 157,
   "id": "b6c4ff26",
   "metadata": {},
   "outputs": [
    {
     "data": {
      "text/plain": [
       "MinMaxScaler()"
      ]
     },
     "execution_count": 157,
     "metadata": {},
     "output_type": "execute_result"
    }
   ],
   "source": [
    "min_max_scaler = preprocessing.MinMaxScaler()\n",
    "min_max_scaler.fit(adult_train)"
   ]
  },
  {
   "cell_type": "code",
   "execution_count": 158,
   "id": "c42a74c2",
   "metadata": {},
   "outputs": [
    {
     "data": {
      "text/html": [
       "<div>\n",
       "<style scoped>\n",
       "    .dataframe tbody tr th:only-of-type {\n",
       "        vertical-align: middle;\n",
       "    }\n",
       "\n",
       "    .dataframe tbody tr th {\n",
       "        vertical-align: top;\n",
       "    }\n",
       "\n",
       "    .dataframe thead th {\n",
       "        text-align: right;\n",
       "    }\n",
       "</style>\n",
       "<table border=\"1\" class=\"dataframe\">\n",
       "  <thead>\n",
       "    <tr style=\"text-align: right;\">\n",
       "      <th></th>\n",
       "      <th>age</th>\n",
       "      <th>education</th>\n",
       "      <th>hours-per-week</th>\n",
       "      <th>workclass_Private</th>\n",
       "      <th>workclass_Public</th>\n",
       "      <th>workclass_Self-emp</th>\n",
       "      <th>marital-status_Married</th>\n",
       "      <th>marital-status_Single</th>\n",
       "      <th>race_Amer-Indian</th>\n",
       "      <th>race_Asian</th>\n",
       "      <th>race_Black</th>\n",
       "      <th>race_Hispanic</th>\n",
       "      <th>race_White</th>\n",
       "      <th>sex_Female</th>\n",
       "      <th>sex_Male</th>\n",
       "    </tr>\n",
       "  </thead>\n",
       "  <tbody>\n",
       "    <tr>\n",
       "      <th>8487</th>\n",
       "      <td>0.18</td>\n",
       "      <td>0.60</td>\n",
       "      <td>0.40</td>\n",
       "      <td>1.0</td>\n",
       "      <td>0.0</td>\n",
       "      <td>0.0</td>\n",
       "      <td>1.0</td>\n",
       "      <td>0.0</td>\n",
       "      <td>0.0</td>\n",
       "      <td>0.0</td>\n",
       "      <td>0.0</td>\n",
       "      <td>0.0</td>\n",
       "      <td>1.0</td>\n",
       "      <td>0.0</td>\n",
       "      <td>1.0</td>\n",
       "    </tr>\n",
       "    <tr>\n",
       "      <th>2218</th>\n",
       "      <td>0.27</td>\n",
       "      <td>0.27</td>\n",
       "      <td>0.50</td>\n",
       "      <td>1.0</td>\n",
       "      <td>0.0</td>\n",
       "      <td>0.0</td>\n",
       "      <td>1.0</td>\n",
       "      <td>0.0</td>\n",
       "      <td>0.0</td>\n",
       "      <td>0.0</td>\n",
       "      <td>0.0</td>\n",
       "      <td>0.0</td>\n",
       "      <td>1.0</td>\n",
       "      <td>0.0</td>\n",
       "      <td>1.0</td>\n",
       "    </tr>\n",
       "    <tr>\n",
       "      <th>7839</th>\n",
       "      <td>0.40</td>\n",
       "      <td>0.53</td>\n",
       "      <td>0.40</td>\n",
       "      <td>1.0</td>\n",
       "      <td>0.0</td>\n",
       "      <td>0.0</td>\n",
       "      <td>1.0</td>\n",
       "      <td>0.0</td>\n",
       "      <td>0.0</td>\n",
       "      <td>0.0</td>\n",
       "      <td>0.0</td>\n",
       "      <td>0.0</td>\n",
       "      <td>1.0</td>\n",
       "      <td>1.0</td>\n",
       "      <td>0.0</td>\n",
       "    </tr>\n",
       "    <tr>\n",
       "      <th>1914</th>\n",
       "      <td>0.08</td>\n",
       "      <td>0.80</td>\n",
       "      <td>0.40</td>\n",
       "      <td>1.0</td>\n",
       "      <td>0.0</td>\n",
       "      <td>0.0</td>\n",
       "      <td>0.0</td>\n",
       "      <td>1.0</td>\n",
       "      <td>0.0</td>\n",
       "      <td>0.0</td>\n",
       "      <td>0.0</td>\n",
       "      <td>0.0</td>\n",
       "      <td>1.0</td>\n",
       "      <td>0.0</td>\n",
       "      <td>1.0</td>\n",
       "    </tr>\n",
       "    <tr>\n",
       "      <th>7147</th>\n",
       "      <td>0.60</td>\n",
       "      <td>0.53</td>\n",
       "      <td>0.55</td>\n",
       "      <td>0.0</td>\n",
       "      <td>0.0</td>\n",
       "      <td>1.0</td>\n",
       "      <td>0.0</td>\n",
       "      <td>1.0</td>\n",
       "      <td>0.0</td>\n",
       "      <td>0.0</td>\n",
       "      <td>0.0</td>\n",
       "      <td>0.0</td>\n",
       "      <td>1.0</td>\n",
       "      <td>0.0</td>\n",
       "      <td>1.0</td>\n",
       "    </tr>\n",
       "  </tbody>\n",
       "</table>\n",
       "</div>"
      ],
      "text/plain": [
       "       age  education  hours-per-week  workclass_Private  workclass_Public  \\\n",
       "8487  0.18       0.60            0.40                1.0               0.0   \n",
       "2218  0.27       0.27            0.50                1.0               0.0   \n",
       "7839  0.40       0.53            0.40                1.0               0.0   \n",
       "1914  0.08       0.80            0.40                1.0               0.0   \n",
       "7147  0.60       0.53            0.55                0.0               0.0   \n",
       "\n",
       "      workclass_Self-emp  marital-status_Married  marital-status_Single  \\\n",
       "8487                 0.0                     1.0                    0.0   \n",
       "2218                 0.0                     1.0                    0.0   \n",
       "7839                 0.0                     1.0                    0.0   \n",
       "1914                 0.0                     0.0                    1.0   \n",
       "7147                 1.0                     0.0                    1.0   \n",
       "\n",
       "      race_Amer-Indian  race_Asian  race_Black  race_Hispanic  race_White  \\\n",
       "8487               0.0         0.0         0.0            0.0         1.0   \n",
       "2218               0.0         0.0         0.0            0.0         1.0   \n",
       "7839               0.0         0.0         0.0            0.0         1.0   \n",
       "1914               0.0         0.0         0.0            0.0         1.0   \n",
       "7147               0.0         0.0         0.0            0.0         1.0   \n",
       "\n",
       "      sex_Female  sex_Male  \n",
       "8487         0.0       1.0  \n",
       "2218         0.0       1.0  \n",
       "7839         1.0       0.0  \n",
       "1914         0.0       1.0  \n",
       "7147         0.0       1.0  "
      ]
     },
     "execution_count": 158,
     "metadata": {},
     "output_type": "execute_result"
    }
   ],
   "source": [
    "adult_train_norm = min_max_scaler.fit_transform(adult_train)\n",
    "adult_train_norm= pd.DataFrame(adult_train_norm, columns=adult_train.columns, index=adult_train.index)\n",
    "adult_train_norm.head()"
   ]
  },
  {
   "cell_type": "code",
   "execution_count": 159,
   "id": "06257530",
   "metadata": {},
   "outputs": [
    {
     "data": {
      "text/html": [
       "<div>\n",
       "<style scoped>\n",
       "    .dataframe tbody tr th:only-of-type {\n",
       "        vertical-align: middle;\n",
       "    }\n",
       "\n",
       "    .dataframe tbody tr th {\n",
       "        vertical-align: top;\n",
       "    }\n",
       "\n",
       "    .dataframe thead th {\n",
       "        text-align: right;\n",
       "    }\n",
       "</style>\n",
       "<table border=\"1\" class=\"dataframe\">\n",
       "  <thead>\n",
       "    <tr style=\"text-align: right;\">\n",
       "      <th></th>\n",
       "      <th>age</th>\n",
       "      <th>education</th>\n",
       "      <th>hours-per-week</th>\n",
       "      <th>workclass_Private</th>\n",
       "      <th>workclass_Public</th>\n",
       "      <th>workclass_Self-emp</th>\n",
       "      <th>marital-status_Married</th>\n",
       "      <th>marital-status_Single</th>\n",
       "      <th>race_Amer-Indian</th>\n",
       "      <th>race_Asian</th>\n",
       "      <th>race_Black</th>\n",
       "      <th>race_Hispanic</th>\n",
       "      <th>race_White</th>\n",
       "      <th>sex_Female</th>\n",
       "      <th>sex_Male</th>\n",
       "    </tr>\n",
       "  </thead>\n",
       "  <tbody>\n",
       "    <tr>\n",
       "      <th>1699</th>\n",
       "      <td>0.07</td>\n",
       "      <td>0.40</td>\n",
       "      <td>0.34</td>\n",
       "      <td>1.0</td>\n",
       "      <td>0.0</td>\n",
       "      <td>0.0</td>\n",
       "      <td>1.0</td>\n",
       "      <td>0.0</td>\n",
       "      <td>0.0</td>\n",
       "      <td>0.0</td>\n",
       "      <td>1.0</td>\n",
       "      <td>0.0</td>\n",
       "      <td>0.0</td>\n",
       "      <td>1.0</td>\n",
       "      <td>0.0</td>\n",
       "    </tr>\n",
       "    <tr>\n",
       "      <th>542</th>\n",
       "      <td>0.12</td>\n",
       "      <td>0.60</td>\n",
       "      <td>0.44</td>\n",
       "      <td>0.0</td>\n",
       "      <td>0.0</td>\n",
       "      <td>1.0</td>\n",
       "      <td>1.0</td>\n",
       "      <td>0.0</td>\n",
       "      <td>0.0</td>\n",
       "      <td>0.0</td>\n",
       "      <td>0.0</td>\n",
       "      <td>0.0</td>\n",
       "      <td>1.0</td>\n",
       "      <td>0.0</td>\n",
       "      <td>1.0</td>\n",
       "    </tr>\n",
       "    <tr>\n",
       "      <th>2985</th>\n",
       "      <td>0.58</td>\n",
       "      <td>0.53</td>\n",
       "      <td>0.39</td>\n",
       "      <td>1.0</td>\n",
       "      <td>0.0</td>\n",
       "      <td>0.0</td>\n",
       "      <td>0.0</td>\n",
       "      <td>1.0</td>\n",
       "      <td>0.0</td>\n",
       "      <td>0.0</td>\n",
       "      <td>1.0</td>\n",
       "      <td>0.0</td>\n",
       "      <td>0.0</td>\n",
       "      <td>1.0</td>\n",
       "      <td>0.0</td>\n",
       "    </tr>\n",
       "    <tr>\n",
       "      <th>699</th>\n",
       "      <td>0.21</td>\n",
       "      <td>0.60</td>\n",
       "      <td>0.39</td>\n",
       "      <td>1.0</td>\n",
       "      <td>0.0</td>\n",
       "      <td>0.0</td>\n",
       "      <td>0.0</td>\n",
       "      <td>1.0</td>\n",
       "      <td>0.0</td>\n",
       "      <td>0.0</td>\n",
       "      <td>1.0</td>\n",
       "      <td>0.0</td>\n",
       "      <td>0.0</td>\n",
       "      <td>1.0</td>\n",
       "      <td>0.0</td>\n",
       "    </tr>\n",
       "    <tr>\n",
       "      <th>1090</th>\n",
       "      <td>0.29</td>\n",
       "      <td>0.80</td>\n",
       "      <td>0.60</td>\n",
       "      <td>1.0</td>\n",
       "      <td>0.0</td>\n",
       "      <td>0.0</td>\n",
       "      <td>1.0</td>\n",
       "      <td>0.0</td>\n",
       "      <td>0.0</td>\n",
       "      <td>0.0</td>\n",
       "      <td>0.0</td>\n",
       "      <td>0.0</td>\n",
       "      <td>1.0</td>\n",
       "      <td>0.0</td>\n",
       "      <td>1.0</td>\n",
       "    </tr>\n",
       "  </tbody>\n",
       "</table>\n",
       "</div>"
      ],
      "text/plain": [
       "       age  education  hours-per-week  workclass_Private  workclass_Public  \\\n",
       "1699  0.07       0.40            0.34                1.0               0.0   \n",
       "542   0.12       0.60            0.44                0.0               0.0   \n",
       "2985  0.58       0.53            0.39                1.0               0.0   \n",
       "699   0.21       0.60            0.39                1.0               0.0   \n",
       "1090  0.29       0.80            0.60                1.0               0.0   \n",
       "\n",
       "      workclass_Self-emp  marital-status_Married  marital-status_Single  \\\n",
       "1699                 0.0                     1.0                    0.0   \n",
       "542                  1.0                     1.0                    0.0   \n",
       "2985                 0.0                     0.0                    1.0   \n",
       "699                  0.0                     0.0                    1.0   \n",
       "1090                 0.0                     1.0                    0.0   \n",
       "\n",
       "      race_Amer-Indian  race_Asian  race_Black  race_Hispanic  race_White  \\\n",
       "1699               0.0         0.0         1.0            0.0         0.0   \n",
       "542                0.0         0.0         0.0            0.0         1.0   \n",
       "2985               0.0         0.0         1.0            0.0         0.0   \n",
       "699                0.0         0.0         1.0            0.0         0.0   \n",
       "1090               0.0         0.0         0.0            0.0         1.0   \n",
       "\n",
       "      sex_Female  sex_Male  \n",
       "1699         1.0       0.0  \n",
       "542          0.0       1.0  \n",
       "2985         1.0       0.0  \n",
       "699          1.0       0.0  \n",
       "1090         0.0       1.0  "
      ]
     },
     "execution_count": 159,
     "metadata": {},
     "output_type": "execute_result"
    }
   ],
   "source": [
    "adult_test_norm = min_max_scaler.fit_transform(adult_test)\n",
    "adult_test_norm = pd.DataFrame(adult_test_norm, columns=adult_test.columns, index=adult_test.index)\n",
    "adult_test_norm.head()"
   ]
  },
  {
   "cell_type": "markdown",
   "id": "02678c70",
   "metadata": {},
   "source": [
    "#### Run KNN classifier using K = 10"
   ]
  },
  {
   "cell_type": "code",
   "execution_count": 160,
   "id": "c54ad8fa",
   "metadata": {},
   "outputs": [
    {
     "data": {
      "text/plain": [
       "KNeighborsClassifier(n_neighbors=10, weights='distance')"
      ]
     },
     "execution_count": 160,
     "metadata": {},
     "output_type": "execute_result"
    }
   ],
   "source": [
    "n_neighbors = 10\n",
    "knnclf = neighbors.KNeighborsClassifier(n_neighbors, weights='distance')\n",
    "knnclf.fit(adult_train_norm,adult_target_train)"
   ]
  },
  {
   "cell_type": "code",
   "execution_count": 161,
   "id": "ba6100cf",
   "metadata": {},
   "outputs": [
    {
     "name": "stdout",
     "output_type": "stream",
     "text": [
      "              precision    recall  f1-score   support\n",
      "\n",
      "       <=50K       0.85      0.88      0.86      1417\n",
      "        >50K       0.59      0.52      0.55       466\n",
      "\n",
      "    accuracy                           0.79      1883\n",
      "   macro avg       0.72      0.70      0.71      1883\n",
      "weighted avg       0.78      0.79      0.79      1883\n",
      "\n"
     ]
    }
   ],
   "source": [
    "knnpreds_test = knnclf.predict(adult_test_norm)\n",
    "print(classification_report(adult_target_test, knnpreds_test))"
   ]
  },
  {
   "cell_type": "markdown",
   "id": "0388d2fc",
   "metadata": {},
   "source": [
    "#### Confusion Matrix"
   ]
  },
  {
   "cell_type": "code",
   "execution_count": 162,
   "id": "cdf74c80",
   "metadata": {},
   "outputs": [
    {
     "name": "stdout",
     "output_type": "stream",
     "text": [
      "[[1248  169]\n",
      " [ 224  242]]\n"
     ]
    }
   ],
   "source": [
    "knncm = confusion_matrix(adult_target_test, knnpreds_test)\n",
    "print(knncm)"
   ]
  },
  {
   "cell_type": "code",
   "execution_count": 163,
   "id": "592de2c2",
   "metadata": {},
   "outputs": [
    {
     "data": {
      "image/png": "[encoded data removed]",
      "text/plain": [
       "<Figure size 288x288 with 2 Axes>"
      ]
     },
     "metadata": {
      "needs_background": "light"
     },
     "output_type": "display_data"
    }
   ],
   "source": [
    "plt.matshow(knncm)\n",
    "plt.title('KNN Confusion matrix')\n",
    "plt.colorbar()\n",
    "plt.ylabel('Actual')\n",
    "plt.xlabel('Predicted')\n",
    "plt.show()"
   ]
  },
  {
   "cell_type": "markdown",
   "id": "e71a282e",
   "metadata": {},
   "source": [
    "#### Model Accuracy for Test"
   ]
  },
  {
   "cell_type": "code",
   "execution_count": 164,
   "id": "60f17147",
   "metadata": {},
   "outputs": [
    {
     "name": "stdout",
     "output_type": "stream",
     "text": [
      "0.7912904938927243\n"
     ]
    }
   ],
   "source": [
    "print(knnclf.score(adult_test_norm, adult_target_test))"
   ]
  },
  {
   "cell_type": "markdown",
   "id": "3879db7e",
   "metadata": {},
   "source": [
    "#### Model Accuracy for Train"
   ]
  },
  {
   "cell_type": "code",
   "execution_count": 165,
   "id": "d9c70f9c",
   "metadata": {},
   "outputs": [
    {
     "name": "stdout",
     "output_type": "stream",
     "text": [
      "0.9432859609509895\n"
     ]
    }
   ],
   "source": [
    "print(knnclf.score(adult_train_norm, adult_target_train))"
   ]
  },
  {
   "cell_type": "markdown",
   "id": "172af520",
   "metadata": {},
   "source": [
    "### Problem 2bii"
   ]
  },
  {
   "cell_type": "markdown",
   "id": "8a259957",
   "metadata": {},
   "source": [
    "#### Different values of K (5 to 100) with distance weight"
   ]
  },
  {
   "cell_type": "code",
   "execution_count": 166,
   "id": "3c7ec9c6",
   "metadata": {},
   "outputs": [
    {
     "name": "stdout",
     "output_type": "stream",
     "text": [
      "[0.7732342007434945, 0.7912904938927243, 0.7928836962294211, 0.7939458311205523, 0.7960701009028146, 0.8035050451407328, 0.8040361125862985, 0.804567180031864, 0.8050982474774296, 0.8050982474774296, 0.804567180031864, 0.8056293149229952, 0.804567180031864, 0.8050982474774296, 0.8050982474774296, 0.8050982474774296, 0.8050982474774296, 0.8077535847052576, 0.8082846521508231, 0.8082846521508231]\n"
     ]
    }
   ],
   "source": [
    "distance = []\n",
    "for K in range(5, 105, 5):\n",
    "    knnclfD = neighbors.KNeighborsClassifier(K, weights='distance')\n",
    "    knnclfD.fit(adult_train_norm,adult_target_train)\n",
    "    distance.append(knnclfD.score(adult_test_norm, adult_target_test))\n",
    "print(distance)"
   ]
  },
  {
   "cell_type": "markdown",
   "id": "00155c6a",
   "metadata": {},
   "source": [
    "#### Different values of K (5 to 100) with uniform weight"
   ]
  },
  {
   "cell_type": "code",
   "execution_count": 167,
   "id": "fc72e2ba",
   "metadata": {},
   "outputs": [
    {
     "name": "stdout",
     "output_type": "stream",
     "text": [
      "[0.7785448751991503, 0.7997875730217737, 0.8008497079129049, 0.8040361125862985, 0.8098778544875199, 0.8109399893786511, 0.8114710568242167, 0.807222517259692, 0.8109399893786511, 0.8098778544875199, 0.8120021242697822, 0.8056293149229952, 0.804567180031864, 0.8056293149229952, 0.8040361125862985, 0.8040361125862985, 0.8056293149229952, 0.8093467870419543, 0.8061603823685608, 0.8098778544875199]\n"
     ]
    }
   ],
   "source": [
    "uniform = []\n",
    "for K in range(5, 105, 5):\n",
    "    knnclfU = neighbors.KNeighborsClassifier(K, weights='uniform')\n",
    "    knnclfU.fit(adult_train_norm,adult_target_train)\n",
    "    uniform.append(knnclfU.score(adult_test_norm, adult_target_test))\n",
    "print(uniform)"
   ]
  },
  {
   "cell_type": "markdown",
   "id": "4d09dc05",
   "metadata": {},
   "source": [
    "#### Line Plot comparing distance to uniform weighting schemes across different values of K. "
   ]
  },
  {
   "cell_type": "code",
   "execution_count": 168,
   "id": "03e6103e",
   "metadata": {},
   "outputs": [
    {
     "data": {
      "image/png": "[encoded data removed]",
      "text/plain": [
       "<Figure size 720x360 with 1 Axes>"
      ]
     },
     "metadata": {
      "needs_background": "light"
     },
     "output_type": "display_data"
    }
   ],
   "source": [
    "Ks=list(range(5, 105, 5))\n",
    "plt.figure(figsize=(10,5))\n",
    "plt.plot(Ks, distance, 'r^--', label='distance')\n",
    "plt.plot(Ks, uniform, 'b.-', label='uniform')\n",
    "plt.xlabel('K')\n",
    "plt.ylabel('Accuracy')\n",
    "plt.title('Knn classifier Accuracy distance vs uniform weights')\n",
    "plt.grid(linestyle='--')\n",
    "plt.xticks(Ks)\n",
    "plt.legend(loc='center left', bbox_to_anchor=(1, 0.5))\n",
    "plt.show()"
   ]
  },
  {
   "cell_type": "markdown",
   "id": "37fff2eb",
   "metadata": {},
   "source": [
    "#### Plot indicated to use 55 and uniform weighting to generate for the best accuracy. Using this parameters to train new classifer"
   ]
  },
  {
   "cell_type": "code",
   "execution_count": 169,
   "id": "ea6aad04",
   "metadata": {},
   "outputs": [
    {
     "data": {
      "text/plain": [
       "KNeighborsClassifier(n_neighbors=55)"
      ]
     },
     "execution_count": 169,
     "metadata": {},
     "output_type": "execute_result"
    }
   ],
   "source": [
    "K = 55\n",
    "knnclfB = neighbors.KNeighborsClassifier(K, weights='uniform')\n",
    "knnclfB.fit(adult_train_norm,adult_target_train)"
   ]
  },
  {
   "cell_type": "markdown",
   "id": "9ca2af59",
   "metadata": {},
   "source": [
    "#### Model Accuracy for Train"
   ]
  },
  {
   "cell_type": "code",
   "execution_count": 170,
   "id": "90098490",
   "metadata": {},
   "outputs": [
    {
     "name": "stdout",
     "output_type": "stream",
     "text": [
      "0.8173728250763713\n"
     ]
    }
   ],
   "source": [
    "print(knnclfB.score(adult_train_norm, adult_target_train))"
   ]
  },
  {
   "cell_type": "markdown",
   "id": "793306cc",
   "metadata": {},
   "source": [
    "#### Model Accuracy for Test"
   ]
  },
  {
   "cell_type": "code",
   "execution_count": 171,
   "id": "24e67cfe",
   "metadata": {},
   "outputs": [
    {
     "name": "stdout",
     "output_type": "stream",
     "text": [
      "0.8120021242697822\n"
     ]
    }
   ],
   "source": [
    "print(knnclfB.score(adult_test_norm, adult_target_test))"
   ]
  },
  {
   "cell_type": "markdown",
   "id": "3725138a",
   "metadata": {},
   "source": [
    "### Problem 2biii"
   ]
  },
  {
   "cell_type": "markdown",
   "id": "ae2286b1",
   "metadata": {},
   "source": [
    "#### Uniform test accuracy was already computed across the K runs so reusing"
   ]
  },
  {
   "cell_type": "code",
   "execution_count": 172,
   "id": "eeb68779",
   "metadata": {},
   "outputs": [
    {
     "name": "stdout",
     "output_type": "stream",
     "text": [
      "[0.7785448751991503, 0.7997875730217737, 0.8008497079129049, 0.8040361125862985, 0.8098778544875199, 0.8109399893786511, 0.8114710568242167, 0.807222517259692, 0.8109399893786511, 0.8098778544875199, 0.8120021242697822, 0.8056293149229952, 0.804567180031864, 0.8056293149229952, 0.8040361125862985, 0.8040361125862985, 0.8056293149229952, 0.8093467870419543, 0.8061603823685608, 0.8098778544875199]\n"
     ]
    }
   ],
   "source": [
    "uniformTest = uniform\n",
    "print(uniformTest)"
   ]
  },
  {
   "cell_type": "markdown",
   "id": "34df35ce",
   "metadata": {},
   "source": [
    "#### Producing list of uniform target accruacy across K runs to leverage in plot"
   ]
  },
  {
   "cell_type": "code",
   "execution_count": 173,
   "id": "5803af17",
   "metadata": {},
   "outputs": [
    {
     "name": "stdout",
     "output_type": "stream",
     "text": [
      "[0.8537654402975162, 0.8426085801567273, 0.8370301500863329, 0.8315845397795192, 0.8254748306548014, 0.8237481737282507, 0.8248107318368973, 0.8221543365652809, 0.8177712843671139, 0.8196307610572453, 0.8173728250763713, 0.8189666622393412, 0.8165759064948864, 0.819099482002922, 0.8201620401115686, 0.8194979412936645, 0.8187010227121796, 0.8187010227121796, 0.8189666622393412, 0.8177712843671139]\n"
     ]
    }
   ],
   "source": [
    "uniformTrain = []\n",
    "for K in range(5, 105, 5):\n",
    "    knnclfUT = neighbors.KNeighborsClassifier(K, weights='uniform')\n",
    "    knnclfUT.fit(adult_train_norm,adult_target_train)\n",
    "    uniformTrain.append(knnclfUT.score(adult_train_norm, adult_target_train))\n",
    "print(uniformTrain)"
   ]
  },
  {
   "cell_type": "markdown",
   "id": "407daf50",
   "metadata": {},
   "source": [
    "#### Using uniform weights and differeing values of  K to create a line chart for test and training accuracy across multiple K runs.\n",
    "#### I can see that overfitting is taking place when the value of K is very low (<25) because the Test and Training Data accuracy points are far off. However, as K increases (>25) I can see overfitting is no longer an issue as the Test and Training Data accuracy points come much closer together. "
   ]
  },
  {
   "cell_type": "code",
   "execution_count": 174,
   "id": "5f631b37",
   "metadata": {},
   "outputs": [
    {
     "data": {
      "image/png": "[encoded data removed]",
      "text/plain": [
       "<Figure size 720x360 with 1 Axes>"
      ]
     },
     "metadata": {
      "needs_background": "light"
     },
     "output_type": "display_data"
    }
   ],
   "source": [
    "Ks=list(range(5, 105, 5))\n",
    "plt.figure(figsize=(10,5))\n",
    "plt.plot(Ks, uniformTest, 'r^--', label='Test Data')\n",
    "plt.plot(Ks, uniformTrain, 'b.-', label='Train Data')\n",
    "plt.xlabel('K')\n",
    "plt.ylabel('Accuracy')\n",
    "plt.title('Knn classifier Accuracy Train vs Test Data')\n",
    "plt.grid(linestyle='--')\n",
    "plt.xticks(Ks)\n",
    "plt.legend(loc='center left', bbox_to_anchor=(1, 0.5))\n",
    "plt.show()"
   ]
  },
  {
   "cell_type": "markdown",
   "id": "95c30f8e",
   "metadata": {},
   "source": [
    "### Problem 2c"
   ]
  },
  {
   "cell_type": "markdown",
   "id": "11d843f6",
   "metadata": {},
   "source": [
    "#### Using non-normalized training and test data, perform classification using scikit-learn's decision tree classifier with default parameters"
   ]
  },
  {
   "cell_type": "code",
   "execution_count": 175,
   "id": "5b7934f8",
   "metadata": {},
   "outputs": [],
   "source": [
    "treeclf = tree.DecisionTreeClassifier()\n",
    "treeclf = treeclf.fit(adult_train, adult_target_train)\n",
    "treepreds_test = treeclf.predict(adult_test)"
   ]
  },
  {
   "cell_type": "markdown",
   "id": "fc0bfa4e",
   "metadata": {},
   "source": [
    "#### Decision Tree Confusion Matrix "
   ]
  },
  {
   "cell_type": "code",
   "execution_count": 176,
   "id": "4b858526",
   "metadata": {},
   "outputs": [
    {
     "name": "stdout",
     "output_type": "stream",
     "text": [
      "[[1197  220]\n",
      " [ 257  209]]\n"
     ]
    }
   ],
   "source": [
    "treecm = confusion_matrix(adult_target_test, treepreds_test)\n",
    "print(treecm)"
   ]
  },
  {
   "cell_type": "markdown",
   "id": "08031698",
   "metadata": {},
   "source": [
    "#### Decision Tree Classification Report"
   ]
  },
  {
   "cell_type": "code",
   "execution_count": 177,
   "id": "95addc0a",
   "metadata": {},
   "outputs": [
    {
     "name": "stdout",
     "output_type": "stream",
     "text": [
      "              precision    recall  f1-score   support\n",
      "\n",
      "       <=50K       0.82      0.84      0.83      1417\n",
      "        >50K       0.49      0.45      0.47       466\n",
      "\n",
      "    accuracy                           0.75      1883\n",
      "   macro avg       0.66      0.65      0.65      1883\n",
      "weighted avg       0.74      0.75      0.74      1883\n",
      "\n"
     ]
    }
   ],
   "source": [
    "print(classification_report(adult_target_test, treepreds_test))"
   ]
  },
  {
   "cell_type": "markdown",
   "id": "f6265786",
   "metadata": {},
   "source": [
    "#### Average Accuracy Score Test Data"
   ]
  },
  {
   "cell_type": "code",
   "execution_count": 178,
   "id": "4493f0b5",
   "metadata": {},
   "outputs": [
    {
     "name": "stdout",
     "output_type": "stream",
     "text": [
      "0.7466808284652151\n"
     ]
    }
   ],
   "source": [
    "print(treeclf.score(adult_test, adult_target_test))"
   ]
  },
  {
   "cell_type": "markdown",
   "id": "ad4c3ecd",
   "metadata": {},
   "source": [
    "#### Average Accuracy Score Training Data"
   ]
  },
  {
   "cell_type": "code",
   "execution_count": 179,
   "id": "8c32fa1d",
   "metadata": {},
   "outputs": [
    {
     "name": "stdout",
     "output_type": "stream",
     "text": [
      "0.9432859609509895\n"
     ]
    }
   ],
   "source": [
    "print(treeclf.score(adult_train, adult_target_train))"
   ]
  },
  {
   "cell_type": "markdown",
   "id": "6bad1d54",
   "metadata": {},
   "source": [
    "#### The Training Score Accuracy is very high, but the Test Score Accuracy is much lower. This is suggesting that the model is overfitting. In terms of the the bias-variance trade-of, it's a high variance model that's overfitting the training data so the accuracy is worse on the new unseen test data as the model is not generalized enough to account for it. "
   ]
  },
  {
   "cell_type": "markdown",
   "id": "6a8d04e9",
   "metadata": {},
   "source": [
    "#### Decision Tree - Gini criterion, Min Sample Split = 10, Max Dept = 4 "
   ]
  },
  {
   "cell_type": "code",
   "execution_count": 180,
   "id": "5201e785",
   "metadata": {},
   "outputs": [],
   "source": [
    "treeclf2 = tree.DecisionTreeClassifier(criterion='gini', min_samples_split=10, max_depth=4)\n",
    "treeclf2 = treeclf2.fit(adult_train, adult_target_train)"
   ]
  },
  {
   "cell_type": "markdown",
   "id": "84e7bf76",
   "metadata": {},
   "source": [
    "#### Average Accuracy Score Test Data"
   ]
  },
  {
   "cell_type": "code",
   "execution_count": 181,
   "id": "36599abf",
   "metadata": {},
   "outputs": [
    {
     "name": "stdout",
     "output_type": "stream",
     "text": [
      "0.8130642591609134\n"
     ]
    }
   ],
   "source": [
    "print(treeclf2.score(adult_test, adult_target_test))"
   ]
  },
  {
   "cell_type": "markdown",
   "id": "0094f4d1",
   "metadata": {},
   "source": [
    "#### Average Accuracy Score Training Data Gini\n"
   ]
  },
  {
   "cell_type": "code",
   "execution_count": 182,
   "id": "63697d85",
   "metadata": {},
   "outputs": [
    {
     "name": "stdout",
     "output_type": "stream",
     "text": [
      "0.817638464603533\n"
     ]
    }
   ],
   "source": [
    "print(treeclf2.score(adult_train, adult_target_train))"
   ]
  },
  {
   "cell_type": "markdown",
   "id": "049faef6",
   "metadata": {},
   "source": [
    "#### Decision Tree Gini criterion visualization"
   ]
  },
  {
   "cell_type": "code",
   "execution_count": 183,
   "id": "c1e8a1cd",
   "metadata": {
    "scrolled": false
   },
   "outputs": [
    {
     "data": {
      "image/svg+xml": [
       "<svg xmlns=\"http://www.w3.org/2000/svg\" xmlns:xlink=\"http://www.w3.org/1999/xlink\" width=\"2186pt\" height=\"552pt\" viewBox=\"0.00 0.00 2186.00 552.00\">\n",
       "<g id=\"graph0\" class=\"graph\" transform=\"scale(1 1) rotate(0) translate(4 548)\">\n",
       "<title>Tree</title>\n",
       "<polygon fill=\"white\" stroke=\"none\" points=\"-4,4 -4,-548 2182,-548 2182,4 -4,4\"/>\n",
       "<!-- 0 -->\n",
       "<g id=\"node1\" class=\"node\"><title>0</title>\n",
       "<polygon fill=\"none\" stroke=\"black\" points=\"1205.5,-544 1013.5,-544 1013.5,-461 1205.5,-461 1205.5,-544\"/>\n",
       "<text text-anchor=\"middle\" x=\"1109.5\" y=\"-528.8\" font-family=\"Helvetica,sans-Serif\" font-size=\"14.00\">marital-status_Single &lt;= 0.5</text>\n",
       "<text text-anchor=\"middle\" x=\"1109.5\" y=\"-513.8\" font-family=\"Helvetica,sans-Serif\" font-size=\"14.00\">gini = 0.371</text>\n",
       "<text text-anchor=\"middle\" x=\"1109.5\" y=\"-498.8\" font-family=\"Helvetica,sans-Serif\" font-size=\"14.00\">samples = 7529</text>\n",
       "<text text-anchor=\"middle\" x=\"1109.5\" y=\"-483.8\" font-family=\"Helvetica,sans-Serif\" font-size=\"14.00\">value = [5676, 1853]</text>\n",
       "<text text-anchor=\"middle\" x=\"1109.5\" y=\"-468.8\" font-family=\"Helvetica,sans-Serif\" font-size=\"14.00\">class = No</text>\n",
       "</g>\n",
       "<!-- 1 -->\n",
       "<g id=\"node2\" class=\"node\"><title>1</title>\n",
       "<polygon fill=\"none\" stroke=\"black\" points=\"904.5,-425 758.5,-425 758.5,-342 904.5,-342 904.5,-425\"/>\n",
       "<text text-anchor=\"middle\" x=\"831.5\" y=\"-409.8\" font-family=\"Helvetica,sans-Serif\" font-size=\"14.00\">education &lt;= 11.5</text>\n",
       "<text text-anchor=\"middle\" x=\"831.5\" y=\"-394.8\" font-family=\"Helvetica,sans-Serif\" font-size=\"14.00\">gini = 0.489</text>\n",
       "<text text-anchor=\"middle\" x=\"831.5\" y=\"-379.8\" font-family=\"Helvetica,sans-Serif\" font-size=\"14.00\">samples = 3779</text>\n",
       "<text text-anchor=\"middle\" x=\"831.5\" y=\"-364.8\" font-family=\"Helvetica,sans-Serif\" font-size=\"14.00\">value = [2167, 1612]</text>\n",
       "<text text-anchor=\"middle\" x=\"831.5\" y=\"-349.8\" font-family=\"Helvetica,sans-Serif\" font-size=\"14.00\">class = No</text>\n",
       "</g>\n",
       "<!-- 0&#45;&gt;1 -->\n",
       "<g id=\"edge1\" class=\"edge\"><title>0-&gt;1</title>\n",
       "<path fill=\"none\" stroke=\"black\" d=\"M1013.44,-461.071C981.153,-447.483 945.439,-432.453 914.265,-419.333\"/>\n",
       "<polygon fill=\"black\" stroke=\"black\" points=\"915.32,-415.979 904.745,-415.326 912.604,-422.431 915.32,-415.979\"/>\n",
       "<text text-anchor=\"middle\" x=\"914.181\" y=\"-434.777\" font-family=\"Helvetica,sans-Serif\" font-size=\"14.00\">True</text>\n",
       "</g>\n",
       "<!-- 16 -->\n",
       "<g id=\"node17\" class=\"node\"><title>16</title>\n",
       "<polygon fill=\"none\" stroke=\"black\" points=\"1457.5,-425 1319.5,-425 1319.5,-342 1457.5,-342 1457.5,-425\"/>\n",
       "<text text-anchor=\"middle\" x=\"1388.5\" y=\"-409.8\" font-family=\"Helvetica,sans-Serif\" font-size=\"14.00\">education &lt;= 13.5</text>\n",
       "<text text-anchor=\"middle\" x=\"1388.5\" y=\"-394.8\" font-family=\"Helvetica,sans-Serif\" font-size=\"14.00\">gini = 0.12</text>\n",
       "<text text-anchor=\"middle\" x=\"1388.5\" y=\"-379.8\" font-family=\"Helvetica,sans-Serif\" font-size=\"14.00\">samples = 3750</text>\n",
       "<text text-anchor=\"middle\" x=\"1388.5\" y=\"-364.8\" font-family=\"Helvetica,sans-Serif\" font-size=\"14.00\">value = [3509, 241]</text>\n",
       "<text text-anchor=\"middle\" x=\"1388.5\" y=\"-349.8\" font-family=\"Helvetica,sans-Serif\" font-size=\"14.00\">class = No</text>\n",
       "</g>\n",
       "<!-- 0&#45;&gt;16 -->\n",
       "<g id=\"edge16\" class=\"edge\"><title>0-&gt;16</title>\n",
       "<path fill=\"none\" stroke=\"black\" d=\"M1205.52,-461.235C1239.52,-446.977 1277.35,-431.112 1309.75,-417.526\"/>\n",
       "<polygon fill=\"black\" stroke=\"black\" points=\"1311.3,-420.668 1319.17,-413.573 1308.6,-414.212 1311.3,-420.668\"/>\n",
       "<text text-anchor=\"middle\" x=\"1309.71\" y=\"-433.012\" font-family=\"Helvetica,sans-Serif\" font-size=\"14.00\">False</text>\n",
       "</g>\n",
       "<!-- 2 -->\n",
       "<g id=\"node3\" class=\"node\"><title>2</title>\n",
       "<polygon fill=\"none\" stroke=\"black\" points=\"471.5,-306 333.5,-306 333.5,-223 471.5,-223 471.5,-306\"/>\n",
       "<text text-anchor=\"middle\" x=\"402.5\" y=\"-290.8\" font-family=\"Helvetica,sans-Serif\" font-size=\"14.00\">education &lt;= 8.5</text>\n",
       "<text text-anchor=\"middle\" x=\"402.5\" y=\"-275.8\" font-family=\"Helvetica,sans-Serif\" font-size=\"14.00\">gini = 0.425</text>\n",
       "<text text-anchor=\"middle\" x=\"402.5\" y=\"-260.8\" font-family=\"Helvetica,sans-Serif\" font-size=\"14.00\">samples = 2558</text>\n",
       "<text text-anchor=\"middle\" x=\"402.5\" y=\"-245.8\" font-family=\"Helvetica,sans-Serif\" font-size=\"14.00\">value = [1774, 784]</text>\n",
       "<text text-anchor=\"middle\" x=\"402.5\" y=\"-230.8\" font-family=\"Helvetica,sans-Serif\" font-size=\"14.00\">class = No</text>\n",
       "</g>\n",
       "<!-- 1&#45;&gt;2 -->\n",
       "<g id=\"edge2\" class=\"edge\"><title>1-&gt;2</title>\n",
       "<path fill=\"none\" stroke=\"black\" d=\"M758.24,-362.52C681.244,-341.521 560.54,-308.602 481.465,-287.036\"/>\n",
       "<polygon fill=\"black\" stroke=\"black\" points=\"482.123,-283.588 471.554,-284.333 480.281,-290.341 482.123,-283.588\"/>\n",
       "</g>\n",
       "<!-- 9 -->\n",
       "<g id=\"node10\" class=\"node\"><title>9</title>\n",
       "<polygon fill=\"none\" stroke=\"black\" points=\"915,-306 748,-306 748,-223 915,-223 915,-306\"/>\n",
       "<text text-anchor=\"middle\" x=\"831.5\" y=\"-290.8\" font-family=\"Helvetica,sans-Serif\" font-size=\"14.00\">hours-per-week &lt;= 41.0</text>\n",
       "<text text-anchor=\"middle\" x=\"831.5\" y=\"-275.8\" font-family=\"Helvetica,sans-Serif\" font-size=\"14.00\">gini = 0.437</text>\n",
       "<text text-anchor=\"middle\" x=\"831.5\" y=\"-260.8\" font-family=\"Helvetica,sans-Serif\" font-size=\"14.00\">samples = 1221</text>\n",
       "<text text-anchor=\"middle\" x=\"831.5\" y=\"-245.8\" font-family=\"Helvetica,sans-Serif\" font-size=\"14.00\">value = [393, 828]</text>\n",
       "<text text-anchor=\"middle\" x=\"831.5\" y=\"-230.8\" font-family=\"Helvetica,sans-Serif\" font-size=\"14.00\">class = Yes</text>\n",
       "</g>\n",
       "<!-- 1&#45;&gt;9 -->\n",
       "<g id=\"edge9\" class=\"edge\"><title>1-&gt;9</title>\n",
       "<path fill=\"none\" stroke=\"black\" d=\"M831.5,-341.907C831.5,-333.649 831.5,-324.864 831.5,-316.302\"/>\n",
       "<polygon fill=\"black\" stroke=\"black\" points=\"835,-316.021 831.5,-306.021 828,-316.021 835,-316.021\"/>\n",
       "</g>\n",
       "<!-- 3 -->\n",
       "<g id=\"node4\" class=\"node\"><title>3</title>\n",
       "<polygon fill=\"none\" stroke=\"black\" points=\"245.5,-187 123.5,-187 123.5,-104 245.5,-104 245.5,-187\"/>\n",
       "<text text-anchor=\"middle\" x=\"184.5\" y=\"-171.8\" font-family=\"Helvetica,sans-Serif\" font-size=\"14.00\">age &lt;= 33.5</text>\n",
       "<text text-anchor=\"middle\" x=\"184.5\" y=\"-156.8\" font-family=\"Helvetica,sans-Serif\" font-size=\"14.00\">gini = 0.198</text>\n",
       "<text text-anchor=\"middle\" x=\"184.5\" y=\"-141.8\" font-family=\"Helvetica,sans-Serif\" font-size=\"14.00\">samples = 440</text>\n",
       "<text text-anchor=\"middle\" x=\"184.5\" y=\"-126.8\" font-family=\"Helvetica,sans-Serif\" font-size=\"14.00\">value = [391, 49]</text>\n",
       "<text text-anchor=\"middle\" x=\"184.5\" y=\"-111.8\" font-family=\"Helvetica,sans-Serif\" font-size=\"14.00\">class = No</text>\n",
       "</g>\n",
       "<!-- 2&#45;&gt;3 -->\n",
       "<g id=\"edge3\" class=\"edge\"><title>2-&gt;3</title>\n",
       "<path fill=\"none\" stroke=\"black\" d=\"M333.224,-226.32C308.24,-212.911 280.031,-197.771 254.948,-184.309\"/>\n",
       "<polygon fill=\"black\" stroke=\"black\" points=\"256.327,-181.077 245.86,-179.432 253.016,-187.245 256.327,-181.077\"/>\n",
       "</g>\n",
       "<!-- 6 -->\n",
       "<g id=\"node7\" class=\"node\"><title>6</title>\n",
       "<polygon fill=\"none\" stroke=\"black\" points=\"471.5,-187 333.5,-187 333.5,-104 471.5,-104 471.5,-187\"/>\n",
       "<text text-anchor=\"middle\" x=\"402.5\" y=\"-171.8\" font-family=\"Helvetica,sans-Serif\" font-size=\"14.00\">age &lt;= 31.5</text>\n",
       "<text text-anchor=\"middle\" x=\"402.5\" y=\"-156.8\" font-family=\"Helvetica,sans-Serif\" font-size=\"14.00\">gini = 0.453</text>\n",
       "<text text-anchor=\"middle\" x=\"402.5\" y=\"-141.8\" font-family=\"Helvetica,sans-Serif\" font-size=\"14.00\">samples = 2118</text>\n",
       "<text text-anchor=\"middle\" x=\"402.5\" y=\"-126.8\" font-family=\"Helvetica,sans-Serif\" font-size=\"14.00\">value = [1383, 735]</text>\n",
       "<text text-anchor=\"middle\" x=\"402.5\" y=\"-111.8\" font-family=\"Helvetica,sans-Serif\" font-size=\"14.00\">class = No</text>\n",
       "</g>\n",
       "<!-- 2&#45;&gt;6 -->\n",
       "<g id=\"edge6\" class=\"edge\"><title>2-&gt;6</title>\n",
       "<path fill=\"none\" stroke=\"black\" d=\"M402.5,-222.907C402.5,-214.649 402.5,-205.864 402.5,-197.302\"/>\n",
       "<polygon fill=\"black\" stroke=\"black\" points=\"406,-197.021 402.5,-187.021 399,-197.021 406,-197.021\"/>\n",
       "</g>\n",
       "<!-- 4 -->\n",
       "<g id=\"node5\" class=\"node\"><title>4</title>\n",
       "<polygon fill=\"none\" stroke=\"black\" points=\"105,-68 0,-68 0,-0 105,-0 105,-68\"/>\n",
       "<text text-anchor=\"middle\" x=\"52.5\" y=\"-52.8\" font-family=\"Helvetica,sans-Serif\" font-size=\"14.00\">gini = 0.041</text>\n",
       "<text text-anchor=\"middle\" x=\"52.5\" y=\"-37.8\" font-family=\"Helvetica,sans-Serif\" font-size=\"14.00\">samples = 96</text>\n",
       "<text text-anchor=\"middle\" x=\"52.5\" y=\"-22.8\" font-family=\"Helvetica,sans-Serif\" font-size=\"14.00\">value = [94, 2]</text>\n",
       "<text text-anchor=\"middle\" x=\"52.5\" y=\"-7.8\" font-family=\"Helvetica,sans-Serif\" font-size=\"14.00\">class = No</text>\n",
       "</g>\n",
       "<!-- 3&#45;&gt;4 -->\n",
       "<g id=\"edge4\" class=\"edge\"><title>3-&gt;4</title>\n",
       "<path fill=\"none\" stroke=\"black\" d=\"M135.348,-103.726C123.913,-94.2406 111.755,-84.1551 100.377,-74.7159\"/>\n",
       "<polygon fill=\"black\" stroke=\"black\" points=\"102.573,-71.9905 92.642,-68.2996 98.1039,-77.3781 102.573,-71.9905\"/>\n",
       "</g>\n",
       "<!-- 5 -->\n",
       "<g id=\"node6\" class=\"node\"><title>5</title>\n",
       "<polygon fill=\"none\" stroke=\"black\" points=\"245.5,-68 123.5,-68 123.5,-0 245.5,-0 245.5,-68\"/>\n",
       "<text text-anchor=\"middle\" x=\"184.5\" y=\"-52.8\" font-family=\"Helvetica,sans-Serif\" font-size=\"14.00\">gini = 0.236</text>\n",
       "<text text-anchor=\"middle\" x=\"184.5\" y=\"-37.8\" font-family=\"Helvetica,sans-Serif\" font-size=\"14.00\">samples = 344</text>\n",
       "<text text-anchor=\"middle\" x=\"184.5\" y=\"-22.8\" font-family=\"Helvetica,sans-Serif\" font-size=\"14.00\">value = [297, 47]</text>\n",
       "<text text-anchor=\"middle\" x=\"184.5\" y=\"-7.8\" font-family=\"Helvetica,sans-Serif\" font-size=\"14.00\">class = No</text>\n",
       "</g>\n",
       "<!-- 3&#45;&gt;5 -->\n",
       "<g id=\"edge5\" class=\"edge\"><title>3-&gt;5</title>\n",
       "<path fill=\"none\" stroke=\"black\" d=\"M184.5,-103.726C184.5,-95.5175 184.5,-86.8595 184.5,-78.56\"/>\n",
       "<polygon fill=\"black\" stroke=\"black\" points=\"188,-78.2996 184.5,-68.2996 181,-78.2996 188,-78.2996\"/>\n",
       "</g>\n",
       "<!-- 7 -->\n",
       "<g id=\"node8\" class=\"node\"><title>7</title>\n",
       "<polygon fill=\"none\" stroke=\"black\" points=\"385.5,-68 263.5,-68 263.5,-0 385.5,-0 385.5,-68\"/>\n",
       "<text text-anchor=\"middle\" x=\"324.5\" y=\"-52.8\" font-family=\"Helvetica,sans-Serif\" font-size=\"14.00\">gini = 0.291</text>\n",
       "<text text-anchor=\"middle\" x=\"324.5\" y=\"-37.8\" font-family=\"Helvetica,sans-Serif\" font-size=\"14.00\">samples = 401</text>\n",
       "<text text-anchor=\"middle\" x=\"324.5\" y=\"-22.8\" font-family=\"Helvetica,sans-Serif\" font-size=\"14.00\">value = [330, 71]</text>\n",
       "<text text-anchor=\"middle\" x=\"324.5\" y=\"-7.8\" font-family=\"Helvetica,sans-Serif\" font-size=\"14.00\">class = No</text>\n",
       "</g>\n",
       "<!-- 6&#45;&gt;7 -->\n",
       "<g id=\"edge7\" class=\"edge\"><title>6-&gt;7</title>\n",
       "<path fill=\"none\" stroke=\"black\" d=\"M373.456,-103.726C367.154,-94.879 360.48,-85.51 354.154,-76.6303\"/>\n",
       "<polygon fill=\"black\" stroke=\"black\" points=\"356.873,-74.4138 348.22,-68.2996 351.171,-78.4751 356.873,-74.4138\"/>\n",
       "</g>\n",
       "<!-- 8 -->\n",
       "<g id=\"node9\" class=\"node\"><title>8</title>\n",
       "<polygon fill=\"none\" stroke=\"black\" points=\"541.5,-68 403.5,-68 403.5,-0 541.5,-0 541.5,-68\"/>\n",
       "<text text-anchor=\"middle\" x=\"472.5\" y=\"-52.8\" font-family=\"Helvetica,sans-Serif\" font-size=\"14.00\">gini = 0.474</text>\n",
       "<text text-anchor=\"middle\" x=\"472.5\" y=\"-37.8\" font-family=\"Helvetica,sans-Serif\" font-size=\"14.00\">samples = 1717</text>\n",
       "<text text-anchor=\"middle\" x=\"472.5\" y=\"-22.8\" font-family=\"Helvetica,sans-Serif\" font-size=\"14.00\">value = [1053, 664]</text>\n",
       "<text text-anchor=\"middle\" x=\"472.5\" y=\"-7.8\" font-family=\"Helvetica,sans-Serif\" font-size=\"14.00\">class = No</text>\n",
       "</g>\n",
       "<!-- 6&#45;&gt;8 -->\n",
       "<g id=\"edge8\" class=\"edge\"><title>6-&gt;8</title>\n",
       "<path fill=\"none\" stroke=\"black\" d=\"M428.565,-103.726C434.163,-94.9703 440.087,-85.7032 445.711,-76.9051\"/>\n",
       "<polygon fill=\"black\" stroke=\"black\" points=\"448.775,-78.6103 451.213,-68.2996 442.877,-74.8399 448.775,-78.6103\"/>\n",
       "</g>\n",
       "<!-- 10 -->\n",
       "<g id=\"node11\" class=\"node\"><title>10</title>\n",
       "<polygon fill=\"none\" stroke=\"black\" points=\"821.5,-187 691.5,-187 691.5,-104 821.5,-104 821.5,-187\"/>\n",
       "<text text-anchor=\"middle\" x=\"756.5\" y=\"-171.8\" font-family=\"Helvetica,sans-Serif\" font-size=\"14.00\">age &lt;= 28.5</text>\n",
       "<text text-anchor=\"middle\" x=\"756.5\" y=\"-156.8\" font-family=\"Helvetica,sans-Serif\" font-size=\"14.00\">gini = 0.482</text>\n",
       "<text text-anchor=\"middle\" x=\"756.5\" y=\"-141.8\" font-family=\"Helvetica,sans-Serif\" font-size=\"14.00\">samples = 656</text>\n",
       "<text text-anchor=\"middle\" x=\"756.5\" y=\"-126.8\" font-family=\"Helvetica,sans-Serif\" font-size=\"14.00\">value = [265, 391]</text>\n",
       "<text text-anchor=\"middle\" x=\"756.5\" y=\"-111.8\" font-family=\"Helvetica,sans-Serif\" font-size=\"14.00\">class = Yes</text>\n",
       "</g>\n",
       "<!-- 9&#45;&gt;10 -->\n",
       "<g id=\"edge10\" class=\"edge\"><title>9-&gt;10</title>\n",
       "<path fill=\"none\" stroke=\"black\" d=\"M805.479,-222.907C799.836,-214.105 793.81,-204.703 787.982,-195.612\"/>\n",
       "<polygon fill=\"black\" stroke=\"black\" points=\"790.818,-193.551 782.475,-187.021 784.925,-197.328 790.818,-193.551\"/>\n",
       "</g>\n",
       "<!-- 13 -->\n",
       "<g id=\"node14\" class=\"node\"><title>13</title>\n",
       "<polygon fill=\"none\" stroke=\"black\" points=\"971,-187 840,-187 840,-104 971,-104 971,-187\"/>\n",
       "<text text-anchor=\"middle\" x=\"905.5\" y=\"-171.8\" font-family=\"Helvetica,sans-Serif\" font-size=\"14.00\">education &lt;= 14.5</text>\n",
       "<text text-anchor=\"middle\" x=\"905.5\" y=\"-156.8\" font-family=\"Helvetica,sans-Serif\" font-size=\"14.00\">gini = 0.35</text>\n",
       "<text text-anchor=\"middle\" x=\"905.5\" y=\"-141.8\" font-family=\"Helvetica,sans-Serif\" font-size=\"14.00\">samples = 565</text>\n",
       "<text text-anchor=\"middle\" x=\"905.5\" y=\"-126.8\" font-family=\"Helvetica,sans-Serif\" font-size=\"14.00\">value = [128, 437]</text>\n",
       "<text text-anchor=\"middle\" x=\"905.5\" y=\"-111.8\" font-family=\"Helvetica,sans-Serif\" font-size=\"14.00\">class = Yes</text>\n",
       "</g>\n",
       "<!-- 9&#45;&gt;13 -->\n",
       "<g id=\"edge13\" class=\"edge\"><title>9-&gt;13</title>\n",
       "<path fill=\"none\" stroke=\"black\" d=\"M857.174,-222.907C862.742,-214.105 868.688,-204.703 874.438,-195.612\"/>\n",
       "<polygon fill=\"black\" stroke=\"black\" points=\"877.484,-197.343 879.871,-187.021 871.568,-193.601 877.484,-197.343\"/>\n",
       "</g>\n",
       "<!-- 11 -->\n",
       "<g id=\"node12\" class=\"node\"><title>11</title>\n",
       "<polygon fill=\"none\" stroke=\"black\" points=\"673,-68 560,-68 560,-0 673,-0 673,-68\"/>\n",
       "<text text-anchor=\"middle\" x=\"616.5\" y=\"-52.8\" font-family=\"Helvetica,sans-Serif\" font-size=\"14.00\">gini = 0.395</text>\n",
       "<text text-anchor=\"middle\" x=\"616.5\" y=\"-37.8\" font-family=\"Helvetica,sans-Serif\" font-size=\"14.00\">samples = 48</text>\n",
       "<text text-anchor=\"middle\" x=\"616.5\" y=\"-22.8\" font-family=\"Helvetica,sans-Serif\" font-size=\"14.00\">value = [35, 13]</text>\n",
       "<text text-anchor=\"middle\" x=\"616.5\" y=\"-7.8\" font-family=\"Helvetica,sans-Serif\" font-size=\"14.00\">class = No</text>\n",
       "</g>\n",
       "<!-- 10&#45;&gt;11 -->\n",
       "<g id=\"edge11\" class=\"edge\"><title>10-&gt;11</title>\n",
       "<path fill=\"none\" stroke=\"black\" d=\"M704.369,-103.726C692.241,-94.2406 679.347,-84.1551 667.278,-74.7159\"/>\n",
       "<polygon fill=\"black\" stroke=\"black\" points=\"669.108,-71.7035 659.075,-68.2996 664.795,-77.2173 669.108,-71.7035\"/>\n",
       "</g>\n",
       "<!-- 12 -->\n",
       "<g id=\"node13\" class=\"node\"><title>12</title>\n",
       "<polygon fill=\"none\" stroke=\"black\" points=\"821.5,-68 691.5,-68 691.5,-0 821.5,-0 821.5,-68\"/>\n",
       "<text text-anchor=\"middle\" x=\"756.5\" y=\"-52.8\" font-family=\"Helvetica,sans-Serif\" font-size=\"14.00\">gini = 0.47</text>\n",
       "<text text-anchor=\"middle\" x=\"756.5\" y=\"-37.8\" font-family=\"Helvetica,sans-Serif\" font-size=\"14.00\">samples = 608</text>\n",
       "<text text-anchor=\"middle\" x=\"756.5\" y=\"-22.8\" font-family=\"Helvetica,sans-Serif\" font-size=\"14.00\">value = [230, 378]</text>\n",
       "<text text-anchor=\"middle\" x=\"756.5\" y=\"-7.8\" font-family=\"Helvetica,sans-Serif\" font-size=\"14.00\">class = Yes</text>\n",
       "</g>\n",
       "<!-- 10&#45;&gt;12 -->\n",
       "<g id=\"edge12\" class=\"edge\"><title>10-&gt;12</title>\n",
       "<path fill=\"none\" stroke=\"black\" d=\"M756.5,-103.726C756.5,-95.5175 756.5,-86.8595 756.5,-78.56\"/>\n",
       "<polygon fill=\"black\" stroke=\"black\" points=\"760,-78.2996 756.5,-68.2996 753,-78.2996 760,-78.2996\"/>\n",
       "</g>\n",
       "<!-- 14 -->\n",
       "<g id=\"node15\" class=\"node\"><title>14</title>\n",
       "<polygon fill=\"none\" stroke=\"black\" points=\"969.5,-68 839.5,-68 839.5,-0 969.5,-0 969.5,-68\"/>\n",
       "<text text-anchor=\"middle\" x=\"904.5\" y=\"-52.8\" font-family=\"Helvetica,sans-Serif\" font-size=\"14.00\">gini = 0.381</text>\n",
       "<text text-anchor=\"middle\" x=\"904.5\" y=\"-37.8\" font-family=\"Helvetica,sans-Serif\" font-size=\"14.00\">samples = 469</text>\n",
       "<text text-anchor=\"middle\" x=\"904.5\" y=\"-22.8\" font-family=\"Helvetica,sans-Serif\" font-size=\"14.00\">value = [120, 349]</text>\n",
       "<text text-anchor=\"middle\" x=\"904.5\" y=\"-7.8\" font-family=\"Helvetica,sans-Serif\" font-size=\"14.00\">class = Yes</text>\n",
       "</g>\n",
       "<!-- 13&#45;&gt;14 -->\n",
       "<g id=\"edge14\" class=\"edge\"><title>13-&gt;14</title>\n",
       "<path fill=\"none\" stroke=\"black\" d=\"M905.128,-103.726C905.053,-95.5175 904.974,-86.8595 904.898,-78.56\"/>\n",
       "<polygon fill=\"black\" stroke=\"black\" points=\"908.395,-78.2672 904.804,-68.2996 901.396,-78.3312 908.395,-78.2672\"/>\n",
       "</g>\n",
       "<!-- 15 -->\n",
       "<g id=\"node16\" class=\"node\"><title>15</title>\n",
       "<polygon fill=\"none\" stroke=\"black\" points=\"1093,-68 988,-68 988,-0 1093,-0 1093,-68\"/>\n",
       "<text text-anchor=\"middle\" x=\"1040.5\" y=\"-52.8\" font-family=\"Helvetica,sans-Serif\" font-size=\"14.00\">gini = 0.153</text>\n",
       "<text text-anchor=\"middle\" x=\"1040.5\" y=\"-37.8\" font-family=\"Helvetica,sans-Serif\" font-size=\"14.00\">samples = 96</text>\n",
       "<text text-anchor=\"middle\" x=\"1040.5\" y=\"-22.8\" font-family=\"Helvetica,sans-Serif\" font-size=\"14.00\">value = [8, 88]</text>\n",
       "<text text-anchor=\"middle\" x=\"1040.5\" y=\"-7.8\" font-family=\"Helvetica,sans-Serif\" font-size=\"14.00\">class = Yes</text>\n",
       "</g>\n",
       "<!-- 13&#45;&gt;15 -->\n",
       "<g id=\"edge15\" class=\"edge\"><title>13-&gt;15</title>\n",
       "<path fill=\"none\" stroke=\"black\" d=\"M955.769,-103.726C967.464,-94.2406 979.898,-84.1551 991.535,-74.7159\"/>\n",
       "<polygon fill=\"black\" stroke=\"black\" points=\"993.884,-77.3173 999.446,-68.2996 989.474,-71.8808 993.884,-77.3173\"/>\n",
       "</g>\n",
       "<!-- 17 -->\n",
       "<g id=\"node18\" class=\"node\"><title>17</title>\n",
       "<polygon fill=\"none\" stroke=\"black\" points=\"1457.5,-306 1319.5,-306 1319.5,-223 1457.5,-223 1457.5,-306\"/>\n",
       "<text text-anchor=\"middle\" x=\"1388.5\" y=\"-290.8\" font-family=\"Helvetica,sans-Serif\" font-size=\"14.00\">education &lt;= 12.5</text>\n",
       "<text text-anchor=\"middle\" x=\"1388.5\" y=\"-275.8\" font-family=\"Helvetica,sans-Serif\" font-size=\"14.00\">gini = 0.084</text>\n",
       "<text text-anchor=\"middle\" x=\"1388.5\" y=\"-260.8\" font-family=\"Helvetica,sans-Serif\" font-size=\"14.00\">samples = 3531</text>\n",
       "<text text-anchor=\"middle\" x=\"1388.5\" y=\"-245.8\" font-family=\"Helvetica,sans-Serif\" font-size=\"14.00\">value = [3376, 155]</text>\n",
       "<text text-anchor=\"middle\" x=\"1388.5\" y=\"-230.8\" font-family=\"Helvetica,sans-Serif\" font-size=\"14.00\">class = No</text>\n",
       "</g>\n",
       "<!-- 16&#45;&gt;17 -->\n",
       "<g id=\"edge17\" class=\"edge\"><title>16-&gt;17</title>\n",
       "<path fill=\"none\" stroke=\"black\" d=\"M1388.5,-341.907C1388.5,-333.649 1388.5,-324.864 1388.5,-316.302\"/>\n",
       "<polygon fill=\"black\" stroke=\"black\" points=\"1392,-316.021 1388.5,-306.021 1385,-316.021 1392,-316.021\"/>\n",
       "</g>\n",
       "<!-- 24 -->\n",
       "<g id=\"node25\" class=\"node\"><title>24</title>\n",
       "<polygon fill=\"none\" stroke=\"black\" points=\"1863,-306 1732,-306 1732,-223 1863,-223 1863,-306\"/>\n",
       "<text text-anchor=\"middle\" x=\"1797.5\" y=\"-290.8\" font-family=\"Helvetica,sans-Serif\" font-size=\"14.00\">education &lt;= 14.5</text>\n",
       "<text text-anchor=\"middle\" x=\"1797.5\" y=\"-275.8\" font-family=\"Helvetica,sans-Serif\" font-size=\"14.00\">gini = 0.477</text>\n",
       "<text text-anchor=\"middle\" x=\"1797.5\" y=\"-260.8\" font-family=\"Helvetica,sans-Serif\" font-size=\"14.00\">samples = 219</text>\n",
       "<text text-anchor=\"middle\" x=\"1797.5\" y=\"-245.8\" font-family=\"Helvetica,sans-Serif\" font-size=\"14.00\">value = [133, 86]</text>\n",
       "<text text-anchor=\"middle\" x=\"1797.5\" y=\"-230.8\" font-family=\"Helvetica,sans-Serif\" font-size=\"14.00\">class = No</text>\n",
       "</g>\n",
       "<!-- 16&#45;&gt;24 -->\n",
       "<g id=\"edge24\" class=\"edge\"><title>16-&gt;24</title>\n",
       "<path fill=\"none\" stroke=\"black\" d=\"M1457.88,-362.653C1531.17,-341.688 1646.36,-308.735 1721.91,-287.122\"/>\n",
       "<polygon fill=\"black\" stroke=\"black\" points=\"1723.19,-290.397 1731.84,-284.282 1721.27,-283.667 1723.19,-290.397\"/>\n",
       "</g>\n",
       "<!-- 18 -->\n",
       "<g id=\"node19\" class=\"node\"><title>18</title>\n",
       "<polygon fill=\"none\" stroke=\"black\" points=\"1381.5,-187 1251.5,-187 1251.5,-104 1381.5,-104 1381.5,-187\"/>\n",
       "<text text-anchor=\"middle\" x=\"1316.5\" y=\"-171.8\" font-family=\"Helvetica,sans-Serif\" font-size=\"14.00\">age &lt;= 31.5</text>\n",
       "<text text-anchor=\"middle\" x=\"1316.5\" y=\"-156.8\" font-family=\"Helvetica,sans-Serif\" font-size=\"14.00\">gini = 0.053</text>\n",
       "<text text-anchor=\"middle\" x=\"1316.5\" y=\"-141.8\" font-family=\"Helvetica,sans-Serif\" font-size=\"14.00\">samples = 2947</text>\n",
       "<text text-anchor=\"middle\" x=\"1316.5\" y=\"-126.8\" font-family=\"Helvetica,sans-Serif\" font-size=\"14.00\">value = [2867, 80]</text>\n",
       "<text text-anchor=\"middle\" x=\"1316.5\" y=\"-111.8\" font-family=\"Helvetica,sans-Serif\" font-size=\"14.00\">class = No</text>\n",
       "</g>\n",
       "<!-- 17&#45;&gt;18 -->\n",
       "<g id=\"edge18\" class=\"edge\"><title>17-&gt;18</title>\n",
       "<path fill=\"none\" stroke=\"black\" d=\"M1363.52,-222.907C1358.1,-214.105 1352.32,-204.703 1346.72,-195.612\"/>\n",
       "<polygon fill=\"black\" stroke=\"black\" points=\"1349.66,-193.703 1341.44,-187.021 1343.7,-197.372 1349.66,-193.703\"/>\n",
       "</g>\n",
       "<!-- 21 -->\n",
       "<g id=\"node22\" class=\"node\"><title>21</title>\n",
       "<polygon fill=\"none\" stroke=\"black\" points=\"1521.5,-187 1399.5,-187 1399.5,-104 1521.5,-104 1521.5,-187\"/>\n",
       "<text text-anchor=\"middle\" x=\"1460.5\" y=\"-171.8\" font-family=\"Helvetica,sans-Serif\" font-size=\"14.00\">age &lt;= 32.5</text>\n",
       "<text text-anchor=\"middle\" x=\"1460.5\" y=\"-156.8\" font-family=\"Helvetica,sans-Serif\" font-size=\"14.00\">gini = 0.224</text>\n",
       "<text text-anchor=\"middle\" x=\"1460.5\" y=\"-141.8\" font-family=\"Helvetica,sans-Serif\" font-size=\"14.00\">samples = 584</text>\n",
       "<text text-anchor=\"middle\" x=\"1460.5\" y=\"-126.8\" font-family=\"Helvetica,sans-Serif\" font-size=\"14.00\">value = [509, 75]</text>\n",
       "<text text-anchor=\"middle\" x=\"1460.5\" y=\"-111.8\" font-family=\"Helvetica,sans-Serif\" font-size=\"14.00\">class = No</text>\n",
       "</g>\n",
       "<!-- 17&#45;&gt;21 -->\n",
       "<g id=\"edge21\" class=\"edge\"><title>17-&gt;21</title>\n",
       "<path fill=\"none\" stroke=\"black\" d=\"M1413.48,-222.907C1418.9,-214.105 1424.68,-204.703 1430.28,-195.612\"/>\n",
       "<polygon fill=\"black\" stroke=\"black\" points=\"1433.3,-197.372 1435.56,-187.021 1427.34,-193.703 1433.3,-197.372\"/>\n",
       "</g>\n",
       "<!-- 19 -->\n",
       "<g id=\"node20\" class=\"node\"><title>19</title>\n",
       "<polygon fill=\"none\" stroke=\"black\" points=\"1233.5,-68 1111.5,-68 1111.5,-0 1233.5,-0 1233.5,-68\"/>\n",
       "<text text-anchor=\"middle\" x=\"1172.5\" y=\"-52.8\" font-family=\"Helvetica,sans-Serif\" font-size=\"14.00\">gini = 0.011</text>\n",
       "<text text-anchor=\"middle\" x=\"1172.5\" y=\"-37.8\" font-family=\"Helvetica,sans-Serif\" font-size=\"14.00\">samples = 1600</text>\n",
       "<text text-anchor=\"middle\" x=\"1172.5\" y=\"-22.8\" font-family=\"Helvetica,sans-Serif\" font-size=\"14.00\">value = [1591, 9]</text>\n",
       "<text text-anchor=\"middle\" x=\"1172.5\" y=\"-7.8\" font-family=\"Helvetica,sans-Serif\" font-size=\"14.00\">class = No</text>\n",
       "</g>\n",
       "<!-- 18&#45;&gt;19 -->\n",
       "<g id=\"edge19\" class=\"edge\"><title>18-&gt;19</title>\n",
       "<path fill=\"none\" stroke=\"black\" d=\"M1262.88,-103.726C1250.29,-94.1494 1236.89,-83.9611 1224.37,-74.4438\"/>\n",
       "<polygon fill=\"black\" stroke=\"black\" points=\"1226.37,-71.5666 1216.29,-68.2996 1222.13,-77.1386 1226.37,-71.5666\"/>\n",
       "</g>\n",
       "<!-- 20 -->\n",
       "<g id=\"node21\" class=\"node\"><title>20</title>\n",
       "<polygon fill=\"none\" stroke=\"black\" points=\"1381.5,-68 1251.5,-68 1251.5,-0 1381.5,-0 1381.5,-68\"/>\n",
       "<text text-anchor=\"middle\" x=\"1316.5\" y=\"-52.8\" font-family=\"Helvetica,sans-Serif\" font-size=\"14.00\">gini = 0.1</text>\n",
       "<text text-anchor=\"middle\" x=\"1316.5\" y=\"-37.8\" font-family=\"Helvetica,sans-Serif\" font-size=\"14.00\">samples = 1347</text>\n",
       "<text text-anchor=\"middle\" x=\"1316.5\" y=\"-22.8\" font-family=\"Helvetica,sans-Serif\" font-size=\"14.00\">value = [1276, 71]</text>\n",
       "<text text-anchor=\"middle\" x=\"1316.5\" y=\"-7.8\" font-family=\"Helvetica,sans-Serif\" font-size=\"14.00\">class = No</text>\n",
       "</g>\n",
       "<!-- 18&#45;&gt;20 -->\n",
       "<g id=\"edge20\" class=\"edge\"><title>18-&gt;20</title>\n",
       "<path fill=\"none\" stroke=\"black\" d=\"M1316.5,-103.726C1316.5,-95.5175 1316.5,-86.8595 1316.5,-78.56\"/>\n",
       "<polygon fill=\"black\" stroke=\"black\" points=\"1320,-78.2996 1316.5,-68.2996 1313,-78.2996 1320,-78.2996\"/>\n",
       "</g>\n",
       "<!-- 22 -->\n",
       "<g id=\"node23\" class=\"node\"><title>22</title>\n",
       "<polygon fill=\"none\" stroke=\"black\" points=\"1521.5,-68 1399.5,-68 1399.5,-0 1521.5,-0 1521.5,-68\"/>\n",
       "<text text-anchor=\"middle\" x=\"1460.5\" y=\"-52.8\" font-family=\"Helvetica,sans-Serif\" font-size=\"14.00\">gini = 0.08</text>\n",
       "<text text-anchor=\"middle\" x=\"1460.5\" y=\"-37.8\" font-family=\"Helvetica,sans-Serif\" font-size=\"14.00\">samples = 312</text>\n",
       "<text text-anchor=\"middle\" x=\"1460.5\" y=\"-22.8\" font-family=\"Helvetica,sans-Serif\" font-size=\"14.00\">value = [299, 13]</text>\n",
       "<text text-anchor=\"middle\" x=\"1460.5\" y=\"-7.8\" font-family=\"Helvetica,sans-Serif\" font-size=\"14.00\">class = No</text>\n",
       "</g>\n",
       "<!-- 21&#45;&gt;22 -->\n",
       "<g id=\"edge22\" class=\"edge\"><title>21-&gt;22</title>\n",
       "<path fill=\"none\" stroke=\"black\" d=\"M1460.5,-103.726C1460.5,-95.5175 1460.5,-86.8595 1460.5,-78.56\"/>\n",
       "<polygon fill=\"black\" stroke=\"black\" points=\"1464,-78.2996 1460.5,-68.2996 1457,-78.2996 1464,-78.2996\"/>\n",
       "</g>\n",
       "<!-- 23 -->\n",
       "<g id=\"node24\" class=\"node\"><title>23</title>\n",
       "<polygon fill=\"none\" stroke=\"black\" points=\"1661.5,-68 1539.5,-68 1539.5,-0 1661.5,-0 1661.5,-68\"/>\n",
       "<text text-anchor=\"middle\" x=\"1600.5\" y=\"-52.8\" font-family=\"Helvetica,sans-Serif\" font-size=\"14.00\">gini = 0.352</text>\n",
       "<text text-anchor=\"middle\" x=\"1600.5\" y=\"-37.8\" font-family=\"Helvetica,sans-Serif\" font-size=\"14.00\">samples = 272</text>\n",
       "<text text-anchor=\"middle\" x=\"1600.5\" y=\"-22.8\" font-family=\"Helvetica,sans-Serif\" font-size=\"14.00\">value = [210, 62]</text>\n",
       "<text text-anchor=\"middle\" x=\"1600.5\" y=\"-7.8\" font-family=\"Helvetica,sans-Serif\" font-size=\"14.00\">class = No</text>\n",
       "</g>\n",
       "<!-- 21&#45;&gt;23 -->\n",
       "<g id=\"edge23\" class=\"edge\"><title>21-&gt;23</title>\n",
       "<path fill=\"none\" stroke=\"black\" d=\"M1512.63,-103.726C1524.76,-94.2406 1537.65,-84.1551 1549.72,-74.7159\"/>\n",
       "<polygon fill=\"black\" stroke=\"black\" points=\"1552.2,-77.2173 1557.93,-68.2996 1547.89,-71.7035 1552.2,-77.2173\"/>\n",
       "</g>\n",
       "<!-- 25 -->\n",
       "<g id=\"node26\" class=\"node\"><title>25</title>\n",
       "<polygon fill=\"none\" stroke=\"black\" points=\"1858.5,-187 1736.5,-187 1736.5,-104 1858.5,-104 1858.5,-187\"/>\n",
       "<text text-anchor=\"middle\" x=\"1797.5\" y=\"-171.8\" font-family=\"Helvetica,sans-Serif\" font-size=\"14.00\">age &lt;= 45.5</text>\n",
       "<text text-anchor=\"middle\" x=\"1797.5\" y=\"-156.8\" font-family=\"Helvetica,sans-Serif\" font-size=\"14.00\">gini = 0.429</text>\n",
       "<text text-anchor=\"middle\" x=\"1797.5\" y=\"-141.8\" font-family=\"Helvetica,sans-Serif\" font-size=\"14.00\">samples = 154</text>\n",
       "<text text-anchor=\"middle\" x=\"1797.5\" y=\"-126.8\" font-family=\"Helvetica,sans-Serif\" font-size=\"14.00\">value = [106, 48]</text>\n",
       "<text text-anchor=\"middle\" x=\"1797.5\" y=\"-111.8\" font-family=\"Helvetica,sans-Serif\" font-size=\"14.00\">class = No</text>\n",
       "</g>\n",
       "<!-- 24&#45;&gt;25 -->\n",
       "<g id=\"edge25\" class=\"edge\"><title>24-&gt;25</title>\n",
       "<path fill=\"none\" stroke=\"black\" d=\"M1797.5,-222.907C1797.5,-214.649 1797.5,-205.864 1797.5,-197.302\"/>\n",
       "<polygon fill=\"black\" stroke=\"black\" points=\"1801,-197.021 1797.5,-187.021 1794,-197.021 1801,-197.021\"/>\n",
       "</g>\n",
       "<!-- 28 -->\n",
       "<g id=\"node29\" class=\"node\"><title>28</title>\n",
       "<polygon fill=\"none\" stroke=\"black\" points=\"2051,-187 1938,-187 1938,-104 2051,-104 2051,-187\"/>\n",
       "<text text-anchor=\"middle\" x=\"1994.5\" y=\"-171.8\" font-family=\"Helvetica,sans-Serif\" font-size=\"14.00\">age &lt;= 32.5</text>\n",
       "<text text-anchor=\"middle\" x=\"1994.5\" y=\"-156.8\" font-family=\"Helvetica,sans-Serif\" font-size=\"14.00\">gini = 0.486</text>\n",
       "<text text-anchor=\"middle\" x=\"1994.5\" y=\"-141.8\" font-family=\"Helvetica,sans-Serif\" font-size=\"14.00\">samples = 65</text>\n",
       "<text text-anchor=\"middle\" x=\"1994.5\" y=\"-126.8\" font-family=\"Helvetica,sans-Serif\" font-size=\"14.00\">value = [27, 38]</text>\n",
       "<text text-anchor=\"middle\" x=\"1994.5\" y=\"-111.8\" font-family=\"Helvetica,sans-Serif\" font-size=\"14.00\">class = Yes</text>\n",
       "</g>\n",
       "<!-- 24&#45;&gt;28 -->\n",
       "<g id=\"edge28\" class=\"edge\"><title>24-&gt;28</title>\n",
       "<path fill=\"none\" stroke=\"black\" d=\"M1863.1,-224.541C1884.35,-211.921 1907.9,-197.93 1929.14,-185.32\"/>\n",
       "<polygon fill=\"black\" stroke=\"black\" points=\"1930.96,-188.31 1937.77,-180.194 1927.38,-182.291 1930.96,-188.31\"/>\n",
       "</g>\n",
       "<!-- 26 -->\n",
       "<g id=\"node27\" class=\"node\"><title>26</title>\n",
       "<polygon fill=\"none\" stroke=\"black\" points=\"1793,-68 1680,-68 1680,-0 1793,-0 1793,-68\"/>\n",
       "<text text-anchor=\"middle\" x=\"1736.5\" y=\"-52.8\" font-family=\"Helvetica,sans-Serif\" font-size=\"14.00\">gini = 0.343</text>\n",
       "<text text-anchor=\"middle\" x=\"1736.5\" y=\"-37.8\" font-family=\"Helvetica,sans-Serif\" font-size=\"14.00\">samples = 100</text>\n",
       "<text text-anchor=\"middle\" x=\"1736.5\" y=\"-22.8\" font-family=\"Helvetica,sans-Serif\" font-size=\"14.00\">value = [78, 22]</text>\n",
       "<text text-anchor=\"middle\" x=\"1736.5\" y=\"-7.8\" font-family=\"Helvetica,sans-Serif\" font-size=\"14.00\">class = No</text>\n",
       "</g>\n",
       "<!-- 25&#45;&gt;26 -->\n",
       "<g id=\"edge26\" class=\"edge\"><title>25-&gt;26</title>\n",
       "<path fill=\"none\" stroke=\"black\" d=\"M1774.79,-103.726C1769.96,-95.0615 1764.85,-85.8962 1760,-77.1802\"/>\n",
       "<polygon fill=\"black\" stroke=\"black\" points=\"1762.97,-75.3322 1755.05,-68.2996 1756.86,-78.7389 1762.97,-75.3322\"/>\n",
       "</g>\n",
       "<!-- 27 -->\n",
       "<g id=\"node28\" class=\"node\"><title>27</title>\n",
       "<polygon fill=\"none\" stroke=\"black\" points=\"1924,-68 1811,-68 1811,-0 1924,-0 1924,-68\"/>\n",
       "<text text-anchor=\"middle\" x=\"1867.5\" y=\"-52.8\" font-family=\"Helvetica,sans-Serif\" font-size=\"14.00\">gini = 0.499</text>\n",
       "<text text-anchor=\"middle\" x=\"1867.5\" y=\"-37.8\" font-family=\"Helvetica,sans-Serif\" font-size=\"14.00\">samples = 54</text>\n",
       "<text text-anchor=\"middle\" x=\"1867.5\" y=\"-22.8\" font-family=\"Helvetica,sans-Serif\" font-size=\"14.00\">value = [28, 26]</text>\n",
       "<text text-anchor=\"middle\" x=\"1867.5\" y=\"-7.8\" font-family=\"Helvetica,sans-Serif\" font-size=\"14.00\">class = No</text>\n",
       "</g>\n",
       "<!-- 25&#45;&gt;27 -->\n",
       "<g id=\"edge27\" class=\"edge\"><title>25-&gt;27</title>\n",
       "<path fill=\"none\" stroke=\"black\" d=\"M1823.57,-103.726C1829.16,-94.9703 1835.09,-85.7032 1840.71,-76.9051\"/>\n",
       "<polygon fill=\"black\" stroke=\"black\" points=\"1843.78,-78.6103 1846.21,-68.2996 1837.88,-74.8399 1843.78,-78.6103\"/>\n",
       "</g>\n",
       "<!-- 29 -->\n",
       "<g id=\"node30\" class=\"node\"><title>29</title>\n",
       "<polygon fill=\"none\" stroke=\"black\" points=\"2047,-68 1942,-68 1942,-0 2047,-0 2047,-68\"/>\n",
       "<text text-anchor=\"middle\" x=\"1994.5\" y=\"-52.8\" font-family=\"Helvetica,sans-Serif\" font-size=\"14.00\">gini = 0.278</text>\n",
       "<text text-anchor=\"middle\" x=\"1994.5\" y=\"-37.8\" font-family=\"Helvetica,sans-Serif\" font-size=\"14.00\">samples = 18</text>\n",
       "<text text-anchor=\"middle\" x=\"1994.5\" y=\"-22.8\" font-family=\"Helvetica,sans-Serif\" font-size=\"14.00\">value = [15, 3]</text>\n",
       "<text text-anchor=\"middle\" x=\"1994.5\" y=\"-7.8\" font-family=\"Helvetica,sans-Serif\" font-size=\"14.00\">class = No</text>\n",
       "</g>\n",
       "<!-- 28&#45;&gt;29 -->\n",
       "<g id=\"edge29\" class=\"edge\"><title>28-&gt;29</title>\n",
       "<path fill=\"none\" stroke=\"black\" d=\"M1994.5,-103.726C1994.5,-95.5175 1994.5,-86.8595 1994.5,-78.56\"/>\n",
       "<polygon fill=\"black\" stroke=\"black\" points=\"1998,-78.2996 1994.5,-68.2996 1991,-78.2996 1998,-78.2996\"/>\n",
       "</g>\n",
       "<!-- 30 -->\n",
       "<g id=\"node31\" class=\"node\"><title>30</title>\n",
       "<polygon fill=\"none\" stroke=\"black\" points=\"2178,-68 2065,-68 2065,-0 2178,-0 2178,-68\"/>\n",
       "<text text-anchor=\"middle\" x=\"2121.5\" y=\"-52.8\" font-family=\"Helvetica,sans-Serif\" font-size=\"14.00\">gini = 0.38</text>\n",
       "<text text-anchor=\"middle\" x=\"2121.5\" y=\"-37.8\" font-family=\"Helvetica,sans-Serif\" font-size=\"14.00\">samples = 47</text>\n",
       "<text text-anchor=\"middle\" x=\"2121.5\" y=\"-22.8\" font-family=\"Helvetica,sans-Serif\" font-size=\"14.00\">value = [12, 35]</text>\n",
       "<text text-anchor=\"middle\" x=\"2121.5\" y=\"-7.8\" font-family=\"Helvetica,sans-Serif\" font-size=\"14.00\">class = Yes</text>\n",
       "</g>\n",
       "<!-- 28&#45;&gt;30 -->\n",
       "<g id=\"edge30\" class=\"edge\"><title>28-&gt;30</title>\n",
       "<path fill=\"none\" stroke=\"black\" d=\"M2041.79,-103.726C2052.69,-94.3318 2064.26,-84.349 2075.12,-74.9883\"/>\n",
       "<polygon fill=\"black\" stroke=\"black\" points=\"2077.59,-77.4804 2082.88,-68.2996 2073.02,-72.1789 2077.59,-77.4804\"/>\n",
       "</g>\n",
       "</g>\n",
       "</svg>"
      ],
      "text/plain": [
       "<IPython.core.display.SVG object>"
      ]
     },
     "metadata": {},
     "output_type": "display_data"
    }
   ],
   "source": [
    "tree = export_graphviz(treeclf2, out_file=None, feature_names=adult_train.columns, class_names=['No','Yes'])\n",
    "graph = Source(tree)\n",
    "display(SVG(graph.pipe(format='svg')))"
   ]
  },
  {
   "cell_type": "markdown",
   "id": "3c0f39f0",
   "metadata": {},
   "source": [
    "### Problem 2d"
   ]
  },
  {
   "cell_type": "markdown",
   "id": "b0bccfb4",
   "metadata": {},
   "source": [
    "#### Naive Bayes (Gaussian) Classifier"
   ]
  },
  {
   "cell_type": "code",
   "execution_count": 184,
   "id": "8f2eec6e",
   "metadata": {
    "scrolled": true
   },
   "outputs": [
    {
     "name": "stdout",
     "output_type": "stream",
     "text": [
      "Overall Average Accuracy: 0.72 (+/- 0.03)\n"
     ]
    }
   ],
   "source": [
    "nbclf = naive_bayes.GaussianNB()\n",
    "nbclf = nbclf.fit(adult_train, adult_target_train)\n",
    "cv_scores_nb_train = cross_val_score(nbclf, adult_train, adult_target_train, cv=10)\n",
    "print(\"Overall Average Accuracy: %0.2f (+/- %0.2f)\" % (cv_scores_nb_train.mean(), cv_scores_nb_train.std() * 2))"
   ]
  },
  {
   "cell_type": "code",
   "execution_count": 185,
   "id": "e7256e8a",
   "metadata": {},
   "outputs": [
    {
     "name": "stdout",
     "output_type": "stream",
     "text": [
      "Accuracy on Training:  0.7218754150617612\n"
     ]
    }
   ],
   "source": [
    "print(\"Accuracy on Training: \",  nbclf.score(adult_train, adult_target_train))"
   ]
  },
  {
   "cell_type": "markdown",
   "id": "1c0f05d8",
   "metadata": {},
   "source": [
    "#### The Cross Validation Accuracy on the Training and the Overall Average Accuracy are very close, this is a good sign that the model is not being underfit or overfit."
   ]
  },
  {
   "cell_type": "code",
   "execution_count": 186,
   "id": "246a59e4",
   "metadata": {},
   "outputs": [
    {
     "name": "stdout",
     "output_type": "stream",
     "text": [
      "Accuracy on Test:  0.7110993096123208\n"
     ]
    }
   ],
   "source": [
    "print(\"Accuracy on Test: \", nbclf.score(adult_test, adult_target_test))"
   ]
  },
  {
   "cell_type": "markdown",
   "id": "ef69f79e",
   "metadata": {},
   "source": [
    "#### Linear Discriminant Analysis Classifier"
   ]
  },
  {
   "cell_type": "code",
   "execution_count": 187,
   "id": "b67248b3",
   "metadata": {},
   "outputs": [
    {
     "name": "stdout",
     "output_type": "stream",
     "text": [
      "Overall Average Accuracy: 0.81 (+/- 0.02)\n"
     ]
    }
   ],
   "source": [
    "ldclf = LinearDiscriminantAnalysis()\n",
    "ldclf = ldclf.fit(adult_train, adult_target_train)\n",
    "cv_scores_ld_train = cross_val_score(ldclf, adult_train, adult_target_train, cv=10)\n",
    "print(\"Overall Average Accuracy: %0.2f (+/- %0.2f)\" % (cv_scores_ld_train.mean(), cv_scores_ld_train.std() * 2))"
   ]
  },
  {
   "cell_type": "code",
   "execution_count": 188,
   "id": "fb2bd327",
   "metadata": {},
   "outputs": [
    {
     "name": "stdout",
     "output_type": "stream",
     "text": [
      "Accuracy on Training:  0.8115287554788152\n"
     ]
    }
   ],
   "source": [
    "print(\"Accuracy on Training: \",  ldclf.score(adult_train, adult_target_train))"
   ]
  },
  {
   "cell_type": "markdown",
   "id": "77336477",
   "metadata": {},
   "source": [
    "#### The Cross Validation Accuracy on the Training and the Overall Average Accuracy are very close, this is a good sign that the model is not being underfit or overfit."
   ]
  },
  {
   "cell_type": "code",
   "execution_count": 189,
   "id": "098fcd6e",
   "metadata": {},
   "outputs": [
    {
     "name": "stdout",
     "output_type": "stream",
     "text": [
      "Accuracy on Test:  0.7992565055762082\n"
     ]
    }
   ],
   "source": [
    "print(\"Accuracy on Test: \", ldclf.score(adult_test, adult_target_test))"
   ]
  }
 ],
 "metadata": {
  "kernelspec": {
   "display_name": "Python 3 (ipykernel)",
   "language": "python",
   "name": "python3"
  },
  "language_info": {
   "codemirror_mode": {
    "name": "ipython",
    "version": 3
   },
   "file_extension": ".py",
   "mimetype": "text/x-python",
   "name": "python",
   "nbconvert_exporter": "python",
   "pygments_lexer": "ipython3",
   "version": "3.9.12"
  }
 },
 "nbformat": 4,
 "nbformat_minor": 5
}
