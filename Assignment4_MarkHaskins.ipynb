{
 "cells": [
  {
   "cell_type": "markdown",
   "id": "ffc5eaea",
   "metadata": {},
   "source": [
    "# Assignment 4"
   ]
  },
  {
   "cell_type": "markdown",
   "id": "cfe8f089",
   "metadata": {},
   "source": [
    "## Mark Haskins"
   ]
  },
  {
   "cell_type": "markdown",
   "id": "4b93336f",
   "metadata": {},
   "source": [
    "### Importing Libraries"
   ]
  },
  {
   "cell_type": "code",
   "execution_count": 266,
   "id": "8110a96a",
   "metadata": {},
   "outputs": [],
   "source": [
    "import numpy as np\n",
    "import pandas as pd\n",
    "from sklearn.preprocessing import MinMaxScaler\n",
    "from sklearn.cluster import KMeans \n",
    "from sklearn import metrics\n",
    "from sklearn.metrics import completeness_score, homogeneity_score\n",
    "from matplotlib import cm\n",
    "from sklearn.metrics import silhouette_samples\n",
    "import pylab as pl\n",
    "from sklearn import decomposition\n",
    "import matplotlib\n",
    "import matplotlib.pyplot as plt\n",
    "from numpy import *\n",
    "from numpy import linalg as la"
   ]
  },
  {
   "cell_type": "markdown",
   "id": "7ac609f2",
   "metadata": {},
   "source": [
    "### Problem 1a"
   ]
  },
  {
   "cell_type": "markdown",
   "id": "099a5b0e",
   "metadata": {},
   "source": [
    "#### Load in the image data matrix (with rows as images and columns as features)"
   ]
  },
  {
   "cell_type": "code",
   "execution_count": 248,
   "id": "22bb9d8c",
   "metadata": {},
   "outputs": [
    {
     "data": {
      "text/plain": [
       "matrix([[110.  , 189.  ,   9.  ,   0.  ,   0.  , ..., -11.11,  17.22,  18.67,   0.51,   1.91],\n",
       "        [ 86.  , 187.  ,   9.  ,   0.  ,   0.  , ..., -10.22,  16.44,  19.22,   0.46,   1.94],\n",
       "        [225.  , 244.  ,   9.  ,   0.  ,   0.  , ...,  -8.78,  14.56,  17.11,   0.48,   1.99],\n",
       "        [ 47.  , 232.  ,   9.  ,   0.  ,   0.  , ..., -11.11,  16.22,  18.11,   0.5 ,   1.88],\n",
       "        [ 97.  , 186.  ,   9.  ,   0.  ,   0.  , ..., -11.44,  16.56,  21.11,   0.44,   1.86],\n",
       "        ...,\n",
       "        [ 32.  , 158.  ,   9.  ,   0.  ,   0.  , ...,  11.78,  -6.89,  11.89,   0.52,  -1.98],\n",
       "        [  8.  , 162.  ,   9.  ,   0.11,   0.  , ...,  10.89,  -5.78,  12.  ,   0.48,  -2.04],\n",
       "        [128.  , 161.  ,   9.  ,   0.  ,   0.  , ...,  11.22,  -6.44,  10.89,   0.54,  -2.  ],\n",
       "        [150.  , 158.  ,   9.  ,   0.  ,   0.  , ...,  11.33,  -7.  ,  12.22,   0.5 ,  -1.94],\n",
       "        [124.  , 162.  ,   9.  ,   0.11,   0.  , ...,  13.56,  -7.44,  14.56,   0.48,  -2.03]])"
      ]
     },
     "execution_count": 248,
     "metadata": {},
     "output_type": "execute_result"
    }
   ],
   "source": [
    "data = pd.read_csv(\"segmentation_data.txt\", header=None)\n",
    "X = np.mat(data)\n",
    "X"
   ]
  },
  {
   "cell_type": "markdown",
   "id": "cc9df344",
   "metadata": {},
   "source": [
    "#### Load in the numeric class labels from the segmentation class file"
   ]
  },
  {
   "cell_type": "code",
   "execution_count": 249,
   "id": "0d3fa73f",
   "metadata": {},
   "outputs": [
    {
     "data": {
      "text/plain": [
       "array([0, 0, 0, 0, 0, ..., 3, 3, 3, 3, 3], dtype=int64)"
      ]
     },
     "execution_count": 249,
     "metadata": {},
     "output_type": "execute_result"
    }
   ],
   "source": [
    "classes = pd.read_csv(\"segmentation_classes.txt\", sep='\\t', header = None)\n",
    "#drop terms so matrix\n",
    "classes.drop([0], axis=1, inplace=True)\n",
    "#reindex\n",
    "classes.columns= range(1)\n",
    "#convert to array\n",
    "y = np.array(classes[0])\n",
    "y"
   ]
  },
  {
   "cell_type": "markdown",
   "id": "3bd949eb",
   "metadata": {},
   "source": [
    "#### Perform min-max normalization on the data matrix so that each feature is scaled to [0,1] range"
   ]
  },
  {
   "cell_type": "code",
   "execution_count": 250,
   "id": "c61b8c5f",
   "metadata": {},
   "outputs": [
    {
     "data": {
      "text/plain": [
       "array([[0.43, 0.74, 0.  , 0.  , 0.  , ..., 0.01, 0.87, 0.12, 0.51, 0.83],\n",
       "       [0.34, 0.73, 0.  , 0.  , 0.  , ..., 0.02, 0.86, 0.13, 0.46, 0.84],\n",
       "       [0.89, 0.97, 0.  , 0.  , 0.  , ..., 0.04, 0.83, 0.11, 0.48, 0.84],\n",
       "       [0.18, 0.92, 0.  , 0.  , 0.  , ..., 0.01, 0.86, 0.12, 0.5 , 0.83],\n",
       "       [0.38, 0.73, 0.  , 0.  , 0.  , ..., 0.01, 0.86, 0.14, 0.44, 0.82],\n",
       "       ...,\n",
       "       [0.12, 0.61, 0.  , 0.  , 0.  , ..., 0.26, 0.46, 0.08, 0.52, 0.18],\n",
       "       [0.03, 0.63, 0.  , 0.33, 0.  , ..., 0.25, 0.48, 0.08, 0.48, 0.17],\n",
       "       [0.5 , 0.62, 0.  , 0.  , 0.  , ..., 0.25, 0.47, 0.07, 0.54, 0.18],\n",
       "       [0.59, 0.61, 0.  , 0.  , 0.  , ..., 0.25, 0.46, 0.08, 0.5 , 0.18],\n",
       "       [0.49, 0.63, 0.  , 0.33, 0.  , ..., 0.28, 0.45, 0.1 , 0.48, 0.17]])"
      ]
     },
     "execution_count": 250,
     "metadata": {},
     "output_type": "execute_result"
    }
   ],
   "source": [
    "scaler = MinMaxScaler()\n",
    "model=scaler.fit(data)\n",
    "scaled_data=model.transform(data)\n",
    "#convert array back to matrix\n",
    "#X = np.mat(scaled_data) - not needed \n",
    "scaled_data"
   ]
  },
  {
   "cell_type": "markdown",
   "id": "6d7e1147",
   "metadata": {},
   "source": [
    "### Problem 1b"
   ]
  },
  {
   "cell_type": "markdown",
   "id": "e3be3880",
   "metadata": {},
   "source": [
    "#### Using the Kmeans implementation in scikit-learn to perfrom clustering on the image data. Using K = 7 \n"
   ]
  },
  {
   "cell_type": "code",
   "execution_count": 251,
   "id": "a36a00d6",
   "metadata": {},
   "outputs": [
    {
     "name": "stdout",
     "output_type": "stream",
     "text": [
      "Initialization complete\n",
      "Iteration 0, inertia 828.4692625725611\n",
      "Iteration 1, inertia 597.7496390746564\n",
      "Iteration 2, inertia 547.1583238980877\n",
      "Iteration 3, inertia 499.45316841370743\n",
      "Iteration 4, inertia 489.5090076359601\n",
      "Iteration 5, inertia 487.18164846594306\n",
      "Iteration 6, inertia 486.8872064231331\n",
      "Iteration 7, inertia 486.85923753444695\n",
      "Iteration 8, inertia 486.85474128903803\n",
      "Converged at iteration 8: center shift 1.061765356933183e-06 within tolerance 4.150156953284628e-06.\n",
      "Initialization complete\n",
      "Iteration 0, inertia 913.9020601648099\n",
      "Iteration 1, inertia 625.7053410114313\n",
      "Iteration 2, inertia 613.8954371941977\n",
      "Iteration 3, inertia 608.046968276318\n",
      "Iteration 4, inertia 601.9277495969691\n",
      "Iteration 5, inertia 593.0226254643998\n",
      "Iteration 6, inertia 579.9281548532483\n",
      "Iteration 7, inertia 564.7864602200043\n",
      "Iteration 8, inertia 544.2557975053934\n",
      "Iteration 9, inertia 508.45692995333525\n",
      "Iteration 10, inertia 488.3686943590167\n",
      "Iteration 11, inertia 486.87020961258713\n",
      "Iteration 12, inertia 486.8477138826382\n",
      "Converged at iteration 12: center shift 3.7314479025223693e-06 within tolerance 4.150156953284628e-06.\n",
      "Initialization complete\n",
      "Iteration 0, inertia 763.1970481531162\n",
      "Iteration 1, inertia 579.2221892590682\n",
      "Iteration 2, inertia 532.2427293716144\n",
      "Iteration 3, inertia 495.1296976686745\n",
      "Iteration 4, inertia 487.5985646794641\n",
      "Iteration 5, inertia 486.93512418353794\n",
      "Iteration 6, inertia 486.8598967851918\n",
      "Iteration 7, inertia 486.85624011499385\n",
      "Converged at iteration 7: center shift 3.2183605853692005e-06 within tolerance 4.150156953284628e-06.\n",
      "Initialization complete\n",
      "Iteration 0, inertia 743.3234675847907\n",
      "Iteration 1, inertia 522.8014600932935\n",
      "Iteration 2, inertia 508.04822962822936\n",
      "Iteration 3, inertia 499.7514933253113\n",
      "Iteration 4, inertia 491.42736243182526\n",
      "Iteration 5, inertia 487.4073769645025\n",
      "Iteration 6, inertia 486.88580699745216\n",
      "Iteration 7, inertia 486.8569604343061\n",
      "Converged at iteration 7: center shift 7.803912474555761e-07 within tolerance 4.150156953284628e-06.\n",
      "Initialization complete\n",
      "Iteration 0, inertia 895.628989786661\n",
      "Iteration 1, inertia 513.0762086654574\n",
      "Iteration 2, inertia 488.02440693815\n",
      "Iteration 3, inertia 486.8605049202698\n",
      "Iteration 4, inertia 486.84513129164407\n",
      "Converged at iteration 4: strict convergence.\n",
      "Initialization complete\n",
      "Iteration 0, inertia 801.0206142609028\n",
      "Iteration 1, inertia 499.5015719997031\n",
      "Iteration 2, inertia 487.0466078708623\n",
      "Iteration 3, inertia 486.8440328061709\n",
      "Iteration 4, inertia 486.8411740784809\n",
      "Converged at iteration 4: strict convergence.\n",
      "Initialization complete\n",
      "Iteration 0, inertia 734.0250941187211\n",
      "Iteration 1, inertia 540.9691895095523\n",
      "Iteration 2, inertia 506.08233217484724\n",
      "Iteration 3, inertia 494.6118383578661\n",
      "Iteration 4, inertia 488.5156948440313\n",
      "Iteration 5, inertia 487.0357630219771\n",
      "Iteration 6, inertia 486.8652254145254\n",
      "Iteration 7, inertia 486.856960434306\n",
      "Converged at iteration 7: center shift 7.803912474555886e-07 within tolerance 4.150156953284628e-06.\n",
      "Initialization complete\n",
      "Iteration 0, inertia 1026.5199365011424\n",
      "Iteration 1, inertia 586.6702496696781\n",
      "Iteration 2, inertia 532.775955223042\n",
      "Iteration 3, inertia 504.8268820438506\n",
      "Iteration 4, inertia 494.09839257117727\n",
      "Iteration 5, inertia 488.3792011017789\n",
      "Iteration 6, inertia 487.01785539240467\n",
      "Iteration 7, inertia 486.8652254145254\n",
      "Iteration 8, inertia 486.85696043430596\n",
      "Converged at iteration 8: center shift 7.803912474555728e-07 within tolerance 4.150156953284628e-06.\n",
      "Initialization complete\n",
      "Iteration 0, inertia 769.1076353843193\n",
      "Iteration 1, inertia 510.65785624625437\n",
      "Iteration 2, inertia 489.48532083752906\n",
      "Iteration 3, inertia 487.0787761916789\n",
      "Iteration 4, inertia 486.8895006356861\n",
      "Iteration 5, inertia 486.84773461424925\n",
      "Iteration 6, inertia 486.8411740784809\n",
      "Converged at iteration 6: strict convergence.\n",
      "Initialization complete\n",
      "Iteration 0, inertia 796.4098598686178\n",
      "Iteration 1, inertia 488.5060856769618\n",
      "Iteration 2, inertia 486.87207663463226\n",
      "Iteration 3, inertia 486.85624011499385\n",
      "Converged at iteration 3: center shift 3.2183605853691315e-06 within tolerance 4.150156953284628e-06.\n"
     ]
    },
    {
     "data": {
      "text/plain": [
       "KMeans(max_iter=500, n_clusters=4, verbose=1)"
      ]
     },
     "execution_count": 251,
     "metadata": {},
     "output_type": "execute_result"
    }
   ],
   "source": [
    "kmeans = KMeans(n_clusters=4, max_iter=500, verbose=1)\n",
    "kmeans.fit(scaled_data)"
   ]
  },
  {
   "cell_type": "markdown",
   "id": "11f15dae",
   "metadata": {},
   "source": [
    "#### Print the cluster centroids "
   ]
  },
  {
   "cell_type": "code",
   "execution_count": 252,
   "id": "15cacc7b",
   "metadata": {},
   "outputs": [
    {
     "data": {
      "text/html": [
       "<div>\n",
       "<style scoped>\n",
       "    .dataframe tbody tr th:only-of-type {\n",
       "        vertical-align: middle;\n",
       "    }\n",
       "\n",
       "    .dataframe tbody tr th {\n",
       "        vertical-align: top;\n",
       "    }\n",
       "\n",
       "    .dataframe thead th {\n",
       "        text-align: right;\n",
       "    }\n",
       "</style>\n",
       "<table border=\"1\" class=\"dataframe\">\n",
       "  <thead>\n",
       "    <tr style=\"text-align: right;\">\n",
       "      <th></th>\n",
       "      <th>(REGION-CENTROID-COL,)</th>\n",
       "      <th>(REGION-CENTROID-ROW,)</th>\n",
       "      <th>(REGION-PIXEL-COUNT,)</th>\n",
       "      <th>(SHORT-LINE-DENSITY-5,)</th>\n",
       "      <th>(SHORT-LINE-DENSITY-2,)</th>\n",
       "      <th>(VEDGE-MEAN,)</th>\n",
       "      <th>(VEDGE-SD,)</th>\n",
       "      <th>(HEDGE-MEAN,)</th>\n",
       "      <th>(HEDGE-SD,)</th>\n",
       "      <th>(INTENSITY-MEAN,)</th>\n",
       "      <th>(RAWRED-MEAN,)</th>\n",
       "      <th>(RAWBLUE-MEAN,)</th>\n",
       "      <th>(RAWGREEN-MEAN,)</th>\n",
       "      <th>(EXRED-MEAN,)</th>\n",
       "      <th>(EXBLUE-MEAN,)</th>\n",
       "      <th>(EXGREEN-MEAN,)</th>\n",
       "      <th>(VALUE-MEAN,)</th>\n",
       "      <th>(SATURATION-MEAN,)</th>\n",
       "      <th>(HUE-MEAN,)</th>\n",
       "    </tr>\n",
       "  </thead>\n",
       "  <tbody>\n",
       "    <tr>\n",
       "      <th>0</th>\n",
       "      <td>0.53</td>\n",
       "      <td>0.78</td>\n",
       "      <td>0.00</td>\n",
       "      <td>0.07</td>\n",
       "      <td>0.00</td>\n",
       "      <td>0.05</td>\n",
       "      <td>0.00</td>\n",
       "      <td>0.04</td>\n",
       "      <td>0.00</td>\n",
       "      <td>0.10</td>\n",
       "      <td>0.08</td>\n",
       "      <td>0.08</td>\n",
       "      <td>0.13</td>\n",
       "      <td>0.70</td>\n",
       "      <td>0.09</td>\n",
       "      <td>0.79</td>\n",
       "      <td>0.12</td>\n",
       "      <td>0.37</td>\n",
       "      <td>0.85</td>\n",
       "    </tr>\n",
       "    <tr>\n",
       "      <th>1</th>\n",
       "      <td>0.53</td>\n",
       "      <td>0.53</td>\n",
       "      <td>0.00</td>\n",
       "      <td>0.04</td>\n",
       "      <td>0.04</td>\n",
       "      <td>0.11</td>\n",
       "      <td>0.01</td>\n",
       "      <td>0.10</td>\n",
       "      <td>0.01</td>\n",
       "      <td>0.33</td>\n",
       "      <td>0.31</td>\n",
       "      <td>0.39</td>\n",
       "      <td>0.29</td>\n",
       "      <td>0.56</td>\n",
       "      <td>0.49</td>\n",
       "      <td>0.28</td>\n",
       "      <td>0.39</td>\n",
       "      <td>0.30</td>\n",
       "      <td>0.16</td>\n",
       "    </tr>\n",
       "    <tr>\n",
       "      <th>2</th>\n",
       "      <td>0.43</td>\n",
       "      <td>0.41</td>\n",
       "      <td>0.00</td>\n",
       "      <td>0.04</td>\n",
       "      <td>0.02</td>\n",
       "      <td>0.05</td>\n",
       "      <td>0.01</td>\n",
       "      <td>0.04</td>\n",
       "      <td>0.00</td>\n",
       "      <td>0.07</td>\n",
       "      <td>0.06</td>\n",
       "      <td>0.09</td>\n",
       "      <td>0.05</td>\n",
       "      <td>0.76</td>\n",
       "      <td>0.26</td>\n",
       "      <td>0.44</td>\n",
       "      <td>0.09</td>\n",
       "      <td>0.62</td>\n",
       "      <td>0.20</td>\n",
       "    </tr>\n",
       "    <tr>\n",
       "      <th>3</th>\n",
       "      <td>0.54</td>\n",
       "      <td>0.15</td>\n",
       "      <td>0.00</td>\n",
       "      <td>0.03</td>\n",
       "      <td>0.00</td>\n",
       "      <td>0.03</td>\n",
       "      <td>0.00</td>\n",
       "      <td>0.03</td>\n",
       "      <td>0.00</td>\n",
       "      <td>0.82</td>\n",
       "      <td>0.78</td>\n",
       "      <td>0.89</td>\n",
       "      <td>0.79</td>\n",
       "      <td>0.27</td>\n",
       "      <td>0.67</td>\n",
       "      <td>0.29</td>\n",
       "      <td>0.89</td>\n",
       "      <td>0.21</td>\n",
       "      <td>0.13</td>\n",
       "    </tr>\n",
       "  </tbody>\n",
       "</table>\n",
       "</div>"
      ],
      "text/plain": [
       "   (REGION-CENTROID-COL,)  (REGION-CENTROID-ROW,)  (REGION-PIXEL-COUNT,)  \\\n",
       "0                    0.53                    0.78                   0.00   \n",
       "1                    0.53                    0.53                   0.00   \n",
       "2                    0.43                    0.41                   0.00   \n",
       "3                    0.54                    0.15                   0.00   \n",
       "\n",
       "   (SHORT-LINE-DENSITY-5,)  (SHORT-LINE-DENSITY-2,)  (VEDGE-MEAN,)  \\\n",
       "0                     0.07                     0.00           0.05   \n",
       "1                     0.04                     0.04           0.11   \n",
       "2                     0.04                     0.02           0.05   \n",
       "3                     0.03                     0.00           0.03   \n",
       "\n",
       "   (VEDGE-SD,)  (HEDGE-MEAN,)  (HEDGE-SD,)  (INTENSITY-MEAN,)  (RAWRED-MEAN,)  \\\n",
       "0         0.00           0.04         0.00               0.10            0.08   \n",
       "1         0.01           0.10         0.01               0.33            0.31   \n",
       "2         0.01           0.04         0.00               0.07            0.06   \n",
       "3         0.00           0.03         0.00               0.82            0.78   \n",
       "\n",
       "   (RAWBLUE-MEAN,)  (RAWGREEN-MEAN,)  (EXRED-MEAN,)  (EXBLUE-MEAN,)  \\\n",
       "0             0.08              0.13           0.70            0.09   \n",
       "1             0.39              0.29           0.56            0.49   \n",
       "2             0.09              0.05           0.76            0.26   \n",
       "3             0.89              0.79           0.27            0.67   \n",
       "\n",
       "   (EXGREEN-MEAN,)  (VALUE-MEAN,)  (SATURATION-MEAN,)  (HUE-MEAN,)  \n",
       "0             0.79           0.12                0.37         0.85  \n",
       "1             0.28           0.39                0.30         0.16  \n",
       "2             0.44           0.09                0.62         0.20  \n",
       "3             0.29           0.89                0.21         0.13  "
      ]
     },
     "execution_count": 252,
     "metadata": {},
     "output_type": "execute_result"
    }
   ],
   "source": [
    "names = pd.read_csv(\"segmentation_names.txt\", header=None)\n",
    "clusters = kmeans.predict(scaled_data)\n",
    "pd.options.display.float_format='{:,.2f}'.format\n",
    "centroids = pd.DataFrame(kmeans.cluster_centers_, columns=names)\n",
    "centroids"
   ]
  },
  {
   "cell_type": "markdown",
   "id": "c99fa681",
   "metadata": {},
   "source": [
    "#### Compute Silhouette values for all instances in the data"
   ]
  },
  {
   "cell_type": "code",
   "execution_count": 253,
   "id": "a39e6217",
   "metadata": {},
   "outputs": [
    {
     "data": {
      "text/plain": [
       "array([0.54, 0.53, 0.51, 0.49, 0.54, ..., 0.41, 0.33, 0.43, 0.39, 0.33])"
      ]
     },
     "execution_count": 253,
     "metadata": {},
     "output_type": "execute_result"
    }
   ],
   "source": [
    "silhouettes = metrics.silhouette_samples(scaled_data, clusters)\n",
    "silhouettes"
   ]
  },
  {
   "cell_type": "markdown",
   "id": "3058b324",
   "metadata": {},
   "source": [
    "#### Compute the overall mean Silhouette value"
   ]
  },
  {
   "cell_type": "code",
   "execution_count": 254,
   "id": "ec8594e6",
   "metadata": {},
   "outputs": [
    {
     "data": {
      "text/plain": [
       "0.38160981543092376"
      ]
     },
     "execution_count": 254,
     "metadata": {},
     "output_type": "execute_result"
    }
   ],
   "source": [
    "silhouettes.mean()"
   ]
  },
  {
   "cell_type": "code",
   "execution_count": 255,
   "id": "529563a0",
   "metadata": {},
   "outputs": [],
   "source": [
    "def plot_silhouettes(data, clusters, metric='euclidean'):\n",
    "    \n",
    "    cluster_labels = np.unique(clusters)\n",
    "    n_clusters = cluster_labels.shape[0]\n",
    "    silhouette_vals = metrics.silhouette_samples(data, clusters, metric='euclidean')\n",
    "    c_ax_lower, c_ax_upper = 0, 0\n",
    "    cticks = []\n",
    "    for i, k in enumerate(cluster_labels):\n",
    "        c_silhouette_vals = silhouette_vals[clusters == k]\n",
    "        c_silhouette_vals.sort()\n",
    "        c_ax_upper += len(c_silhouette_vals)\n",
    "        color = cm.jet(float(i) / n_clusters)\n",
    "        pl.barh(range(c_ax_lower, c_ax_upper), c_silhouette_vals, height=1.0, \n",
    "                      edgecolor='none', color=color)\n",
    "\n",
    "        cticks.append((c_ax_lower + c_ax_upper) / 2)\n",
    "        c_ax_lower += len(c_silhouette_vals)\n",
    "    \n",
    "    silhouette_avg = np.mean(silhouette_vals)\n",
    "    pl.axvline(silhouette_avg, color=\"red\", linestyle=\"--\") \n",
    "\n",
    "    pl.yticks(cticks, cluster_labels)\n",
    "    pl.ylabel('Cluster')\n",
    "    pl.xlabel('Silhouette coefficient')\n",
    "\n",
    "    pl.tight_layout()\n",
    "    #pl.savefig('images/11_04.png', dpi=300)\n",
    "    pl.show()\n",
    "    \n",
    "    return"
   ]
  },
  {
   "cell_type": "code",
   "execution_count": 256,
   "id": "dfe8bcb1",
   "metadata": {},
   "outputs": [
    {
     "data": {
      "image/png": "[encoded data removed]",
      "text/plain": [
       "<Figure size 432x288 with 1 Axes>"
      ]
     },
     "metadata": {
      "needs_background": "light"
     },
     "output_type": "display_data"
    }
   ],
   "source": [
    "plot_silhouettes(scaled_data, clusters)"
   ]
  },
  {
   "cell_type": "markdown",
   "id": "9163289b",
   "metadata": {},
   "source": [
    "\n",
    "#### Compute Completeness and Homogeneity scores. The completeness score approaches 1 when most of the data points that are members of a given class are elements of the same cluster while the homogeneity score approaches 1 when all the clusters contain almost only data points that are member of a single class.\n"
   ]
  },
  {
   "cell_type": "code",
   "execution_count": 257,
   "id": "fda47084",
   "metadata": {},
   "outputs": [
    {
     "name": "stdout",
     "output_type": "stream",
     "text": [
      "Completeness Score: 0.8399857755070812\n",
      "Homogeneity Score: 0.5594575369803793\n"
     ]
    }
   ],
   "source": [
    "c = completeness_score(y,clusters)\n",
    "print(\"Completeness Score: \" + str(c))\n",
    "h = homogeneity_score(y,clusters)\n",
    "print(\"Homogeneity Score: \" + str(h))"
   ]
  },
  {
   "cell_type": "markdown",
   "id": "2c53f605",
   "metadata": {},
   "source": [
    "### Problem 1c"
   ]
  },
  {
   "cell_type": "markdown",
   "id": "36b93715",
   "metadata": {},
   "source": [
    "#### After substiniuting different values of K, I see that the mean Silhouette score, 0.3816, is highest when K=4. Because this value is closest to +1 this is indicating that the sample is far away from the neighboring cluster, so the sample is least likely to be assigned to the wrong cluster. Also, after visually the Silhouette plot, I can see that the thickness is roughly the same for all clusters when K = 4. "
   ]
  },
  {
   "cell_type": "markdown",
   "id": "38cd0702",
   "metadata": {},
   "source": [
    "### Problem 1d "
   ]
  },
  {
   "cell_type": "markdown",
   "id": "58131ad2",
   "metadata": {},
   "source": [
    "#### Perform PCA on the normalized image data matrix using scikit-learn decomposition moduel"
   ]
  },
  {
   "cell_type": "code",
   "execution_count": 258,
   "id": "7f90f220",
   "metadata": {},
   "outputs": [
    {
     "data": {
      "text/plain": [
       "array([[-0.69,  0.53,  0.25, -0.2 , -0.08, ...,  0.  ,  0.  , -0.  ,  0.  , -0.  ],\n",
       "       [-0.67,  0.51,  0.34, -0.17, -0.04, ..., -0.  , -0.  ,  0.  , -0.  , -0.  ],\n",
       "       [-0.71,  0.77, -0.16, -0.01, -0.17, ..., -0.  , -0.  ,  0.  ,  0.  ,  0.  ],\n",
       "       [-0.73,  0.51,  0.5 , -0.06, -0.14, ..., -0.  , -0.  , -0.  ,  0.  , -0.  ],\n",
       "       [-0.64,  0.53,  0.3 , -0.18, -0.02, ..., -0.  , -0.  ,  0.  ,  0.  , -0.  ],\n",
       "       ...,\n",
       "       [-0.5 , -0.26,  0.27,  0.11, -0.01, ...,  0.  , -0.  ,  0.  , -0.  ,  0.  ],\n",
       "       [-0.5 , -0.26,  0.38,  0.15,  0.03, ...,  0.  ,  0.  ,  0.  , -0.  ,  0.  ],\n",
       "       [-0.51, -0.13, -0.08,  0.1 , -0.03, ..., -0.  , -0.  , -0.  ,  0.  ,  0.  ],\n",
       "       [-0.48, -0.09, -0.16,  0.11,  0.  , ...,  0.  , -0.  , -0.  ,  0.  ,  0.  ],\n",
       "       [-0.44, -0.11, -0.05,  0.15,  0.02, ...,  0.  , -0.  , -0.  ,  0.  ,  0.  ]])"
      ]
     },
     "execution_count": 258,
     "metadata": {},
     "output_type": "execute_result"
    }
   ],
   "source": [
    "pca = decomposition.PCA()\n",
    "scaled_data_trans = pca.fit(scaled_data).transform(scaled_data)\n",
    "np.set_printoptions(precision=2,suppress=True, edgeitems=5, linewidth=120)\n",
    "scaled_data_trans"
   ]
  },
  {
   "cell_type": "markdown",
   "id": "94db4fd9",
   "metadata": {},
   "source": [
    "#### PCA is shwoing that 6 compoenents are needed to capture at  least 95% of variance in the data"
   ]
  },
  {
   "cell_type": "code",
   "execution_count": 259,
   "id": "43d77dbf",
   "metadata": {},
   "outputs": [
    {
     "name": "stdout",
     "output_type": "stream",
     "text": [
      "[0.61 0.13 0.1  0.05 0.04 0.02 0.02 0.02 0.01 0.01 0.   0.   0.   0.   0.   0.   0.   0.   0.  ]\n"
     ]
    }
   ],
   "source": [
    "print(pca.explained_variance_ratio_)"
   ]
  },
  {
   "cell_type": "markdown",
   "id": "03c27548",
   "metadata": {},
   "source": [
    "#### Scree plot of PC variances"
   ]
  },
  {
   "cell_type": "code",
   "execution_count": 260,
   "id": "28eca51c",
   "metadata": {},
   "outputs": [
    {
     "data": {
      "image/png": "[encoded data removed]",
      "text/plain": [
       "<Figure size 432x288 with 1 Axes>"
      ]
     },
     "metadata": {
      "needs_background": "light"
     },
     "output_type": "display_data"
    }
   ],
   "source": [
    "varPercentage = pca.explained_variance_ratio_*100\n",
    "fig = plt.figure()\n",
    "ax = fig.add_subplot(111)\n",
    "ax.plot(range(19), varPercentage[:], marker='^')\n",
    "plt.xlabel('Principal Component Number')\n",
    "plt.ylabel('Percentage of Variance')\n",
    "plt.show()"
   ]
  },
  {
   "cell_type": "markdown",
   "id": "d7bf0bd3",
   "metadata": {},
   "source": [
    "#### Use  r = 6  components as features to transform the data into a reduced dimension space."
   ]
  },
  {
   "cell_type": "code",
   "execution_count": 261,
   "id": "256c5c84",
   "metadata": {},
   "outputs": [
    {
     "data": {
      "text/plain": [
       "array([[-0.69,  0.53,  0.25, -0.2 , -0.08,  0.05],\n",
       "       [-0.67,  0.51,  0.34, -0.17, -0.04,  0.06],\n",
       "       [-0.71,  0.77, -0.16, -0.01, -0.17,  0.04],\n",
       "       [-0.73,  0.51,  0.5 , -0.06, -0.14,  0.03],\n",
       "       [-0.64,  0.53,  0.3 , -0.18, -0.02,  0.05],\n",
       "       ...,\n",
       "       [-0.5 , -0.26,  0.27,  0.11, -0.01, -0.01],\n",
       "       [-0.5 , -0.26,  0.38,  0.15,  0.03, -0.2 ],\n",
       "       [-0.51, -0.13, -0.08,  0.1 , -0.03, -0.03],\n",
       "       [-0.48, -0.09, -0.16,  0.11,  0.  , -0.  ],\n",
       "       [-0.44, -0.11, -0.05,  0.15,  0.02, -0.21]])"
      ]
     },
     "execution_count": 261,
     "metadata": {},
     "output_type": "execute_result"
    }
   ],
   "source": [
    "r = 6\n",
    "scaled_data_trans_reduced = scaled_data_trans[:,:r]\n",
    "scaled_data_trans_reduced"
   ]
  },
  {
   "cell_type": "markdown",
   "id": "76e8822b",
   "metadata": {},
   "source": [
    "### Problem 1e "
   ]
  },
  {
   "cell_type": "markdown",
   "id": "339518ed",
   "metadata": {},
   "source": [
    "#### Perform Kmeans again, but this time on the lower dimensional transformed data"
   ]
  },
  {
   "cell_type": "code",
   "execution_count": 262,
   "id": "897aa550",
   "metadata": {},
   "outputs": [
    {
     "name": "stdout",
     "output_type": "stream",
     "text": [
      "Initialization complete\n",
      "Iteration 0, inertia 678.9614721888713\n",
      "Iteration 1, inertia 392.9372182367972\n",
      "Iteration 2, inertia 391.3394910398803\n",
      "Iteration 3, inertia 391.1705877623249\n",
      "Iteration 4, inertia 391.1274082527841\n",
      "Iteration 5, inertia 391.1141139368342\n",
      "Converged at iteration 5: strict convergence.\n",
      "Initialization complete\n",
      "Iteration 0, inertia 718.5226499406358\n",
      "Iteration 1, inertia 440.8614185944933\n",
      "Iteration 2, inertia 396.1281589649079\n",
      "Iteration 3, inertia 391.1947338168538\n",
      "Iteration 4, inertia 391.1193369281902\n",
      "Converged at iteration 4: center shift 9.153157739825367e-07 within tolerance 1.2368605677310737e-05.\n",
      "Initialization complete\n",
      "Iteration 0, inertia 607.5243177720379\n",
      "Iteration 1, inertia 402.6698640127255\n",
      "Iteration 2, inertia 392.1532969679496\n",
      "Iteration 3, inertia 391.21250890973977\n",
      "Iteration 4, inertia 391.1249230793243\n",
      "Iteration 5, inertia 391.1131249123458\n",
      "Converged at iteration 5: strict convergence.\n",
      "Initialization complete\n",
      "Iteration 0, inertia 686.8258794858682\n",
      "Iteration 1, inertia 420.83182487933686\n",
      "Iteration 2, inertia 408.03059357666905\n",
      "Iteration 3, inertia 397.78031413115775\n",
      "Iteration 4, inertia 392.1054105593184\n",
      "Iteration 5, inertia 391.2195561661723\n",
      "Iteration 6, inertia 391.16144169478446\n",
      "Iteration 7, inertia 391.12069358322833\n",
      "Converged at iteration 7: center shift 2.8828843835782653e-06 within tolerance 1.2368605677310737e-05.\n",
      "Initialization complete\n",
      "Iteration 0, inertia 834.1019758036922\n",
      "Iteration 1, inertia 515.13402388371\n",
      "Iteration 2, inertia 503.02821668839226\n",
      "Iteration 3, inertia 491.9201469482017\n",
      "Iteration 4, inertia 475.5657207101305\n",
      "Iteration 5, inertia 457.7096470356291\n",
      "Iteration 6, inertia 436.1635543175326\n",
      "Iteration 7, inertia 400.43983989075093\n",
      "Iteration 8, inertia 391.2657675667668\n",
      "Iteration 9, inertia 391.1193369281901\n",
      "Converged at iteration 9: center shift 9.153157739824793e-07 within tolerance 1.2368605677310737e-05.\n",
      "Initialization complete\n",
      "Iteration 0, inertia 723.5699520847655\n",
      "Iteration 1, inertia 391.4360408919665\n",
      "Iteration 2, inertia 391.13781489928516\n",
      "Iteration 3, inertia 391.11870586812023\n",
      "Converged at iteration 3: strict convergence.\n",
      "Initialization complete\n",
      "Iteration 0, inertia 575.8887845900032\n",
      "Iteration 1, inertia 404.2941616105021\n",
      "Iteration 2, inertia 394.40347983234153\n",
      "Iteration 3, inertia 391.4996932244363\n",
      "Iteration 4, inertia 391.1809300660606\n",
      "Iteration 5, inertia 391.1372870654492\n",
      "Iteration 6, inertia 391.11870586812023\n",
      "Converged at iteration 6: strict convergence.\n",
      "Initialization complete\n",
      "Iteration 0, inertia 564.2315607128545\n",
      "Iteration 1, inertia 394.6767501687666\n",
      "Iteration 2, inertia 391.2376885142842\n",
      "Iteration 3, inertia 391.1196055166092\n",
      "Converged at iteration 3: center shift 3.3715231042299396e-06 within tolerance 1.2368605677310737e-05.\n",
      "Initialization complete\n",
      "Iteration 0, inertia 667.6912982337591\n",
      "Iteration 1, inertia 404.6828043154016\n",
      "Iteration 2, inertia 392.5307955660291\n",
      "Iteration 3, inertia 391.2267844211315\n",
      "Iteration 4, inertia 391.1290377304284\n",
      "Iteration 5, inertia 391.11726632152363\n",
      "Converged at iteration 5: strict convergence.\n",
      "Initialization complete\n",
      "Iteration 0, inertia 700.5476662391156\n",
      "Iteration 1, inertia 405.0724209835155\n",
      "Iteration 2, inertia 392.09677217979936\n",
      "Iteration 3, inertia 391.2044705486515\n",
      "Iteration 4, inertia 391.12236998207607\n",
      "Converged at iteration 4: center shift 6.519365792062013e-06 within tolerance 1.2368605677310737e-05.\n"
     ]
    }
   ],
   "source": [
    "kmeans = KMeans(n_clusters=4, max_iter=500, verbose=1)\n",
    "kmeans.fit(scaled_data_trans_reduced)\n",
    "clusters1 = kmeans.predict(scaled_data_trans_reduced)"
   ]
  },
  {
   "cell_type": "code",
   "execution_count": 263,
   "id": "e2646ad3",
   "metadata": {},
   "outputs": [
    {
     "data": {
      "text/plain": [
       "array([0.57, 0.56, 0.54, 0.52, 0.58, ..., 0.44, 0.37, 0.46, 0.41, 0.37])"
      ]
     },
     "execution_count": 263,
     "metadata": {},
     "output_type": "execute_result"
    }
   ],
   "source": [
    "silhouettes1 = metrics.silhouette_samples(scaled_data_trans_reduced, clusters1)\n",
    "silhouettes1"
   ]
  },
  {
   "cell_type": "markdown",
   "id": "703dccee",
   "metadata": {},
   "source": [
    "#### Compare Silhouette values as well as completeness and Homogeneity values of the new clusters"
   ]
  },
  {
   "cell_type": "code",
   "execution_count": 264,
   "id": "5489abbf",
   "metadata": {},
   "outputs": [
    {
     "name": "stdout",
     "output_type": "stream",
     "text": [
      "New Clusters\n",
      "Mean Silhouette Score: 0.41760799731328\n",
      "Completeness Score: 0.8439038482490108\n",
      "Homogeneity Score: 0.5615373601726689\n",
      "\n",
      "Old Clusters:\n",
      "Mean Silhouette Score: 0.38160981543092376\n",
      "Completeness Score: 0.8399857755070812\n",
      "Homogeneity Score: 0.5594575369803793\n"
     ]
    }
   ],
   "source": [
    "print(\"New Clusters\")\n",
    "m1 = silhouettes1.mean()\n",
    "print(\"Mean Silhouette Score: \" + str(m1))\n",
    "c1 = completeness_score(y,clusters1)\n",
    "print(\"Completeness Score: \" + str(c1))\n",
    "h1 = homogeneity_score(y,clusters1)\n",
    "print(\"Homogeneity Score: \" + str(h1))\n",
    "print()\n",
    "print(\"Old Clusters:\")\n",
    "m = silhouettes.mean()\n",
    "print(\"Mean Silhouette Score: \" + str(m))\n",
    "c = completeness_score(y,clusters)\n",
    "print(\"Completeness Score: \" + str(c))\n",
    "h = homogeneity_score(y,clusters)\n",
    "print(\"Homogeneity Score: \" + str(h))"
   ]
  },
  {
   "cell_type": "markdown",
   "id": "93b65003",
   "metadata": {},
   "source": [
    "#### The New Cluster mean silhouette score is slightly higher. Because this value is closest to +1 than the full data set is indicating that the sample is far away from the neighboring cluster, so the sample is least likely to be assigned to the wrong cluster. Additionally the completeness scores and homogeneity scores are slightly higher. This is indicating that reducted dimensional representation clustering is performing better. "
   ]
  },
  {
   "cell_type": "markdown",
   "id": "dd7ba386",
   "metadata": {},
   "source": [
    "### Problem 2a"
   ]
  },
  {
   "cell_type": "markdown",
   "id": "fe5414cd",
   "metadata": {},
   "source": [
    "For this problem you will use a modified version of the item-based recommender algorithm from Ch. 14 of Machine Learning in Action and use it on joke ratings data based on Jester Online Joke Recommender System. The modified version of the code is provided in the module itemBasedRec.py. Most of the module will be used as is, but you will add some additional functionality.\n",
    "\n",
    "The data set contains two files. The file \"modified_jester_data.csv\" contains the ratings on 100 jokes by 1000 users (each row is a user profile). The ratings have been normalized to be between 1 and 21 (a 20-point scale), with 1 being the lowest rating. A zero indicated a missing rating. The file \"jokes.csv\" contains the joke ids mapped to the actual text of the jokes.\n",
    "\n",
    "Your tasks in this problem are the following (please also see comments for the function stubs in the provided module):"
   ]
  },
  {
   "cell_type": "markdown",
   "id": "e79e762d",
   "metadata": {},
   "source": [
    "#### Load in the joke ratings data and the joke text data into appropriate data structures"
   ]
  },
  {
   "cell_type": "code",
   "execution_count": 285,
   "id": "4c4fd851",
   "metadata": {},
   "outputs": [],
   "source": [
    "def load_data(file):\n",
    "    dataMat = np.genfromtxt(file,delimiter=',')\n",
    "    dataMat = np.mat(dataMat)\n",
    "    return dataMat\n",
    "\n",
    "def load_jokes(file):\n",
    "    jokes = np.genfromtxt(file, delimiter=',', dtype=str)\n",
    "    jokes = np.array(jokes[:,1])\n",
    "    return jokes\n",
    "\n",
    "jokes = load_jokes('jokes.csv')\n",
    "dataMat = load_data('modified_jester_data.csv')\n"
   ]
  },
  {
   "cell_type": "code",
   "execution_count": 272,
   "id": "e5ecd92b",
   "metadata": {},
   "outputs": [],
   "source": [
    "def euclidSim(inA,inB):\n",
    "    return 1.0 / (1.0 + la.norm(inA - inB))\n",
    "\n",
    "def pearsonSim(inA,inB):\n",
    "    if len(inA) < 3 : return 1.0\n",
    "    return 0.5 + 0.5 * corrcoef(inA, inB, rowvar = 0)[0][1]\n",
    "\n",
    "def cosineSim(inA,inB):\n",
    "    num = float(inA.T * inB)\n",
    "    denom = la.norm(inA)*la.norm(inB)\n",
    "    return 0.5 + 0.5 * (num / denom)\n",
    "\n",
    "def standEst(dataMat, user, simMeas, item):\n",
    "    n = shape(dataMat)[1]\n",
    "    simTotal = 0.0; ratSimTotal = 0.0\n",
    "    data=mat(dataMat)\n",
    "    for j in range(n):\n",
    "        userRating = data[user,j]\n",
    "        if userRating == 0: continue\n",
    "        overLap = nonzero(logical_and(data[:,item]>0, data[:,j]>0))[0]\n",
    "        if len(overLap) == 0:\n",
    "            similarity = 0\n",
    "        else:\n",
    "            similarity = simMeas(data[overLap,item], data[overLap,j])\n",
    "        #print('the %d and %d similarity is: %f' % (item, j, similarity))\n",
    "        simTotal += similarity\n",
    "        ratSimTotal += similarity * userRating\n",
    "    if simTotal == 0: return 0\n",
    "    else: return ratSimTotal/simTotal\n",
    "\n",
    "def svdEst(dataMat, user, simMeas, item):\n",
    "    n = shape(dataMat)[1]\n",
    "    k = 4 #number of dimension for SVD\n",
    "    simTotal = 0.0; ratSimTotal = 0.0\n",
    "    data=mat(dataMat)\n",
    "    U,Sigma,VT = la.svd(data)\n",
    "    Sig_k = mat(eye(k)*Sigma[:k]) #arrange Sig_k into a diagonal matrix\n",
    "    xformedItems = data.T * U[:,:k] * Sig_k.I  #create transformed items\n",
    "    for j in range(n):\n",
    "        userRating = data[user,j]\n",
    "        if userRating == 0 or j==item: continue\n",
    "        similarity = simMeas(xformedItems[item,:].T, xformedItems[j,:].T)\n",
    "        #print('the %d and %d similarity is: %f' % (item, j, similarity))\n",
    "        simTotal += similarity\n",
    "        ratSimTotal += similarity * userRating\n",
    "    if simTotal == 0: return 0\n",
    "    else: return ratSimTotal/simTotal\n",
    "\n",
    "def recommend(dataMat, user, N=3, simMeas=pearsonSim, estMethod=standEst):\n",
    "    unratedItems = nonzero(dataMat[user,:].A==0)[1] #find unrated items \n",
    "    if len(unratedItems) == 0: return 'you rated everything'\n",
    "    itemScores = []\n",
    "    for item in unratedItems:\n",
    "        estimatedScore = estMethod(dataMat, user, simMeas, item)\n",
    "        itemScores.append((item, estimatedScore))\n",
    "    return sorted(itemScores, key=lambda jj: jj[1], reverse=True)[:N]"
   ]
  },
  {
   "cell_type": "markdown",
   "id": "59bc64e9",
   "metadata": {},
   "source": [
    "#### Use the \"recommend\" function to provide top 5 joke recommendations for users with id 4 using both Pearson and cosine similarity measures. Pearson Similiary and Cosine Similarity recommended the first four same jokes with the last joke being different. Pearson similarity had a higher predicted rating across all 5 jokes."
   ]
  },
  {
   "cell_type": "code",
   "execution_count": 273,
   "id": "07aa7990",
   "metadata": {},
   "outputs": [
    {
     "name": "stdout",
     "output_type": "stream",
     "text": [
      "Cosine Similarity:\n",
      "Recommended Items for User 4\n",
      "Item  71 with predicted rating:  14.293754381681563\n",
      "Item  75 with predicted rating:  14.293605672411005\n",
      "Item  79 with predicted rating:  14.293063319114747\n",
      "Item  78 with predicted rating:  14.2908339103558\n",
      "Item  70 with predicted rating:  14.287092374768891\n",
      "\n",
      "Pearson Similarity:\n",
      "Recommended Items for User 4\n",
      "Item  71 with predicted rating:  14.413443009309447\n",
      "Item  75 with predicted rating:  14.397311198445264\n",
      "Item  79 with predicted rating:  14.382511887413443\n",
      "Item  78 with predicted rating:  14.356160763938075\n",
      "Item  72 with predicted rating:  14.334361485417928\n"
     ]
    }
   ],
   "source": [
    "user = 4\n",
    "recommendations_cs = recommend(dataMat, user, N=5, simMeas=cosineSim, estMethod=standEst)\n",
    "print(\"Cosine Similarity:\")\n",
    "print(\"Recommended Items for User\", user)\n",
    "for i, p in recommendations_cs:\n",
    "    print(\"Item \", i, \"with predicted rating: \", p)\n",
    "\n",
    "print()\n",
    "recommendations_p = recommend(dataMat, user, N=5, simMeas=pearsonSim, estMethod=standEst)\n",
    "print(\"Pearson Similarity:\")\n",
    "print(\"Recommended Items for User\", user)\n",
    "for i, p in recommendations_p:\n",
    "    print(\"Item \", i, \"with predicted rating: \", p)"
   ]
  },
  {
   "cell_type": "markdown",
   "id": "d4781f69",
   "metadata": {},
   "source": [
    "#### Top 5 recommendations for user with id 25 only with Pearson similarity using both the standard estimator and the SVD-based version. Standard Estimator had a slightly higher predicted rating. Both recommenders predicted 99 and 71, while the rest were different. "
   ]
  },
  {
   "cell_type": "code",
   "execution_count": 276,
   "id": "4c426134",
   "metadata": {},
   "outputs": [
    {
     "name": "stdout",
     "output_type": "stream",
     "text": [
      "Standard Estimator\n",
      "Recommended Items for User 25\n",
      "Item  99 with predicted rating:  15.324673571007686\n",
      "Item  71 with predicted rating:  15.324296950553675\n",
      "Item  97 with predicted rating:  15.322105340570541\n",
      "Item  82 with predicted rating:  15.301730225022272\n",
      "Item  91 with predicted rating:  15.294030630051065\n",
      "\n",
      "SVD Estimator\n",
      "Recommended Items for User 25\n",
      "Item  3 with predicted rating:  15.27708815474947\n",
      "Item  79 with predicted rating:  15.238062599769165\n",
      "Item  72 with predicted rating:  15.209188661833458\n",
      "Item  71 with predicted rating:  15.18502140590189\n",
      "Item  99 with predicted rating:  15.18056079973231\n"
     ]
    }
   ],
   "source": [
    "user = 25\n",
    "recommendations_standEst = recommend(dataMat, user, N=5, simMeas=pearsonSim, estMethod=standEst)\n",
    "print(\"Standard Estimator\")\n",
    "print(\"Recommended Items for User\", user)\n",
    "for i, p in recommendations_standEst:\n",
    "    print(\"Item \", i, \"with predicted rating: \", p)\n",
    "\n",
    "print()\n",
    "recommendations_svdEst = recommend(dataMat, user, N=5, simMeas=pearsonSim, estMethod=svdEst)\n",
    "print(\"SVD Estimator\")\n",
    "print(\"Recommended Items for User\", user)\n",
    "for i, p in recommendations_svdEst:\n",
    "    print(\"Item \", i, \"with predicted rating: \", p)\n"
   ]
  },
  {
   "cell_type": "markdown",
   "id": "7f2aa28c",
   "metadata": {},
   "source": [
    "### Problem 2b"
   ]
  },
  {
   "cell_type": "markdown",
   "id": "ad302207",
   "metadata": {},
   "source": [
    "#### Complete the definition for the function test"
   ]
  },
  {
   "cell_type": "code",
   "execution_count": 291,
   "id": "81bd5774",
   "metadata": {},
   "outputs": [],
   "source": [
    "def cross_validate_user(dataMat, user, test_ratio, estMethod=standEst, simMeas=pearsonSim):\n",
    "    dataMat = np.array(dataMat)\n",
    "    number_of_items = np.shape(dataMat)[1]\n",
    "    rated_items_by_user = np.array([i for i in range(number_of_items) if dataMat[user,i]>0])\n",
    "    test_size = int(test_ratio * len(rated_items_by_user))\n",
    "    test_indices = np.random.randint(0, len(rated_items_by_user), test_size)\n",
    "    withheld_items = rated_items_by_user[test_indices]\n",
    "    original_user_profile = np.copy(dataMat[user])\n",
    "    dataMat[user, withheld_items] = 0 # So that the withheld test items is not used in the rating estimation below\n",
    "    error_u = 0.0\n",
    "    count_u = len(withheld_items)\n",
    "\n",
    "    #Compute absolute error for user u over all test items\n",
    "    for item in withheld_items:\n",
    "    # Estimate rating on the withheld item\n",
    "        estimatedScore = estMethod(dataMat, user, simMeas, item)\n",
    "        error_u = error_u + abs(estimatedScore - original_user_profile[item])\t\n",
    "    # Now restore ratings of the withheld items to the user profile\n",
    "    for item in withheld_items:\n",
    "        dataMat[user, item] = original_user_profile[item]\n",
    "    # Return sum of absolute errors and the count of test cases for this user\n",
    "    # Note that these will have to be accumulated for each user to compute MAE\n",
    "    return error_u, count_u\n",
    "    \n",
    "def test(dataMat, test_ratio, estMethod, simMeas=pearsonSim):\n",
    "    totalError = 0.0\n",
    "    totalTestCases = 0.0\n",
    "    num_users = np.shape(dataMat)[0]\n",
    "    for user in range(num_users):\n",
    "        error_u, count_u = cross_validate_user(dataMat, user, test_ratio, estMethod)\n",
    "        totalError += error_u\n",
    "        totalTestCases += count_u\n",
    "    MAE = totalError/totalTestCases\n",
    "    return MAE"
   ]
  },
  {
   "cell_type": "markdown",
   "id": "887b6b29",
   "metadata": {},
   "source": [
    "#### Use this function to perform evaluation (with 20% test-ratio for each user) comparing MAE results using the rating prediction function \"standEst\" with results using the \"svdEst\" prediction function. "
   ]
  },
  {
   "cell_type": "code",
   "execution_count": 293,
   "id": "9076b37b",
   "metadata": {},
   "outputs": [
    {
     "name": "stdout",
     "output_type": "stream",
     "text": [
      "standEst MAE: 3.6945193735965827\n",
      "\n",
      "svdEst MAE: 3.6367251892336414\n"
     ]
    }
   ],
   "source": [
    "MAE_std = test(dataMat, 0.2, standEst, pearsonSim)\n",
    "print(\"standEst MAE: \" + str(MAE_std))\n",
    "print()\n",
    "MAE_svd = test(dataMat, 0.2, svdEst, pearsonSim)\n",
    "print(\"svdEst MAE: \" + str(MAE_svd))"
   ]
  },
  {
   "cell_type": "markdown",
   "id": "77cfdcc5",
   "metadata": {},
   "source": [
    "### Problem 2c"
   ]
  },
  {
   "cell_type": "markdown",
   "id": "e244588f",
   "metadata": {},
   "source": [
    "#### New function \"print_most_similar_jokes\" which outputs the most similar jokes (based on user ratings) to a specified query joke."
   ]
  },
  {
   "cell_type": "code",
   "execution_count": 299,
   "id": "df054b3b",
   "metadata": {},
   "outputs": [],
   "source": [
    "def knn_search(dataMat, queryJoke, k, simMeas=pearsonSim):\n",
    "    num_jokes = np.shape(dataMat)[1]\n",
    "    dlist = []\n",
    "    for j in range(num_jokes):\n",
    "        dist = simMeas(dataMat[queryJoke].T,dataMat[j].T)\n",
    "        indx=[dist,j]\n",
    "        dlist.append(indx)\n",
    "    dlist.sort() # sorting\n",
    "    # return the indexes of K nearest neighbors\n",
    "    return dlist[:k]\n",
    "\n",
    "def print_most_similar_jokes(dataMat, jokes, queryJoke, k, metric):\n",
    "    print(\"Selected Joke: Joke # \"+ str(queryJoke))\n",
    "    print(jokes[queryJoke]) \n",
    "    l = knn_search(dataMat, queryJoke,k, metric) \n",
    "    print(\"\\nRecommended Jokes: \")  \n",
    "    for i in range(len(l)):\n",
    "        print(\"Joke #\" + str(l[i][1]) + \" (Similarity: \"+ str(l[i][0]) + \")\")\n",
    "        print(jokes[l[i][1]])\n",
    "        print()   "
   ]
  },
  {
   "cell_type": "markdown",
   "id": "d0b3dc91",
   "metadata": {},
   "source": [
    "#### Show the top 3 most similar jokes to joke with id 9 using Pearson similarity."
   ]
  },
  {
   "cell_type": "code",
   "execution_count": 300,
   "id": "30649c73",
   "metadata": {},
   "outputs": [
    {
     "name": "stdout",
     "output_type": "stream",
     "text": [
      "Selected Joke: Joke # 9\n",
      "Two cannibals are eating a clown one turns to other and says: \"Does this taste funny to you?\n",
      "\n",
      "Recommended Jokes: \n",
      "Joke #23 (Similarity: 0.2919129781661205)\n",
      "What do you get when you run over a parakeet with a lawnmower? Shredded tweet.\n",
      "\n",
      "Joke #76 (Similarity: 0.36747606736856375)\n",
      "If pro- is the opposite of con- then congress must be the opposite of progress.\n",
      "\n",
      "Joke #78 (Similarity: 0.37913627056413823)\n",
      "Q: Ever wonder why the IRS calls it Form 1040?A: Because for every $50 that you earn you get 10 and they get 40.\n",
      "\n"
     ]
    }
   ],
   "source": [
    "print_most_similar_jokes(dataMat,jokes,9,3,pearsonSim)"
   ]
  },
  {
   "cell_type": "markdown",
   "id": "bd8c3bea",
   "metadata": {},
   "source": [
    "#### Show the top 3 most similar jokes to Joke with id 9 using cosine similarity."
   ]
  },
  {
   "cell_type": "code",
   "execution_count": 301,
   "id": "54f96bf6",
   "metadata": {},
   "outputs": [
    {
     "name": "stdout",
     "output_type": "stream",
     "text": [
      "Selected Joke: Joke # 9\n",
      "Two cannibals are eating a clown one turns to other and says: \"Does this taste funny to you?\n",
      "\n",
      "Recommended Jokes: \n",
      "Joke #97 (Similarity: 0.7842561487098592)\n",
      "Age and Womanhood1. Between the ages of 13 and 18 ... She is like Africa virgin and unexplored. 2. Between the ages of 19 and 35 ... She is like Asia hot and exotic. 3. Between the ages of 36 and 45 ... She is like America fully explored breathtakingly beautiful and free with her resources.4. Between the ages of 46 and 56 ...She is like Europe exhausted but still has points of interest. 5. After 56 she is like Australia ...Everybody knows it's down there but who gives a damn?\n",
      "\n",
      "Joke #68 (Similarity: 0.8025376286362309)\n",
      "This guys wife asks \"Honey if I died would you remarry?\" and he replies \"Well after a considerable period of grieving we all need companionship I guess I would.\"She then asks \"If I died and you remarried would she live in this house?\" and he replies \"We've spent a lot of time and money getting this house just the way we want it. I'm not going to get rid of my house I guess she would.\"\"If I died and you remarried and she lived in this house would she sleep in our bed?\" and he says \"That bed is brand new we just paid two thousand dollars for it it's going to last a long time I guess she would.\"So she asks \"If I died and you remarried and she lived in this house and slept in our bed would she use my golf clubs?\"\"Oh no she's left handed.\"\n",
      "\n",
      "Joke #53 (Similarity: 0.8117269926506239)\n",
      "The Pope dies and naturally goes to heaven. He's met by the reception committee and after a whirlwind tour he is told that he can enjoy any of the myriad of recreations available.He decides that he wants to read all of the ancient original text of theHoly Scriptures so he spends the next eon or so learning languages.After becoming a linguistic master he sits down in the library and begins to pour over every version of the Bible working back from most recent \"Easy Reading\" to the original script.All of a sudden there is a scream in the library. The Angels come running in only to find the Pope huddled in his chair crying to himself and muttering \"An 'R'! The scribes left out the 'R'.\" A particularly concerned Angel takes him aside offering comfort asks him what the problem is and what does he mean. After collecting his wits the Pope sobs again \"It's the letter 'R'. They left out the 'R'.The word was supposed to be CELEBRATE!\"\n",
      "\n"
     ]
    }
   ],
   "source": [
    "print_most_similar_jokes(dataMat,jokes,9,3,cosineSim)"
   ]
  },
  {
   "cell_type": "markdown",
   "id": "a9695112",
   "metadata": {},
   "source": [
    "### Problem 2D"
   ]
  },
  {
   "cell_type": "markdown",
   "id": "74320b05",
   "metadata": {},
   "source": [
    "#### I wasn't sure how to approach this problem and ran out of time. "
   ]
  }
 ],
 "metadata": {
  "kernelspec": {
   "display_name": "Python 3 (ipykernel)",
   "language": "python",
   "name": "python3"
  },
  "language_info": {
   "codemirror_mode": {
    "name": "ipython",
    "version": 3
   },
   "file_extension": ".py",
   "mimetype": "text/x-python",
   "name": "python",
   "nbconvert_exporter": "python",
   "pygments_lexer": "ipython3",
   "version": "3.9.12"
  }
 },
 "nbformat": 4,
 "nbformat_minor": 5
}
